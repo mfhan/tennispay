{
 "cells": [
  {
   "cell_type": "code",
   "execution_count": 1,
   "id": "10916da9-2e0f-48e5-bdc0-c083db8bdef8",
   "metadata": {},
   "outputs": [],
   "source": [
    "import pandas as pd\n",
    "from bs4 import BeautifulSoup \n",
    "import requests\n",
    "import datetime\n",
    "from datetime import date \n",
    "import time\n",
    "import json\n",
    "import csv\n",
    "import numpy as np\n",
    "import re\n",
    "import lxml.html\n",
    "import os\n",
    "import tabula"
   ]
  },
  {
   "cell_type": "code",
   "execution_count": 2,
   "id": "970c0e2f-ace9-43b7-9243-97adb618699c",
   "metadata": {},
   "outputs": [],
   "source": [
    "wta_path = \"https://wtafiles.wtatennis.com/pdf/rankings/All_YTD_Prize_Money.pdf\""
   ]
  },
  {
   "cell_type": "code",
   "execution_count": 3,
   "id": "e0f13c1d-5e02-49e5-80cb-23317ce81e31",
   "metadata": {},
   "outputs": [],
   "source": [
    "atp_path = \"https://www.protennislive.com/posting/ramr/current_prize.pdf\""
   ]
  },
  {
   "cell_type": "code",
   "execution_count": 4,
   "id": "e944f622-5d74-451d-bce4-4951dbfb902f",
   "metadata": {},
   "outputs": [
    {
     "name": "stdout",
     "output_type": "stream",
     "text": [
      "11\n"
     ]
    }
   ],
   "source": [
    "wta_dfs = tabula.read_pdf(wta_path, stream=False, user_agent=\"Mozilla/5.0\", pages='1-11')\n",
    "# read_pdf returns list of DataFrames\n",
    "print(len(wta_dfs))"
   ]
  },
  {
   "cell_type": "code",
   "execution_count": 5,
   "id": "701171b8-cfc3-47bd-aa6c-c25865875219",
   "metadata": {},
   "outputs": [
    {
     "name": "stdout",
     "output_type": "stream",
     "text": [
      "    Standing                 Unnamed: 0  Name  Nat  Singles  Doubles    Mixed  \\\n",
      "0         93               BUREL, CLARA   NaN  FRA  479,101   20,370    5,000   \n",
      "1         94              MINNEN, GREET   NaN  BEL  390,947  107,891      NaN   \n",
      "2         95              NAVARRO, EMMA   NaN  USA  463,806   34,283      NaN   \n",
      "3         96       PARRIZAS DIAZ, NURIA   NaN  ESP  486,764    9,125      NaN   \n",
      "4         97            VOLYNETS, KATIE   NaN  USA  492,258      697      NaN   \n",
      "5         98               GALFI, DALMA   NaN  HUN  459,858   26,841      NaN   \n",
      "6         99           KALINSKAYA, ANNA   NaN  NaN  386,918   96,583      NaN   \n",
      "7        100            MARINO, REBECCA   NaN  CAN  455,476   25,081      NaN   \n",
      "8        101                JUVAN, KAJA   NaN  SLO  479,100      435      NaN   \n",
      "9        102           BAINDL, KATERYNA   NaN  UKR  464,741   13,929      NaN   \n",
      "10       103               KANEPI, KAIA   NaN  EST  462,316   13,374      NaN   \n",
      "11       104           BRENGLE, MADISON   NaN  USA  459,030   13,520      NaN   \n",
      "12       105             ROGERS, SHELBY   NaN  USA  435,590   26,507      NaN   \n",
      "13       106             NIEMEIER, JULE   NaN  GER  446,471   13,300      NaN   \n",
      "14       107             SHIBAHARA, ENA   NaN  JPN   26,155  385,903   38,554   \n",
      "15       108               RUS, ARANTXA   NaN  NED  391,495   46,435      NaN   \n",
      "16       109       RUSE, ELENA-GABRIELA   NaN  ROU  218,963  211,053      NaN   \n",
      "17       110          PETERSON, REBECCA   NaN  SWE  418,896    8,706      NaN   \n",
      "18       111          KORPATSCH, TAMARA   NaN  GER  411,177   13,688      NaN   \n",
      "19       112               PEREZ, ELLEN   NaN  AUS   52,585  337,020   33,100   \n",
      "20       113           ZANEVSKA, MARYNA   NaN  BEL  395,309   22,206      NaN   \n",
      "21       114             GRABHER, JULIA   NaN  AUT  407,156    9,331      NaN   \n",
      "22       115          BIRRELL, KIMBERLY   NaN  AUS  393,022    7,927    8,729   \n",
      "23       116              AOYAMA, SHUKO   NaN  JPN      NaN  407,342      NaN   \n",
      "24       117            CHAN, HAO-CHING   NaN  TPE    2,075  374,372   26,054   \n",
      "25       118         YASTREMSKA, DAYANA   NaN  UKR  393,457    5,624      NaN   \n",
      "26       119                 KATO, MIYU   NaN  JPN    7,420  264,347  126,000   \n",
      "27       120              DART, HARRIET   NaN  GBR  360,935   27,812      NaN   \n",
      "28       121            BRADY, JENNIFER   NaN  USA  286,937   99,525      NaN   \n",
      "29       122             BURRAGE, JODIE   NaN  GBR  366,412   15,897    4,000   \n",
      "30       123            GADECKI, OLIVIA   NaN  AUS  319,203   30,820   32,779   \n",
      "31       124        FRIEDSAM, ANNA-LENA   NaN  GER  348,481   33,698      NaN   \n",
      "32       125  MELICHAR-MARTINEZ, NICOLE   NaN  USA    6,860  357,144   13,554   \n",
      "33       126         GOLUBIC, VIKTORIJA   NaN  SUI  343,550   31,870      NaN   \n",
      "34       127            KRUEGER, ASHLYN   NaN  USA  338,585   29,218    7,100   \n",
      "35       128         MARTINCOVA, TEREZA   NaN  CZE  351,572   23,066      NaN   \n",
      "36       129         KICHENOK, LYUDMYLA   NaN  UKR      NaN  227,855  142,554   \n",
      "37       130              MCNALLY, CATY   NaN  USA  291,329   77,625      NaN   \n",
      "38       131             UDVARDY, PANNA   NaN  HUN  333,708   35,128      NaN   \n",
      "39       132             KOVINIC, DANKA   NaN  MNE  351,047   16,249      NaN   \n",
      "40       133          KRAWCZYK, DESIRAE   NaN  USA      NaN  320,635   41,779   \n",
      "41       134          WICKMAYER, YANINA   NaN  BEL  304,279   55,227      NaN   \n",
      "42       135        CRISTIAN, JAQUELINE   NaN  ROU  324,114   30,153      NaN   \n",
      "43       136              TAUSON, CLARA   NaN  DEN  353,423      NaN      NaN   \n",
      "44       137                 DAY, KAYLA   NaN  USA  349,704    1,580      NaN   \n",
      "45       138            OLMOS, GIULIANA   NaN  MEX    2,860  315,460   29,829   \n",
      "\n",
      "      Total  \n",
      "0   504,471  \n",
      "1   498,838  \n",
      "2   498,089  \n",
      "3   495,889  \n",
      "4   492,955  \n",
      "5   486,699  \n",
      "6   483,501  \n",
      "7   480,557  \n",
      "8   479,535  \n",
      "9   478,670  \n",
      "10  475,690  \n",
      "11  472,550  \n",
      "12  462,097  \n",
      "13  459,771  \n",
      "14  450,612  \n",
      "15  437,930  \n",
      "16  430,016  \n",
      "17  427,602  \n",
      "18  424,865  \n",
      "19  422,705  \n",
      "20  417,515  \n",
      "21  416,487  \n",
      "22  409,678  \n",
      "23  407,342  \n",
      "24  402,501  \n",
      "25  399,081  \n",
      "26  397,767  \n",
      "27  388,747  \n",
      "28  386,462  \n",
      "29  386,309  \n",
      "30  382,802  \n",
      "31  382,179  \n",
      "32  377,558  \n",
      "33  375,420  \n",
      "34  374,903  \n",
      "35  374,638  \n",
      "36  370,409  \n",
      "37  368,954  \n",
      "38  368,836  \n",
      "39  367,296  \n",
      "40  362,414  \n",
      "41  359,507  \n",
      "42  354,267  \n",
      "43  353,423  \n",
      "44  351,284  \n",
      "45  348,149  \n"
     ]
    }
   ],
   "source": [
    "print(wta_dfs[2])"
   ]
  },
  {
   "cell_type": "code",
   "execution_count": 6,
   "id": "a17ca638-7f39-4ab2-b6a2-a5edcc026b9d",
   "metadata": {},
   "outputs": [
    {
     "name": "stdout",
     "output_type": "stream",
     "text": [
      "Index(['Standing', 'Unnamed: 0', 'Name', 'Nat', 'Singles', 'Doubles', 'Mixed',\n",
      "       'Total'],\n",
      "      dtype='object')\n"
     ]
    }
   ],
   "source": [
    "#print(wta_dfs[2].columns)"
   ]
  },
  {
   "cell_type": "code",
   "execution_count": 7,
   "id": "48a4fe9a-faf0-479c-999a-72725af37650",
   "metadata": {},
   "outputs": [
    {
     "name": "stdout",
     "output_type": "stream",
     "text": [
      "    Standing                           Name  Nat Singles Doubles  Mixed  \\\n",
      "0        461               VISMANE, DANIELA  LAT  15,390   7,094    NaN   \n",
      "1        462                  LAHEY, ASHLEY  USA  15,427   6,975    NaN   \n",
      "2        463               STRUPLOVA, JULIE  CZE  19,780   2,554    NaN   \n",
      "3        464              COLMEGNA, MARTINA  ITA  19,059   3,159    NaN   \n",
      "4        465          VAN DER HOEK, ROSALIE  NED     152  22,033    NaN   \n",
      "5        466               COSTOULAS, SOFIA  BEL  17,249   4,685    NaN   \n",
      "6        467                 DINU, CRISTINA  ROU  17,219   4,706    NaN   \n",
      "7        468              BUYUKAKCAY, CAGLA  TUR  19,884   1,907    NaN   \n",
      "8        469                  DUERST, JENNY  SUI  14,306   7,192    NaN   \n",
      "9        470              KUZMOVA, KATARINA  SVK  17,959   3,407    NaN   \n",
      "10       471                HEWITT, DALAYNA  USA  12,951   8,375    NaN   \n",
      "11       472                 KUBKA, MARTYNA  POL  14,365   6,755    NaN   \n",
      "12       473            MARCINKEVICA, DIANA  LAT  14,049   6,886    NaN   \n",
      "13       474                       ITO, AOI  JPN  16,417   4,415    NaN   \n",
      "14       475         GARCIA PEREZ, GEORGINA  ESP  14,275   6,499    NaN   \n",
      "15       476               IATCENKO, POLINA  NaN  17,887   2,654    NaN   \n",
      "16       477                 JORGE, MATILDE  POR   8,511  11,784    NaN   \n",
      "17       478             BARTUNKOVA, NIKOLA  CZE  18,017   2,238    NaN   \n",
      "18       479                BHOSALE, RUTUJA  IND  14,470   5,639    NaN   \n",
      "19       480                   SMITH, ALANA  USA  16,204   3,873    NaN   \n",
      "20       481             WONG, HONG YI CODY  HKG  14,176   5,755    NaN   \n",
      "21       482                  HAAS, BARBARA  AUT  19,825     101    NaN   \n",
      "22       483                   ROGERS, ANNA  USA   6,508  13,286    NaN   \n",
      "23       484                   BACK, DAYEON  KOR  16,796   2,841    NaN   \n",
      "24       485               RYSER, VALENTINA  SUI  18,140   1,349    NaN   \n",
      "25       486                 OKAMURA, KYOKA  JPN  15,920   3,489    NaN   \n",
      "26       487                   CHANG, HANNA  USA  18,941     363    NaN   \n",
      "27       488                  GLUSHKO, LINA  ISR  14,665   4,603    NaN   \n",
      "28       489                  GAVRILA, OANA  ROU   9,405   9,765    NaN   \n",
      "29       490           SOBOLEVA, ANASTASIYA  UKR  17,858   1,240    NaN   \n",
      "30       491          CIRIC BAGARIC, LUCIJA  CRO  18,077   1,020    NaN   \n",
      "31       492              KOZAROV, KATARINA  SRB  16,842   2,215    NaN   \n",
      "32       493          DI LORENZO, FRANCESCA  USA  12,671   6,268    NaN   \n",
      "33       494              GABUEVA, ANGELINA  NaN   2,804  15,932    NaN   \n",
      "34       495               BOJICA, STEFANIA  ROU  16,629   2,042    NaN   \n",
      "35       496               STOSUR, SAMANTHA  AUS     NaN  14,082  4,554   \n",
      "36       497                  RADISIC, NIKA  SLO  10,026   8,567    NaN   \n",
      "37       498                  LEE, YA-HSUAN  TPE  15,699   2,826    NaN   \n",
      "38       499                MALYGINA, ELENA  EST  15,181   3,331    NaN   \n",
      "39       500            FOMINA-KLOTZ, ALENA  NaN   1,394  17,060    NaN   \n",
      "40       501                KURAMOCHI, MIHO  JPN  16,844   1,552    NaN   \n",
      "41       502             CHERUBINI, DILETTA  ITA  15,890   2,445    NaN   \n",
      "42       503               AMBROSIO, SILVIA  ITA  17,371     916    NaN   \n",
      "43       504  NAVARRO OLIVA, MARIA FERNANDA  MEX  12,798   5,449    NaN   \n",
      "44       505                 OSTLUND, FANNY  SWE  11,424   6,805    NaN   \n",
      "45       506             BERBEROVIC, NEFISA  BIH  15,913   2,286    NaN   \n",
      "\n",
      "     Total  \n",
      "0   22,485  \n",
      "1   22,402  \n",
      "2   22,334  \n",
      "3   22,218  \n",
      "4   22,186  \n",
      "5   21,934  \n",
      "6   21,926  \n",
      "7   21,792  \n",
      "8   21,498  \n",
      "9   21,367  \n",
      "10  21,326  \n",
      "11  21,120  \n",
      "12  20,935  \n",
      "13  20,832  \n",
      "14  20,775  \n",
      "15  20,542  \n",
      "16  20,295  \n",
      "17  20,255  \n",
      "18  20,109  \n",
      "19  20,077  \n",
      "20  19,931  \n",
      "21  19,926  \n",
      "22  19,794  \n",
      "23  19,637  \n",
      "24  19,489  \n",
      "25  19,410  \n",
      "26  19,304  \n",
      "27  19,268  \n",
      "28  19,171  \n",
      "29  19,098  \n",
      "30  19,097  \n",
      "31  19,057  \n",
      "32  18,939  \n",
      "33  18,736  \n",
      "34  18,671  \n",
      "35  18,636  \n",
      "36  18,594  \n",
      "37  18,526  \n",
      "38  18,512  \n",
      "39  18,455  \n",
      "40  18,396  \n",
      "41  18,335  \n",
      "42  18,287  \n",
      "43  18,248  \n",
      "44  18,229  \n",
      "45  18,200  \n"
     ]
    }
   ],
   "source": [
    "#print(wta_dfs[10])"
   ]
  },
  {
   "cell_type": "code",
   "execution_count": 9,
   "id": "b081b867-980b-48d3-8854-477bcbdb1fef",
   "metadata": {},
   "outputs": [
    {
     "ename": "NameError",
     "evalue": "name 'wta_df' is not defined",
     "output_type": "error",
     "traceback": [
      "\u001b[0;31m---------------------------------------------------------------------------\u001b[0m",
      "\u001b[0;31mNameError\u001b[0m                                 Traceback (most recent call last)",
      "Cell \u001b[0;32mIn[9], line 1\u001b[0m\n\u001b[0;32m----> 1\u001b[0m \u001b[43mwta_df\u001b[49m\u001b[38;5;241m.\u001b[39mdrop(columns\u001b[38;5;241m=\u001b[39m[\u001b[38;5;124m'\u001b[39m\u001b[38;5;124mName\u001b[39m\u001b[38;5;124m'\u001b[39m], inplace\u001b[38;5;241m=\u001b[39m\u001b[38;5;28;01mTrue\u001b[39;00m)\n",
      "\u001b[0;31mNameError\u001b[0m: name 'wta_df' is not defined"
     ]
    }
   ],
   "source": [
    "#DO NOT USE, WILL ERROR: \n",
    "#wta_df.drop(columns=['Name'], inplace=True)"
   ]
  },
  {
   "cell_type": "code",
   "execution_count": null,
   "id": "f10e8b9b-1053-4ae3-b6ae-0476bbaaedde",
   "metadata": {},
   "outputs": [],
   "source": [
    "#Faulty original failed to specify that \"name\" was a column \n",
    "# if (len(wta_df.columns) == 7):\n",
    "#     wta_df.drop('Name', inplace=True)\n",
    "#     wta_df.rename(columns={'Unnamed: 0': 'Name'}, inplace=True)"
   ]
  },
  {
   "cell_type": "code",
   "execution_count": 10,
   "id": "ccfebcf8-d567-492f-8bfd-eb91ccc84e2c",
   "metadata": {},
   "outputs": [],
   "source": [
    "#only keep the columns that are common to the two dfs\n",
    "#wta_dfs = wta_dfs[['Name', , ]\n",
    "women_df= pd.DataFrame([])\n",
    "\n",
    "for wta_df in wta_dfs:\n",
    "    if (len(wta_df.columns) == 8):\n",
    "        wta_df.drop(columns=['Name'], inplace=True)\n",
    "        wta_df.rename(columns={'Unnamed: 0': 'Name'}, inplace=True)\n",
    "    wta_df.rename(columns={'Standing': 'Rank'}, inplace=True)   \n",
    "    wta_df = wta_df[['Rank','Name', 'Total', 'Singles','Doubles' ]]\n",
    "    women_df = pd.concat([women_df, wta_df])\n",
    "    \n"
   ]
  },
  {
   "cell_type": "code",
   "execution_count": 11,
   "id": "8a4ffa8f-ef6c-401d-a64c-11169a8cba14",
   "metadata": {},
   "outputs": [
    {
     "name": "stdout",
     "output_type": "stream",
     "text": [
      "Index(['Rank', 'Name', 'Total', 'Singles', 'Doubles'], dtype='object')\n"
     ]
    }
   ],
   "source": [
    "print(women_df.columns)"
   ]
  },
  {
   "cell_type": "code",
   "execution_count": null,
   "id": "f50067b1-320d-4630-ae81-cba3b6a53fcf",
   "metadata": {},
   "outputs": [],
   "source": [
    "#previously: didn't have the INPLACE parameter "
   ]
  },
  {
   "cell_type": "code",
   "execution_count": 12,
   "id": "c9677c8d-80ca-4f19-aefd-cffda0c678b7",
   "metadata": {},
   "outputs": [],
   "source": [
    "women_df.reset_index(drop = True, inplace=True)"
   ]
  },
  {
   "cell_type": "code",
   "execution_count": 13,
   "id": "7828a93c-bb55-4983-9d98-b8bd083094b6",
   "metadata": {},
   "outputs": [],
   "source": [
    "#Cutting off at index 499\n",
    "women_df = women_df[women_df['Rank'] <= 500]"
   ]
  },
  {
   "cell_type": "code",
   "execution_count": 14,
   "id": "c78a9a9e-e905-4363-a7cf-d3fa8f8ce33e",
   "metadata": {},
   "outputs": [
    {
     "data": {
      "text/plain": [
       "500"
      ]
     },
     "execution_count": 14,
     "metadata": {},
     "output_type": "execute_result"
    }
   ],
   "source": [
    "#len(women_df)"
   ]
  },
  {
   "cell_type": "code",
   "execution_count": 48,
   "id": "2584eb78-df8d-442a-86a4-2122eb9c1ec1",
   "metadata": {},
   "outputs": [],
   "source": [
    "#women_df.to_csv(\"files/2023-10-09_wta.csv\")"
   ]
  },
  {
   "cell_type": "code",
   "execution_count": null,
   "id": "db2f46e3-84b5-4231-bc61-83f8b1d7793d",
   "metadata": {},
   "outputs": [],
   "source": [
    "#some columns have missing player names - pages == resolved thanks to RENAME "
   ]
  },
  {
   "cell_type": "code",
   "execution_count": 15,
   "id": "57d6ccdc-6a0d-4887-9ea9-7c0ceb6c49ec",
   "metadata": {},
   "outputs": [],
   "source": [
    "atp_dfs = tabula.read_pdf(atp_path, stream=True, user_agent=\"Mozilla/5.0\", pages='1-12', pandas_options={'header': None})"
   ]
  },
  {
   "cell_type": "code",
   "execution_count": 16,
   "id": "bee2552f-1ea9-489b-86b6-7771e9c6cb23",
   "metadata": {},
   "outputs": [
    {
     "name": "stdout",
     "output_type": "stream",
     "text": [
      "RangeIndex(start=0, stop=6, step=1)\n"
     ]
    }
   ],
   "source": [
    "#print(atp_dfs[0].columns)"
   ]
  },
  {
   "cell_type": "code",
   "execution_count": 17,
   "id": "7e03ed5e-c1b1-43d4-b6fc-3383bb41e047",
   "metadata": {},
   "outputs": [
    {
     "name": "stdout",
     "output_type": "stream",
     "text": [
      "     0                             1            2            3           4  \\\n",
      "0    1               Djokovic, Novak  $10,590,175  $10,581,665      $8,510   \n",
      "1    2               Alcaraz, Carlos   $9,603,879   $9,603,879          $0   \n",
      "2    3              Medvedev, Daniil   $7,833,244   $7,833,244          $0   \n",
      "3    4                Sinner, Jannik   $5,189,328   $5,138,315     $51,013   \n",
      "4    5                Rublev, Andrey   $4,731,576   $4,376,608    $354,968   \n",
      "5    6           Tsitsipas, Stefanos   $4,138,173   $4,004,628    $133,545   \n",
      "6    7             Zverev, Alexander   $3,645,582   $3,548,581     $97,001   \n",
      "7    8                 Fritz, Taylor   $3,370,858   $3,275,210     $95,648   \n",
      "8    9               Hurkacz, Hubert   $3,348,781   $3,250,532     $98,249   \n",
      "9   10                  Rune, Holger   $3,157,669   $3,135,158     $22,511   \n",
      "10  11                  Ruud, Casper   $3,042,290   $3,016,208     $26,082   \n",
      "11  12               de Minaur, Alex   $2,693,036   $2,611,602     $81,434   \n",
      "12  13               Tiafoe, Frances   $2,555,706   $2,479,170     $76,536   \n",
      "13  14              Khachanov, Karen   $2,493,112   $2,189,372    $303,740   \n",
      "14  15                   Paul, Tommy   $2,460,380   $2,400,937     $59,443   \n",
      "15  16              Dimitrov, Grigor   $2,189,436   $2,150,888     $38,548   \n",
      "16  17               Norrie, Cameron   $2,124,229   $2,037,402     $86,827   \n",
      "17  18                  Shelton, Ben   $2,121,570   $1,931,689    $189,881   \n",
      "18  19              Musetti, Lorenzo   $1,908,774   $1,863,395     $45,379   \n",
      "19  20          Cerundolo, Francisco   $1,843,941   $1,784,398     $59,543   \n",
      "20  21  Davidovich Fokina, Alejandro   $1,805,832   $1,766,779     $39,053   \n",
      "21  22                Jarry, Nicolas   $1,673,715   $1,639,389     $34,326   \n",
      "22  23                 Lehecka, Jiri   $1,621,192   $1,533,785     $87,407   \n",
      "23  24             Mannarino, Adrian   $1,594,422   $1,518,540     $75,882   \n",
      "24  25                 Evans, Daniel   $1,581,958   $1,491,941     $90,017   \n",
      "25  26              Korda, Sebastian   $1,525,530   $1,503,280     $22,250   \n",
      "26  27            Griekspoor, Tallon   $1,458,073   $1,333,379    $124,694   \n",
      "27  28             Bublik, Alexander   $1,425,108   $1,351,990     $73,118   \n",
      "28  29                  Coric, Borna   $1,423,273   $1,418,121      $5,152   \n",
      "29  30      Etcheverry, Tomas Martin   $1,411,239   $1,316,699     $94,540   \n",
      "30  31          Eubanks, Christopher   $1,405,068   $1,334,620     $70,448   \n",
      "31  32           McDonald, Mackenzie   $1,357,973   $1,173,844    $184,129   \n",
      "32  33           Struff, Jan-Lennard   $1,278,527   $1,240,777     $37,750   \n",
      "33  34               Baez, Sebastian   $1,260,463   $1,175,855     $84,608   \n",
      "34  35               Sonego, Lorenzo   $1,245,272   $1,205,538     $39,734   \n",
      "35  36                  Djere, Laslo   $1,232,303   $1,205,176     $27,127   \n",
      "36  37                  Humbert, Ugo   $1,215,829   $1,195,659     $20,170   \n",
      "37  38           Nishioka, Yoshihito   $1,203,742   $1,165,661     $38,081   \n",
      "38  39        Auger-Aliassime, Felix   $1,186,129   $1,107,948     $78,181   \n",
      "39  40                Wawrinka, Stan   $1,162,316   $1,120,067     $42,249   \n",
      "40  41      van de Zandschulp, Botic   $1,157,687     $958,082    $199,605   \n",
      "41  42              Krajicek, Austin   $1,097,698           $0  $1,097,698   \n",
      "42  43                 Kubler, Jason   $1,095,448     $745,575    $349,873   \n",
      "43  44              Safiullin, Roman   $1,092,256   $1,068,516     $23,740   \n",
      "\n",
      "               5  \n",
      "0   $175,281,484  \n",
      "1    $21,433,522  \n",
      "2    $34,433,626  \n",
      "3    $11,776,498  \n",
      "4    $19,715,035  \n",
      "5    $27,269,803  \n",
      "6    $36,550,638  \n",
      "7    $13,432,999  \n",
      "8    $12,179,259  \n",
      "9     $6,164,147  \n",
      "10   $16,095,527  \n",
      "11   $10,534,509  \n",
      "12    $9,807,882  \n",
      "13   $14,719,137  \n",
      "14    $6,170,351  \n",
      "15   $24,148,180  \n",
      "16   $10,074,701  \n",
      "17    $2,404,962  \n",
      "18    $4,618,939  \n",
      "19    $3,403,851  \n",
      "20    $5,328,047  \n",
      "21    $4,095,688  \n",
      "22    $2,573,526  \n",
      "23   $11,215,056  \n",
      "24    $7,866,215  \n",
      "25    $4,202,098  \n",
      "26    $3,020,676  \n",
      "27    $5,666,761  \n",
      "28   $11,536,029  \n",
      "29    $2,102,575  \n",
      "30    $2,570,757  \n",
      "31    $5,049,541  \n",
      "32    $8,984,557  \n",
      "33    $2,507,949  \n",
      "34    $5,563,570  \n",
      "35    $5,153,240  \n",
      "36    $4,578,541  \n",
      "37    $5,602,179  \n",
      "38   $11,389,726  \n",
      "39   $36,492,979  \n",
      "40    $3,647,540  \n",
      "41    $3,262,896  \n",
      "42    $2,348,792  \n",
      "43    $1,944,082  \n"
     ]
    }
   ],
   "source": [
    "#print(atp_dfs[0])"
   ]
  },
  {
   "cell_type": "code",
   "execution_count": 18,
   "id": "8f8a194b-940b-4f7c-9723-06820b7f58d0",
   "metadata": {},
   "outputs": [],
   "source": [
    "men_df= pd.DataFrame([])\n",
    "\n",
    "for atp_df in atp_dfs:\n",
    "    atp_df.columns = ['Rank', 'Name', 'Total', 'Singles','Doubles', 'Career']\n",
    "    atp_df = atp_df[['Rank','Name', 'Total', 'Singles','Doubles' ]]\n",
    "    men_df = pd.concat([men_df, atp_df])"
   ]
  },
  {
   "cell_type": "code",
   "execution_count": 19,
   "id": "7484e116-3b8e-4e0a-a5d1-5ad562188c7b",
   "metadata": {},
   "outputs": [],
   "source": [
    "men_df['Total'] = men_df['Total'].str.strip('$')"
   ]
  },
  {
   "cell_type": "code",
   "execution_count": 20,
   "id": "e5288fd9-7e7d-4a1e-93db-0e8647e4e2df",
   "metadata": {},
   "outputs": [],
   "source": [
    "men_df['Singles'] = men_df['Singles'].str.strip('$')"
   ]
  },
  {
   "cell_type": "code",
   "execution_count": 21,
   "id": "01c48c23-c0fe-4df3-9e04-33c41108ba9c",
   "metadata": {},
   "outputs": [],
   "source": [
    "men_df['Doubles'] = men_df['Doubles'].str.strip('$')"
   ]
  },
  {
   "cell_type": "code",
   "execution_count": 65,
   "id": "ed2a8448-faa3-41d4-98b0-84954cfb0431",
   "metadata": {},
   "outputs": [],
   "source": [
    "#NOT WORKING: men_df[\"Rank\"] = men_df[\"Rank\"].astype(int)"
   ]
  },
  {
   "cell_type": "code",
   "execution_count": 22,
   "id": "0442d1a7-9499-4c80-a420-20d0becb6ed8",
   "metadata": {},
   "outputs": [
    {
     "name": "stdout",
     "output_type": "stream",
     "text": [
      "Index(['Rank', 'Name', 'Total', 'Singles', 'Doubles'], dtype='object')\n"
     ]
    }
   ],
   "source": [
    "#print(men_df.columns)"
   ]
  },
  {
   "cell_type": "code",
   "execution_count": 23,
   "id": "d00dc3bc-bd94-431a-97a8-49f0cb5987d2",
   "metadata": {
    "scrolled": true
   },
   "outputs": [],
   "source": [
    "men_df.reset_index(drop = True, inplace=True)"
   ]
  },
  {
   "cell_type": "code",
   "execution_count": null,
   "id": "ff4c8545-faf7-45c2-b7cb-d259b6b7948b",
   "metadata": {},
   "outputs": [],
   "source": [
    "#WE JUST LOST DJOKOVIC!!!!  --> resolved with correct tabula formula "
   ]
  },
  {
   "cell_type": "code",
   "execution_count": 67,
   "id": "f1cf3142-0219-48e7-85d8-aec073af929a",
   "metadata": {},
   "outputs": [],
   "source": [
    "#NOT WORKING, either as int or as string \n",
    "#men_df = men_df[men_df['Rank'] <= 500]"
   ]
  },
  {
   "cell_type": "code",
   "execution_count": 24,
   "id": "ba5fb339-c6c6-4918-9cec-61acee30359e",
   "metadata": {},
   "outputs": [],
   "source": [
    "#we used the index \n",
    "men_df = men_df[men_df.index <= 499]"
   ]
  },
  {
   "cell_type": "code",
   "execution_count": 25,
   "id": "38d1d00d-2e39-4ce9-a664-820fec627dc6",
   "metadata": {},
   "outputs": [
    {
     "data": {
      "text/plain": [
       "500"
      ]
     },
     "execution_count": 25,
     "metadata": {},
     "output_type": "execute_result"
    }
   ],
   "source": [
    "#len(men_df)"
   ]
  },
  {
   "cell_type": "code",
   "execution_count": 19,
   "id": "5d7b867a-8661-4858-8834-54c4e325ba23",
   "metadata": {},
   "outputs": [],
   "source": [
    "#mkdir files \n",
    "#cd files \n",
    "#name each file with the date  \n",
    "#also store all weekly rank data in a single file, for atp and wta (\"all_weeks\")"
   ]
  },
  {
   "cell_type": "code",
   "execution_count": 20,
   "id": "c346a79b-4de0-437a-b267-6ceadaa40684",
   "metadata": {},
   "outputs": [],
   "source": [
    "#already done:\n",
    "#os.mkdir(\"files\")"
   ]
  },
  {
   "cell_type": "code",
   "execution_count": 26,
   "id": "7b9a7d90-bc4f-42d4-b350-dfe2d83884bd",
   "metadata": {},
   "outputs": [],
   "source": [
    "date = date.today()"
   ]
  },
  {
   "cell_type": "code",
   "execution_count": 27,
   "id": "5fc9462c-4ae4-4de9-8284-015c0e0d0b76",
   "metadata": {},
   "outputs": [
    {
     "name": "stdout",
     "output_type": "stream",
     "text": [
      "2023-10-22\n"
     ]
    }
   ],
   "source": [
    "print(date)"
   ]
  },
  {
   "cell_type": "code",
   "execution_count": 28,
   "id": "217fbc2b-b87d-4f27-9211-ffdbbddecf16",
   "metadata": {},
   "outputs": [],
   "source": [
    "women_df.to_csv(f\"files/{date}_wta.csv\")"
   ]
  },
  {
   "cell_type": "code",
   "execution_count": null,
   "id": "f38b6fc1-b0c3-49c3-af13-9a47ea572aea",
   "metadata": {},
   "outputs": [],
   "source": [
    "#PROBLEM: the index vaues repeat themselves instead of being sequential == resolved via \"inplace=true\n",
    "#LETS SEE AFTER WE COMBINE "
   ]
  },
  {
   "cell_type": "code",
   "execution_count": 29,
   "id": "6a4314b5-54b1-4b26-bfab-f4b47fb21246",
   "metadata": {},
   "outputs": [],
   "source": [
    "men_df.to_csv(f\"files/{date}_atp.csv\")"
   ]
  },
  {
   "cell_type": "code",
   "execution_count": 30,
   "id": "81b6ef9d-3f78-4191-83fe-5fc4eb45e3d6",
   "metadata": {},
   "outputs": [],
   "source": [
    "men_df['gender'] = 'male'\n",
    "women_df['gender'] = 'female'"
   ]
  },
  {
   "cell_type": "code",
   "execution_count": 31,
   "id": "dfa8cf47-5b04-4155-bcb2-534c6d7a1477",
   "metadata": {},
   "outputs": [],
   "source": [
    "mixed_df = pd.concat([women_df, men_df])"
   ]
  },
  {
   "cell_type": "code",
   "execution_count": null,
   "id": "ebf36c51-bdfa-4072-a34e-7dfe94ebb52c",
   "metadata": {},
   "outputs": [],
   "source": [
    "#print(mixed_df)"
   ]
  },
  {
   "cell_type": "code",
   "execution_count": 32,
   "id": "d6c3910f-4743-4cd5-b818-7e8fb2383e38",
   "metadata": {
    "scrolled": true
   },
   "outputs": [
    {
     "name": "stdout",
     "output_type": "stream",
     "text": [
      "Rank                  56\n",
      "Name       PARKS, ALYCIA\n",
      "Total            762,894\n",
      "Singles          533,141\n",
      "Doubles          222,653\n",
      "gender            female\n",
      "Name: 55, dtype: object\n"
     ]
    }
   ],
   "source": [
    "#print(mixed_df.iloc[55])"
   ]
  },
  {
   "cell_type": "code",
   "execution_count": 33,
   "id": "1b51f6e1-9908-448c-8f91-952b7c88f48e",
   "metadata": {},
   "outputs": [
    {
     "name": "stdout",
     "output_type": "stream",
     "text": [
      "Rank                    53\n",
      "Name       Koolhof, Wesley\n",
      "Total              989,496\n",
      "Singles                  0\n",
      "Doubles            989,496\n",
      "gender                male\n",
      "Name: 52, dtype: object\n"
     ]
    }
   ],
   "source": [
    "#print(mixed_df.iloc[552])"
   ]
  },
  {
   "cell_type": "code",
   "execution_count": null,
   "id": "b83b7258-c6e2-4527-8504-4c92c8888774",
   "metadata": {},
   "outputs": [],
   "source": [
    "#problems with women_df from last session: \n",
    "# - ranks not in sequence: \n",
    "# - no names for some pages: \n",
    "# - doubles earnings missing last 3 digits:"
   ]
  },
  {
   "cell_type": "code",
   "execution_count": 34,
   "id": "2d7e13ca-5b9e-4ff2-b06d-9e839dbb1c9b",
   "metadata": {},
   "outputs": [],
   "source": [
    "#mixed_df.reset_index(inplace=True)\n",
    "mixed_df.reset_index(drop = True, inplace=True)"
   ]
  },
  {
   "cell_type": "code",
   "execution_count": null,
   "id": "94fffc31-b6e7-47c2-83ac-4b61fe5fcf72",
   "metadata": {},
   "outputs": [],
   "source": [
    "#******** RETURN TO THIS AFTER "
   ]
  },
  {
   "cell_type": "code",
   "execution_count": 35,
   "id": "75dc7603-b257-46b7-bfac-eb039f2c01af",
   "metadata": {},
   "outputs": [],
   "source": [
    "#mixed_df.to_csv(f\"files/{date}_mixed.csv\")"
   ]
  },
  {
   "cell_type": "code",
   "execution_count": 81,
   "id": "79b46cec-9ee9-4306-938d-09ccdb4eb2d6",
   "metadata": {},
   "outputs": [],
   "source": [
    "#HOW/WHAT do we compare??\n",
    "#compare [gender]=women at RANK i vs gender - men at rank i\n",
    "#Do we keep the names or just the ranks? \n",
    "# what does DW show? \n",
    "#OPTION 1\n",
    "#weekly updated table of the difference between W1 M1\n",
    "#BUT if you hover over any of the rows, you get the info on absolute earnings and player name ()both are bound to change due to ranking change) \n",
    "#OPTION 2\n",
    "#Show difference at each rank, plus respective names??? CTA -- hover to see actual earnings$$ \n",
    "\n",
    "#create a new df called \"difference\" loop thru mixed df by looping with gender-female from rank 1 to 500, \n",
    "# then gender-male at rank value 1 to 500, \n"
   ]
  },
  {
   "cell_type": "code",
   "execution_count": null,
   "id": "7cea463a-3079-4393-85dc-64ddc9d96036",
   "metadata": {},
   "outputs": [],
   "source": [
    "# for player in mixed_df:\n",
    "#     if mixed_df[[gender = female && index ]]"
   ]
  },
  {
   "cell_type": "code",
   "execution_count": null,
   "id": "1cce4fcf-0b3f-47b3-a7f3-8a66e246b6b3",
   "metadata": {},
   "outputs": [],
   "source": [
    "# diff = 0\n",
    "# for woman in women_df: \n",
    "#     difference_df = pd.DataFrame()\n",
    "\n",
    "\n",
    "    \n",
    "    "
   ]
  },
  {
   "cell_type": "code",
   "execution_count": 82,
   "id": "ed73111f-4568-4a4b-8f1a-bdc02dc76112",
   "metadata": {},
   "outputs": [
    {
     "ename": "TypeError",
     "evalue": "unsupported operand type(s) for -: 'str' and 'str'",
     "output_type": "error",
     "traceback": [
      "\u001b[0;31m---------------------------------------------------------------------------\u001b[0m",
      "\u001b[0;31mTypeError\u001b[0m                                 Traceback (most recent call last)",
      "Cell \u001b[0;32mIn[82], line 8\u001b[0m\n\u001b[1;32m      6\u001b[0m women_total \u001b[38;5;241m=\u001b[39m women_df\u001b[38;5;241m.\u001b[39miloc[index][\u001b[38;5;124m'\u001b[39m\u001b[38;5;124mTotal\u001b[39m\u001b[38;5;124m'\u001b[39m]\n\u001b[1;32m      7\u001b[0m ranks\u001b[38;5;241m.\u001b[39mappend(index \u001b[38;5;241m+\u001b[39m \u001b[38;5;241m1\u001b[39m)\n\u001b[0;32m----> 8\u001b[0m diff\u001b[38;5;241m.\u001b[39mappend(\u001b[43mmen_total\u001b[49m\u001b[43m \u001b[49m\u001b[38;5;241;43m-\u001b[39;49m\u001b[43m \u001b[49m\u001b[43mwomen_total\u001b[49m)\n",
      "\u001b[0;31mTypeError\u001b[0m: unsupported operand type(s) for -: 'str' and 'str'"
     ]
    }
   ],
   "source": [
    "# ranks = []\n",
    "# diff = []\n",
    "\n",
    "# for index in women_df.index:\n",
    "#     men_total = men_df.iloc[index]['Total']\n",
    "#     women_total = women_df.iloc[index]['Total']\n",
    "#     ranks.append(index + 1)\n",
    "#     diff.append(men_total - women_total)\n",
    "    "
   ]
  },
  {
   "cell_type": "code",
   "execution_count": null,
   "id": "e659e647-3cc7-497e-ad5d-9670a2387eb2",
   "metadata": {},
   "outputs": [],
   "source": [
    "#remove commas "
   ]
  },
  {
   "cell_type": "code",
   "execution_count": 83,
   "id": "64d71217-4a40-4c03-8966-f4a70ff30cc3",
   "metadata": {},
   "outputs": [],
   "source": [
    "# men_total = int(men_df.iloc[index]['Total'].replace(',', ''))\n",
    "# women_total = int(women_df.iloc[index]['Total'].replace(',', ''))"
   ]
  },
  {
   "cell_type": "code",
   "execution_count": 84,
   "id": "79455197-e537-4843-ae8b-eb4366dd0228",
   "metadata": {},
   "outputs": [],
   "source": [
    "# ranks = []\n",
    "# diff = []\n",
    "\n",
    "# for index in women_df.index:\n",
    "#     men_total = int(men_df.iloc[index]['Total'].replace(',', ''))\n",
    "#     women_total = int(women_df.iloc[index]['Total'].replace(',', ''))\n",
    "#     ranks.append(index + 1)\n",
    "#     diff.append(men_total - women_total)"
   ]
  },
  {
   "cell_type": "code",
   "execution_count": 85,
   "id": "cf4f3349-2b3d-4e89-a2e1-a4453e419684",
   "metadata": {},
   "outputs": [
    {
     "data": {
      "text/plain": [
       "500"
      ]
     },
     "execution_count": 85,
     "metadata": {},
     "output_type": "execute_result"
    }
   ],
   "source": [
    "# len(diff)"
   ]
  },
  {
   "cell_type": "code",
   "execution_count": 86,
   "id": "4659f8e2-71ee-438a-bfc4-c81ba0d5b748",
   "metadata": {},
   "outputs": [],
   "source": [
    "# diff_df = pd.DataFrame([])\n",
    "# diff_df['Rank'] = ranks\n",
    "# diff_df['diff'] = diff"
   ]
  },
  {
   "cell_type": "code",
   "execution_count": 88,
   "id": "0228a369-8e49-4fda-9244-5725c89a8e93",
   "metadata": {},
   "outputs": [
    {
     "data": {
      "text/html": [
       "<div>\n",
       "<style scoped>\n",
       "    .dataframe tbody tr th:only-of-type {\n",
       "        vertical-align: middle;\n",
       "    }\n",
       "\n",
       "    .dataframe tbody tr th {\n",
       "        vertical-align: top;\n",
       "    }\n",
       "\n",
       "    .dataframe thead th {\n",
       "        text-align: right;\n",
       "    }\n",
       "</style>\n",
       "<table border=\"1\" class=\"dataframe\">\n",
       "  <thead>\n",
       "    <tr style=\"text-align: right;\">\n",
       "      <th></th>\n",
       "      <th>Rank</th>\n",
       "      <th>diff</th>\n",
       "    </tr>\n",
       "  </thead>\n",
       "  <tbody>\n",
       "    <tr>\n",
       "      <th>0</th>\n",
       "      <td>1</td>\n",
       "      <td>3220540</td>\n",
       "    </tr>\n",
       "    <tr>\n",
       "      <th>1</th>\n",
       "      <td>2</td>\n",
       "      <td>3949552</td>\n",
       "    </tr>\n",
       "    <tr>\n",
       "      <th>2</th>\n",
       "      <td>3</td>\n",
       "      <td>2321788</td>\n",
       "    </tr>\n",
       "    <tr>\n",
       "      <th>3</th>\n",
       "      <td>4</td>\n",
       "      <td>396936</td>\n",
       "    </tr>\n",
       "    <tr>\n",
       "      <th>4</th>\n",
       "      <td>5</td>\n",
       "      <td>-190467</td>\n",
       "    </tr>\n",
       "  </tbody>\n",
       "</table>\n",
       "</div>"
      ],
      "text/plain": [
       "   Rank     diff\n",
       "0     1  3220540\n",
       "1     2  3949552\n",
       "2     3  2321788\n",
       "3     4   396936\n",
       "4     5  -190467"
      ]
     },
     "execution_count": 88,
     "metadata": {},
     "output_type": "execute_result"
    }
   ],
   "source": [
    "# diff_df.head()"
   ]
  },
  {
   "cell_type": "code",
   "execution_count": null,
   "id": "adcb1098-5feb-4b33-90ed-8180fdcfb078",
   "metadata": {},
   "outputs": [],
   "source": [
    "#next: add names?? "
   ]
  },
  {
   "cell_type": "code",
   "execution_count": 89,
   "id": "d4a0b9ea-d9d7-4d2e-9944-7fb5316d2997",
   "metadata": {},
   "outputs": [],
   "source": [
    "# diff_df = pd.DataFrame([])\n",
    "# diff_df['Rank'] = ranks\n",
    "# diff_df['diff'] = diff\n",
    "# diff_df['women'] = women_df['Name']\n",
    "# diff_df['men'] = men_df['Name']"
   ]
  },
  {
   "cell_type": "code",
   "execution_count": 90,
   "id": "4541ddca-fa18-4ef5-983d-095f80630912",
   "metadata": {
    "scrolled": true
   },
   "outputs": [
    {
     "data": {
      "text/html": [
       "<div>\n",
       "<style scoped>\n",
       "    .dataframe tbody tr th:only-of-type {\n",
       "        vertical-align: middle;\n",
       "    }\n",
       "\n",
       "    .dataframe tbody tr th {\n",
       "        vertical-align: top;\n",
       "    }\n",
       "\n",
       "    .dataframe thead th {\n",
       "        text-align: right;\n",
       "    }\n",
       "</style>\n",
       "<table border=\"1\" class=\"dataframe\">\n",
       "  <thead>\n",
       "    <tr style=\"text-align: right;\">\n",
       "      <th></th>\n",
       "      <th>Rank</th>\n",
       "      <th>diff</th>\n",
       "      <th>women</th>\n",
       "      <th>men</th>\n",
       "    </tr>\n",
       "  </thead>\n",
       "  <tbody>\n",
       "    <tr>\n",
       "      <th>0</th>\n",
       "      <td>1</td>\n",
       "      <td>3220540</td>\n",
       "      <td>SABALENKA, ARYNA</td>\n",
       "      <td>Djokovic, Novak</td>\n",
       "    </tr>\n",
       "    <tr>\n",
       "      <th>1</th>\n",
       "      <td>2</td>\n",
       "      <td>3949552</td>\n",
       "      <td>GAUFF, COCO</td>\n",
       "      <td>Alcaraz, Carlos</td>\n",
       "    </tr>\n",
       "    <tr>\n",
       "      <th>2</th>\n",
       "      <td>3</td>\n",
       "      <td>2321788</td>\n",
       "      <td>SWIATEK, IGA</td>\n",
       "      <td>Medvedev, Daniil</td>\n",
       "    </tr>\n",
       "    <tr>\n",
       "      <th>3</th>\n",
       "      <td>4</td>\n",
       "      <td>396936</td>\n",
       "      <td>RYBAKINA, ELENA</td>\n",
       "      <td>Sinner, Jannik</td>\n",
       "    </tr>\n",
       "    <tr>\n",
       "      <th>4</th>\n",
       "      <td>5</td>\n",
       "      <td>-190467</td>\n",
       "      <td>VONDROUSOVA, MARKETA</td>\n",
       "      <td>Rublev, Andrey</td>\n",
       "    </tr>\n",
       "  </tbody>\n",
       "</table>\n",
       "</div>"
      ],
      "text/plain": [
       "   Rank     diff                 women               men\n",
       "0     1  3220540      SABALENKA, ARYNA   Djokovic, Novak\n",
       "1     2  3949552           GAUFF, COCO   Alcaraz, Carlos\n",
       "2     3  2321788          SWIATEK, IGA  Medvedev, Daniil\n",
       "3     4   396936       RYBAKINA, ELENA    Sinner, Jannik\n",
       "4     5  -190467  VONDROUSOVA, MARKETA    Rublev, Andrey"
      ]
     },
     "execution_count": 90,
     "metadata": {},
     "output_type": "execute_result"
    }
   ],
   "source": [
    "# diff_df.head(50)"
   ]
  },
  {
   "cell_type": "code",
   "execution_count": null,
   "id": "c3874d9a-8149-4677-8c9d-31b52613306a",
   "metadata": {},
   "outputs": [],
   "source": [
    "#NEXT: percentage difference "
   ]
  },
  {
   "cell_type": "code",
   "execution_count": 36,
   "id": "33dc3446-2f66-4843-8af8-23da62602c14",
   "metadata": {},
   "outputs": [],
   "source": [
    "#USE THE BELOW: \n",
    "ranks = []\n",
    "diff = []\n",
    "pct = []\n",
    "\n",
    "for index in women_df.index:\n",
    "    men_total = int(men_df.iloc[index]['Total'].replace(',', ''))\n",
    "    women_total = int(women_df.iloc[index]['Total'].replace(',', ''))\n",
    "    ranks.append(index + 1)\n",
    "    diff.append(men_total - women_total)\n",
    "    pct.append((women_total/men_total)*100)"
   ]
  },
  {
   "cell_type": "code",
   "execution_count": 37,
   "id": "7d7959bb-d71f-4d89-96e0-7cafecf0fed1",
   "metadata": {},
   "outputs": [],
   "source": [
    "diff_df = pd.DataFrame([])\n",
    "diff_df['Rank'] = ranks\n",
    "diff_df['diff'] = diff\n",
    "diff_df['pct'] = pct\n",
    "diff_df['women'] = women_df['Name']\n",
    "diff_df['men'] = men_df['Name']"
   ]
  },
  {
   "cell_type": "code",
   "execution_count": 38,
   "id": "49c1a862-9a43-434d-ae7e-c93b15e8191a",
   "metadata": {},
   "outputs": [
    {
     "data": {
      "text/html": [
       "<div>\n",
       "<style scoped>\n",
       "    .dataframe tbody tr th:only-of-type {\n",
       "        vertical-align: middle;\n",
       "    }\n",
       "\n",
       "    .dataframe tbody tr th {\n",
       "        vertical-align: top;\n",
       "    }\n",
       "\n",
       "    .dataframe thead th {\n",
       "        text-align: right;\n",
       "    }\n",
       "</style>\n",
       "<table border=\"1\" class=\"dataframe\">\n",
       "  <thead>\n",
       "    <tr style=\"text-align: right;\">\n",
       "      <th></th>\n",
       "      <th>Rank</th>\n",
       "      <th>diff</th>\n",
       "      <th>pct</th>\n",
       "      <th>women</th>\n",
       "      <th>men</th>\n",
       "    </tr>\n",
       "  </thead>\n",
       "  <tbody>\n",
       "    <tr>\n",
       "      <th>0</th>\n",
       "      <td>1</td>\n",
       "      <td>3035522</td>\n",
       "      <td>71.336432</td>\n",
       "      <td>SABALENKA, ARYNA</td>\n",
       "      <td>Djokovic, Novak</td>\n",
       "    </tr>\n",
       "    <tr>\n",
       "      <th>1</th>\n",
       "      <td>2</td>\n",
       "      <td>2824193</td>\n",
       "      <td>70.593205</td>\n",
       "      <td>SWIATEK, IGA</td>\n",
       "      <td>Alcaraz, Carlos</td>\n",
       "    </tr>\n",
       "    <tr>\n",
       "      <th>2</th>\n",
       "      <td>3</td>\n",
       "      <td>1856622</td>\n",
       "      <td>76.298172</td>\n",
       "      <td>GAUFF, COCO</td>\n",
       "      <td>Medvedev, Daniil</td>\n",
       "    </tr>\n",
       "    <tr>\n",
       "      <th>3</th>\n",
       "      <td>4</td>\n",
       "      <td>91891</td>\n",
       "      <td>98.229231</td>\n",
       "      <td>RYBAKINA, ELENA</td>\n",
       "      <td>Sinner, Jannik</td>\n",
       "    </tr>\n",
       "    <tr>\n",
       "      <th>4</th>\n",
       "      <td>5</td>\n",
       "      <td>410686</td>\n",
       "      <td>91.320313</td>\n",
       "      <td>PEGULA, JESSICA</td>\n",
       "      <td>Rublev, Andrey</td>\n",
       "    </tr>\n",
       "    <tr>\n",
       "      <th>5</th>\n",
       "      <td>6</td>\n",
       "      <td>-137105</td>\n",
       "      <td>103.313177</td>\n",
       "      <td>VONDROUSOVA, MARKETA</td>\n",
       "      <td>Tsitsipas, Stefanos</td>\n",
       "    </tr>\n",
       "    <tr>\n",
       "      <th>6</th>\n",
       "      <td>7</td>\n",
       "      <td>841144</td>\n",
       "      <td>76.927031</td>\n",
       "      <td>MUCHOVA, KAROLINA</td>\n",
       "      <td>Zverev, Alexander</td>\n",
       "    </tr>\n",
       "    <tr>\n",
       "      <th>7</th>\n",
       "      <td>8</td>\n",
       "      <td>572294</td>\n",
       "      <td>83.022305</td>\n",
       "      <td>JABEUR, ONS</td>\n",
       "      <td>Fritz, Taylor</td>\n",
       "    </tr>\n",
       "    <tr>\n",
       "      <th>8</th>\n",
       "      <td>9</td>\n",
       "      <td>860400</td>\n",
       "      <td>74.307069</td>\n",
       "      <td>KVITOVA, PETRA</td>\n",
       "      <td>Hurkacz, Hubert</td>\n",
       "    </tr>\n",
       "    <tr>\n",
       "      <th>9</th>\n",
       "      <td>10</td>\n",
       "      <td>750256</td>\n",
       "      <td>76.240195</td>\n",
       "      <td>SAKKARI, MARIA</td>\n",
       "      <td>Rune, Holger</td>\n",
       "    </tr>\n",
       "    <tr>\n",
       "      <th>10</th>\n",
       "      <td>11</td>\n",
       "      <td>685832</td>\n",
       "      <td>77.456718</td>\n",
       "      <td>KEYS, MADISON</td>\n",
       "      <td>Ruud, Casper</td>\n",
       "    </tr>\n",
       "    <tr>\n",
       "      <th>11</th>\n",
       "      <td>12</td>\n",
       "      <td>572500</td>\n",
       "      <td>78.741465</td>\n",
       "      <td>SAMSONOVA, LIUDMILA</td>\n",
       "      <td>de Minaur, Alex</td>\n",
       "    </tr>\n",
       "    <tr>\n",
       "      <th>12</th>\n",
       "      <td>13</td>\n",
       "      <td>457877</td>\n",
       "      <td>82.084129</td>\n",
       "      <td>KREJCIKOVA, BARBORA</td>\n",
       "      <td>Tiafoe, Frances</td>\n",
       "    </tr>\n",
       "    <tr>\n",
       "      <th>13</th>\n",
       "      <td>14</td>\n",
       "      <td>434595</td>\n",
       "      <td>82.568172</td>\n",
       "      <td>HADDAD MAIA, BEATRIZ</td>\n",
       "      <td>Khachanov, Karen</td>\n",
       "    </tr>\n",
       "    <tr>\n",
       "      <th>14</th>\n",
       "      <td>15</td>\n",
       "      <td>439520</td>\n",
       "      <td>82.136093</td>\n",
       "      <td>OSTAPENKO, JELENA</td>\n",
       "      <td>Paul, Tommy</td>\n",
       "    </tr>\n",
       "    <tr>\n",
       "      <th>15</th>\n",
       "      <td>16</td>\n",
       "      <td>396123</td>\n",
       "      <td>81.907532</td>\n",
       "      <td>LINETTE, MAGDA</td>\n",
       "      <td>Dimitrov, Grigor</td>\n",
       "    </tr>\n",
       "    <tr>\n",
       "      <th>16</th>\n",
       "      <td>17</td>\n",
       "      <td>373833</td>\n",
       "      <td>82.401474</td>\n",
       "      <td>AZARENKA, VICTORIA</td>\n",
       "      <td>Norrie, Cameron</td>\n",
       "    </tr>\n",
       "    <tr>\n",
       "      <th>17</th>\n",
       "      <td>18</td>\n",
       "      <td>392225</td>\n",
       "      <td>81.512512</td>\n",
       "      <td>GARCIA, CAROLINE</td>\n",
       "      <td>Shelton, Ben</td>\n",
       "    </tr>\n",
       "    <tr>\n",
       "      <th>18</th>\n",
       "      <td>19</td>\n",
       "      <td>192293</td>\n",
       "      <td>89.925837</td>\n",
       "      <td>MERTENS, ELISE</td>\n",
       "      <td>Musetti, Lorenzo</td>\n",
       "    </tr>\n",
       "    <tr>\n",
       "      <th>19</th>\n",
       "      <td>20</td>\n",
       "      <td>242013</td>\n",
       "      <td>86.875231</td>\n",
       "      <td>BENCIC, BELINDA</td>\n",
       "      <td>Cerundolo, Francisco</td>\n",
       "    </tr>\n",
       "  </tbody>\n",
       "</table>\n",
       "</div>"
      ],
      "text/plain": [
       "    Rank     diff         pct                 women                   men\n",
       "0      1  3035522   71.336432      SABALENKA, ARYNA       Djokovic, Novak\n",
       "1      2  2824193   70.593205          SWIATEK, IGA       Alcaraz, Carlos\n",
       "2      3  1856622   76.298172           GAUFF, COCO      Medvedev, Daniil\n",
       "3      4    91891   98.229231       RYBAKINA, ELENA        Sinner, Jannik\n",
       "4      5   410686   91.320313       PEGULA, JESSICA        Rublev, Andrey\n",
       "5      6  -137105  103.313177  VONDROUSOVA, MARKETA   Tsitsipas, Stefanos\n",
       "6      7   841144   76.927031     MUCHOVA, KAROLINA     Zverev, Alexander\n",
       "7      8   572294   83.022305           JABEUR, ONS         Fritz, Taylor\n",
       "8      9   860400   74.307069        KVITOVA, PETRA       Hurkacz, Hubert\n",
       "9     10   750256   76.240195        SAKKARI, MARIA          Rune, Holger\n",
       "10    11   685832   77.456718         KEYS, MADISON          Ruud, Casper\n",
       "11    12   572500   78.741465   SAMSONOVA, LIUDMILA       de Minaur, Alex\n",
       "12    13   457877   82.084129   KREJCIKOVA, BARBORA       Tiafoe, Frances\n",
       "13    14   434595   82.568172  HADDAD MAIA, BEATRIZ      Khachanov, Karen\n",
       "14    15   439520   82.136093     OSTAPENKO, JELENA           Paul, Tommy\n",
       "15    16   396123   81.907532        LINETTE, MAGDA      Dimitrov, Grigor\n",
       "16    17   373833   82.401474    AZARENKA, VICTORIA       Norrie, Cameron\n",
       "17    18   392225   81.512512      GARCIA, CAROLINE          Shelton, Ben\n",
       "18    19   192293   89.925837        MERTENS, ELISE      Musetti, Lorenzo\n",
       "19    20   242013   86.875231       BENCIC, BELINDA  Cerundolo, Francisco"
      ]
     },
     "execution_count": 38,
     "metadata": {},
     "output_type": "execute_result"
    }
   ],
   "source": [
    "#diff_df.head(20)"
   ]
  },
  {
   "cell_type": "code",
   "execution_count": 39,
   "id": "cb858b18-5cf9-4a51-990f-8c81202b4f53",
   "metadata": {},
   "outputs": [
    {
     "data": {
      "text/html": [
       "<div>\n",
       "<style scoped>\n",
       "    .dataframe tbody tr th:only-of-type {\n",
       "        vertical-align: middle;\n",
       "    }\n",
       "\n",
       "    .dataframe tbody tr th {\n",
       "        vertical-align: top;\n",
       "    }\n",
       "\n",
       "    .dataframe thead th {\n",
       "        text-align: right;\n",
       "    }\n",
       "</style>\n",
       "<table border=\"1\" class=\"dataframe\">\n",
       "  <thead>\n",
       "    <tr style=\"text-align: right;\">\n",
       "      <th></th>\n",
       "      <th>Rank</th>\n",
       "      <th>diff</th>\n",
       "      <th>pct</th>\n",
       "      <th>women</th>\n",
       "      <th>men</th>\n",
       "    </tr>\n",
       "  </thead>\n",
       "  <tbody>\n",
       "    <tr>\n",
       "      <th>470</th>\n",
       "      <td>471</td>\n",
       "      <td>19130</td>\n",
       "      <td>52.714060</td>\n",
       "      <td>HEWITT, DALAYNA</td>\n",
       "      <td>Furness, Evan</td>\n",
       "    </tr>\n",
       "    <tr>\n",
       "      <th>471</th>\n",
       "      <td>472</td>\n",
       "      <td>19064</td>\n",
       "      <td>52.558232</td>\n",
       "      <td>KUBKA, MARTYNA</td>\n",
       "      <td>Niklas-Salminen, Patrik</td>\n",
       "    </tr>\n",
       "    <tr>\n",
       "      <th>472</th>\n",
       "      <td>473</td>\n",
       "      <td>19054</td>\n",
       "      <td>52.351897</td>\n",
       "      <td>MARCINKEVICA, DIANA</td>\n",
       "      <td>Sabanov, Ivan</td>\n",
       "    </tr>\n",
       "    <tr>\n",
       "      <th>473</th>\n",
       "      <td>474</td>\n",
       "      <td>19157</td>\n",
       "      <td>52.094326</td>\n",
       "      <td>ITO, AOI</td>\n",
       "      <td>Sabanov, Matej</td>\n",
       "    </tr>\n",
       "    <tr>\n",
       "      <th>474</th>\n",
       "      <td>475</td>\n",
       "      <td>19005</td>\n",
       "      <td>52.224736</td>\n",
       "      <td>GARCIA PEREZ, GEORGINA</td>\n",
       "      <td>Mena, Facundo</td>\n",
       "    </tr>\n",
       "    <tr>\n",
       "      <th>475</th>\n",
       "      <td>476</td>\n",
       "      <td>19110</td>\n",
       "      <td>51.805710</td>\n",
       "      <td>IATCENKO, POLINA</td>\n",
       "      <td>Te, Rigele</td>\n",
       "    </tr>\n",
       "    <tr>\n",
       "      <th>476</th>\n",
       "      <td>477</td>\n",
       "      <td>19144</td>\n",
       "      <td>51.459215</td>\n",
       "      <td>JORGE, MATILDE</td>\n",
       "      <td>Harrison, Christian</td>\n",
       "    </tr>\n",
       "    <tr>\n",
       "      <th>477</th>\n",
       "      <td>478</td>\n",
       "      <td>19101</td>\n",
       "      <td>51.466104</td>\n",
       "      <td>BARTUNKOVA, NIKOLA</td>\n",
       "      <td>Bourgue, Mathias</td>\n",
       "    </tr>\n",
       "    <tr>\n",
       "      <th>478</th>\n",
       "      <td>479</td>\n",
       "      <td>19020</td>\n",
       "      <td>51.391551</td>\n",
       "      <td>BHOSALE, RUTUJA</td>\n",
       "      <td>Chandrasekar, Anirudh</td>\n",
       "    </tr>\n",
       "    <tr>\n",
       "      <th>479</th>\n",
       "      <td>480</td>\n",
       "      <td>18947</td>\n",
       "      <td>51.447827</td>\n",
       "      <td>SMITH, ALANA</td>\n",
       "      <td>Kingsley, Cannon</td>\n",
       "    </tr>\n",
       "    <tr>\n",
       "      <th>480</th>\n",
       "      <td>481</td>\n",
       "      <td>18865</td>\n",
       "      <td>51.373853</td>\n",
       "      <td>WONG, HONG YI CODY</td>\n",
       "      <td>Kuzuhara, Bruno</td>\n",
       "    </tr>\n",
       "    <tr>\n",
       "      <th>481</th>\n",
       "      <td>482</td>\n",
       "      <td>18798</td>\n",
       "      <td>51.456461</td>\n",
       "      <td>HAAS, BARBARA</td>\n",
       "      <td>Masur, Daniel</td>\n",
       "    </tr>\n",
       "    <tr>\n",
       "      <th>482</th>\n",
       "      <td>483</td>\n",
       "      <td>18762</td>\n",
       "      <td>51.338313</td>\n",
       "      <td>ROGERS, ANNA</td>\n",
       "      <td>Echargui, Moez</td>\n",
       "    </tr>\n",
       "    <tr>\n",
       "      <th>483</th>\n",
       "      <td>484</td>\n",
       "      <td>18738</td>\n",
       "      <td>51.171336</td>\n",
       "      <td>BACK, DAYEON</td>\n",
       "      <td>Li, Zhe</td>\n",
       "    </tr>\n",
       "    <tr>\n",
       "      <th>484</th>\n",
       "      <td>485</td>\n",
       "      <td>18880</td>\n",
       "      <td>50.793609</td>\n",
       "      <td>RYSER, VALENTINA</td>\n",
       "      <td>Fonio, Giovanni</td>\n",
       "    </tr>\n",
       "    <tr>\n",
       "      <th>485</th>\n",
       "      <td>486</td>\n",
       "      <td>18924</td>\n",
       "      <td>50.633902</td>\n",
       "      <td>OKAMURA, KYOKA</td>\n",
       "      <td>Forti, Francesco</td>\n",
       "    </tr>\n",
       "    <tr>\n",
       "      <th>486</th>\n",
       "      <td>487</td>\n",
       "      <td>18885</td>\n",
       "      <td>50.548587</td>\n",
       "      <td>CHANG, HANNA</td>\n",
       "      <td>Poullain, Lucas</td>\n",
       "    </tr>\n",
       "    <tr>\n",
       "      <th>487</th>\n",
       "      <td>488</td>\n",
       "      <td>18771</td>\n",
       "      <td>50.653277</td>\n",
       "      <td>GLUSHKO, LINA</td>\n",
       "      <td>Gengel, Marek</td>\n",
       "    </tr>\n",
       "    <tr>\n",
       "      <th>488</th>\n",
       "      <td>489</td>\n",
       "      <td>18834</td>\n",
       "      <td>50.443363</td>\n",
       "      <td>GAVRILA, OANA</td>\n",
       "      <td>Jacquet, Kyrian</td>\n",
       "    </tr>\n",
       "    <tr>\n",
       "      <th>489</th>\n",
       "      <td>490</td>\n",
       "      <td>18687</td>\n",
       "      <td>50.543867</td>\n",
       "      <td>SOBOLEVA, ANASTASIYA</td>\n",
       "      <td>Luz, Orlando</td>\n",
       "    </tr>\n",
       "    <tr>\n",
       "      <th>490</th>\n",
       "      <td>491</td>\n",
       "      <td>18282</td>\n",
       "      <td>51.090184</td>\n",
       "      <td>CIRIC BAGARIC, LUCIJA</td>\n",
       "      <td>Pervolarakis, Michail</td>\n",
       "    </tr>\n",
       "    <tr>\n",
       "      <th>491</th>\n",
       "      <td>492</td>\n",
       "      <td>18302</td>\n",
       "      <td>51.010466</td>\n",
       "      <td>KOZAROV, KATARINA</td>\n",
       "      <td>Weber, Arthur</td>\n",
       "    </tr>\n",
       "    <tr>\n",
       "      <th>492</th>\n",
       "      <td>493</td>\n",
       "      <td>18354</td>\n",
       "      <td>50.784329</td>\n",
       "      <td>DI LORENZO, FRANCESCA</td>\n",
       "      <td>Kirkin, Ergi</td>\n",
       "    </tr>\n",
       "    <tr>\n",
       "      <th>493</th>\n",
       "      <td>494</td>\n",
       "      <td>18511</td>\n",
       "      <td>50.302038</td>\n",
       "      <td>GABUEVA, ANGELINA</td>\n",
       "      <td>Kumar, Omni</td>\n",
       "    </tr>\n",
       "    <tr>\n",
       "      <th>494</th>\n",
       "      <td>495</td>\n",
       "      <td>18407</td>\n",
       "      <td>50.356006</td>\n",
       "      <td>BOJICA, STEFANIA</td>\n",
       "      <td>Kadhe, Arjun</td>\n",
       "    </tr>\n",
       "    <tr>\n",
       "      <th>495</th>\n",
       "      <td>496</td>\n",
       "      <td>18321</td>\n",
       "      <td>50.426171</td>\n",
       "      <td>STOSUR, SAMANTHA</td>\n",
       "      <td>Rola, Blaz</td>\n",
       "    </tr>\n",
       "    <tr>\n",
       "      <th>496</th>\n",
       "      <td>497</td>\n",
       "      <td>18187</td>\n",
       "      <td>50.553275</td>\n",
       "      <td>RADISIC, NIKA</td>\n",
       "      <td>Moeller, Marvin</td>\n",
       "    </tr>\n",
       "    <tr>\n",
       "      <th>497</th>\n",
       "      <td>498</td>\n",
       "      <td>18094</td>\n",
       "      <td>50.589842</td>\n",
       "      <td>LEE, YA-HSUAN</td>\n",
       "      <td>Nishikori, Kei</td>\n",
       "    </tr>\n",
       "    <tr>\n",
       "      <th>498</th>\n",
       "      <td>499</td>\n",
       "      <td>18091</td>\n",
       "      <td>50.575089</td>\n",
       "      <td>MALYGINA, ELENA</td>\n",
       "      <td>Ejupovic, Elmar</td>\n",
       "    </tr>\n",
       "    <tr>\n",
       "      <th>499</th>\n",
       "      <td>500</td>\n",
       "      <td>18049</td>\n",
       "      <td>50.556103</td>\n",
       "      <td>FOMINA-KLOTZ, ALENA</td>\n",
       "      <td>Prashanth, Vijay Sundar</td>\n",
       "    </tr>\n",
       "  </tbody>\n",
       "</table>\n",
       "</div>"
      ],
      "text/plain": [
       "     Rank   diff        pct                   women                      men\n",
       "470   471  19130  52.714060         HEWITT, DALAYNA            Furness, Evan\n",
       "471   472  19064  52.558232          KUBKA, MARTYNA  Niklas-Salminen, Patrik\n",
       "472   473  19054  52.351897     MARCINKEVICA, DIANA            Sabanov, Ivan\n",
       "473   474  19157  52.094326                ITO, AOI           Sabanov, Matej\n",
       "474   475  19005  52.224736  GARCIA PEREZ, GEORGINA            Mena, Facundo\n",
       "475   476  19110  51.805710        IATCENKO, POLINA               Te, Rigele\n",
       "476   477  19144  51.459215          JORGE, MATILDE      Harrison, Christian\n",
       "477   478  19101  51.466104      BARTUNKOVA, NIKOLA         Bourgue, Mathias\n",
       "478   479  19020  51.391551         BHOSALE, RUTUJA    Chandrasekar, Anirudh\n",
       "479   480  18947  51.447827            SMITH, ALANA         Kingsley, Cannon\n",
       "480   481  18865  51.373853      WONG, HONG YI CODY          Kuzuhara, Bruno\n",
       "481   482  18798  51.456461           HAAS, BARBARA            Masur, Daniel\n",
       "482   483  18762  51.338313            ROGERS, ANNA           Echargui, Moez\n",
       "483   484  18738  51.171336            BACK, DAYEON                  Li, Zhe\n",
       "484   485  18880  50.793609        RYSER, VALENTINA          Fonio, Giovanni\n",
       "485   486  18924  50.633902          OKAMURA, KYOKA         Forti, Francesco\n",
       "486   487  18885  50.548587            CHANG, HANNA          Poullain, Lucas\n",
       "487   488  18771  50.653277           GLUSHKO, LINA            Gengel, Marek\n",
       "488   489  18834  50.443363           GAVRILA, OANA          Jacquet, Kyrian\n",
       "489   490  18687  50.543867    SOBOLEVA, ANASTASIYA             Luz, Orlando\n",
       "490   491  18282  51.090184   CIRIC BAGARIC, LUCIJA    Pervolarakis, Michail\n",
       "491   492  18302  51.010466       KOZAROV, KATARINA            Weber, Arthur\n",
       "492   493  18354  50.784329   DI LORENZO, FRANCESCA             Kirkin, Ergi\n",
       "493   494  18511  50.302038       GABUEVA, ANGELINA              Kumar, Omni\n",
       "494   495  18407  50.356006        BOJICA, STEFANIA             Kadhe, Arjun\n",
       "495   496  18321  50.426171        STOSUR, SAMANTHA               Rola, Blaz\n",
       "496   497  18187  50.553275           RADISIC, NIKA          Moeller, Marvin\n",
       "497   498  18094  50.589842           LEE, YA-HSUAN           Nishikori, Kei\n",
       "498   499  18091  50.575089         MALYGINA, ELENA          Ejupovic, Elmar\n",
       "499   500  18049  50.556103     FOMINA-KLOTZ, ALENA  Prashanth, Vijay Sundar"
      ]
     },
     "execution_count": 39,
     "metadata": {},
     "output_type": "execute_result"
    }
   ],
   "source": [
    "#diff_df.tail(30)"
   ]
  },
  {
   "cell_type": "code",
   "execution_count": null,
   "id": "873ebf51-2f7b-4ea8-a9b0-c146b8205f83",
   "metadata": {},
   "outputs": [],
   "source": [
    "#SAVE THIS DIFF dataframe! --> feed to DW "
   ]
  },
  {
   "cell_type": "code",
   "execution_count": 3,
   "id": "def10487-2323-4959-b743-d41fa6d1ed84",
   "metadata": {},
   "outputs": [],
   "source": [
    "diff_df.to_csv(f\"files/{date}_diff.csv\")"
   ]
  },
  {
   "cell_type": "code",
   "execution_count": null,
   "id": "43d732b8-8f1f-4298-bff1-a237ced519ca",
   "metadata": {},
   "outputs": [],
   "source": [
    "#ALSO SAVE TO UNDATED csv!!! "
   ]
  },
  {
   "cell_type": "code",
   "execution_count": 4,
   "id": "4346dd7c-d6dc-4244-8a32-66c7d123e837",
   "metadata": {},
   "outputs": [],
   "source": [
    "diff_df.to_csv(\"latest_diff.csv\")"
   ]
  },
  {
   "cell_type": "code",
   "execution_count": 5,
   "id": "7820b13f-47b7-4551-9e7d-08a7b6fea010",
   "metadata": {},
   "outputs": [
    {
     "name": "stdout",
     "output_type": "stream",
     "text": [
      "OCT9.ipynb                \u001b[1m\u001b[36mfiles\u001b[m\u001b[m/                    pay_gap.ipynb\n",
      "README.md                 old_atp_live_ranking.csv  tennisOCT3.ipynb\n",
      "action.yml                old_tennispay.ipynb       tennisgpt.ipynb\n",
      "atp_live_ranking.csv      old_tennisweekly.ipynb    weekly_race_to_top.csv\n"
     ]
    }
   ],
   "source": [
    "ls "
   ]
  },
  {
   "cell_type": "code",
   "execution_count": 7,
   "id": "50f9cf51-c1af-48f7-9547-861d25ee18fb",
   "metadata": {},
   "outputs": [
    {
     "name": "stdout",
     "output_type": "stream",
     "text": [
      "total 6448\n",
      "drwxr-xr-x  19 mfhan  staff      608 Oct 22 22:21 \u001b[1m\u001b[36m.\u001b[m\u001b[m/\n",
      "drwxr-xr-x  10 mfhan  staff      320 Oct 15 19:37 \u001b[1m\u001b[36m..\u001b[m\u001b[m/\n",
      "-rw-r--r--@  1 mfhan  staff    10244 Oct 22 22:20 .DS_Store\n",
      "drwxr-xr-x  13 mfhan  staff      416 Oct 22 22:22 \u001b[1m\u001b[36m.git\u001b[m\u001b[m/\n",
      "drwxr-xr-x   4 mfhan  staff      128 Oct 22 22:20 \u001b[1m\u001b[36m.github\u001b[m\u001b[m/\n",
      "drwxr-xr-x  12 mfhan  staff      384 Oct 22 22:21 \u001b[1m\u001b[36m.ipynb_checkpoints\u001b[m\u001b[m/\n",
      "-rw-r--r--   1 mfhan  staff    87443 Oct  9 19:05 OCT9.ipynb\n",
      "-rw-r--r--   1 mfhan  staff       20 Oct 22 20:26 README.md\n",
      "-rw-r--r--   1 mfhan  staff        0 Oct 22 22:21 action.yml\n",
      "-rw-r--r--@  1 mfhan  staff       47 Sep 21 17:11 atp_live_ranking.csv\n",
      "drwxr-xr-x  16 mfhan  staff      512 Oct 22 20:56 \u001b[1m\u001b[36mfiles\u001b[m\u001b[m/\n",
      "-rw-r--r--   1 mfhan  staff    34428 Oct 22 20:04 latest_diff.csv\n",
      "-rw-r--r--@  1 mfhan  staff       20 Sep 21 17:03 old_atp_live_ranking.csv\n",
      "-rw-r--r--   1 mfhan  staff    11970 Oct  9 14:40 old_tennispay.ipynb\n",
      "-rw-r--r--   1 mfhan  staff  1565449 Oct  3 16:06 old_tennisweekly.ipynb\n",
      "-rw-r--r--   1 mfhan  staff    66950 Oct 22 22:18 pay_gap.ipynb\n",
      "-rw-r--r--   1 mfhan  staff   813332 Oct  3 16:47 tennisOCT3.ipynb\n",
      "-rw-r--r--   1 mfhan  staff   679723 Oct  1 18:17 tennisgpt.ipynb\n",
      "-rw-r--r--   1 mfhan  staff     1244 Oct  3 16:35 weekly_race_to_top.csv\n"
     ]
    }
   ],
   "source": [
    "ls-la"
   ]
  },
  {
   "cell_type": "code",
   "execution_count": null,
   "id": "c952e7f1-8bd3-49f3-b90d-93596db71e8e",
   "metadata": {},
   "outputs": [],
   "source": []
  },
  {
   "cell_type": "code",
   "execution_count": null,
   "id": "06890c48-7f2c-40b7-a12e-fd527492fdbf",
   "metadata": {},
   "outputs": [],
   "source": []
  },
  {
   "cell_type": "code",
   "execution_count": null,
   "id": "030defa0-f858-4be1-98b3-2ed12dcc5c0d",
   "metadata": {},
   "outputs": [],
   "source": []
  },
  {
   "cell_type": "code",
   "execution_count": null,
   "id": "1c970a05-b941-4fce-b3f8-2ae3d9b5c35a",
   "metadata": {},
   "outputs": [],
   "source": []
  },
  {
   "cell_type": "code",
   "execution_count": null,
   "id": "fea42751-8553-485d-b15d-8ae0cfed0513",
   "metadata": {},
   "outputs": [],
   "source": []
  }
 ],
 "metadata": {
  "kernelspec": {
   "display_name": "Python 3 (ipykernel)",
   "language": "python",
   "name": "python3"
  },
  "language_info": {
   "codemirror_mode": {
    "name": "ipython",
    "version": 3
   },
   "file_extension": ".py",
   "mimetype": "text/x-python",
   "name": "python",
   "nbconvert_exporter": "python",
   "pygments_lexer": "ipython3",
   "version": "3.10.11"
  }
 },
 "nbformat": 4,
 "nbformat_minor": 5
}
