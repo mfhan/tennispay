{
 "cells": [
  {
   "cell_type": "code",
   "execution_count": 1,
   "id": "10916da9-2e0f-48e5-bdc0-c083db8bdef8",
   "metadata": {},
   "outputs": [],
   "source": [
    "import pandas as pd\n",
    "from bs4 import BeautifulSoup \n",
    "import requests\n",
    "import datetime\n",
    "from datetime import date \n",
    "import time\n",
    "import json\n",
    "import csv\n",
    "import numpy as np\n",
    "import re\n",
    "import lxml.html\n",
    "import os\n",
    "import tabula"
   ]
  },
  {
   "cell_type": "code",
   "execution_count": 2,
   "id": "970c0e2f-ace9-43b7-9243-97adb618699c",
   "metadata": {},
   "outputs": [],
   "source": [
    "wta_path = \"https://wtafiles.wtatennis.com/pdf/rankings/All_YTD_Prize_Money.pdf\""
   ]
  },
  {
   "cell_type": "code",
   "execution_count": 3,
   "id": "e0f13c1d-5e02-49e5-80cb-23317ce81e31",
   "metadata": {},
   "outputs": [],
   "source": [
    "atp_path = \"https://www.protennislive.com/posting/ramr/current_prize.pdf\""
   ]
  },
  {
   "cell_type": "code",
   "execution_count": 4,
   "id": "e944f622-5d74-451d-bce4-4951dbfb902f",
   "metadata": {},
   "outputs": [
    {
     "name": "stdout",
     "output_type": "stream",
     "text": [
      "11\n"
     ]
    }
   ],
   "source": [
    "wta_dfs = tabula.read_pdf(wta_path, stream=False, user_agent=\"Mozilla/5.0\", pages='1-11')\n",
    "# read_pdf returns list of DataFrames\n",
    "print(len(wta_dfs))"
   ]
  },
  {
   "cell_type": "code",
   "execution_count": 6,
   "id": "701171b8-cfc3-47bd-aa6c-c25865875219",
   "metadata": {},
   "outputs": [
    {
     "name": "stdout",
     "output_type": "stream",
     "text": [
      "    Standing                       Name  Nat    Singles  Doubles  Mixed  \\\n",
      "0          1           SABALENKA, ARYNA  NaN  2,239,021      NaN    NaN   \n",
      "1          2              ZHENG, QINWEN  CHN  1,439,163      NaN    NaN   \n",
      "2          3               SWIATEK, IGA  POL  1,375,308      NaN    NaN   \n",
      "3          4              HUNTER, STORM  AUS    261,881  932,733    NaN   \n",
      "4          5        SINIAKOVA, KATERINA  CZE    230,924  932,438    NaN   \n",
      "5          6           PAOLINI, JASMINE  ITA    905,313   52,527    NaN   \n",
      "6          7            RYBAKINA, ELENA  KAZ    886,535      NaN    NaN   \n",
      "7          8                GAUFF, COCO  USA    779,389      NaN    NaN   \n",
      "8          9           KALINSKAYA, ANNA  NaN    747,123   30,061    NaN   \n",
      "9         10          OSTAPENKO, JELENA  LAT    545,042  193,587    NaN   \n",
      "10        11         YASTREMSKA, DAYANA  UKR    717,024      NaN    NaN   \n",
      "11        12           GARCIA, CAROLINE  FRA    556,015   73,284    NaN   \n",
      "12        13             KOSTYUK, MARTA  UKR    543,338   22,786    NaN   \n",
      "13        14             NOSKOVA, LINDA  CZE    522,107   43,971    NaN   \n",
      "14        15             SAKKARI, MARIA  GRE    540,894      NaN    NaN   \n",
      "15        16            PEGULA, JESSICA  USA    471,985   14,360    NaN   \n",
      "16        17        KREJCIKOVA, BARBORA  CZE    430,603   50,544    NaN   \n",
      "17        18             MERTENS, ELISE  BEL    214,597  265,535    NaN   \n",
      "18        19       VONDROUSOVA, MARKETA  CZE    427,111   23,285    NaN   \n",
      "19        20       HADDAD MAIA, BEATRIZ  BRA    371,909   56,737    NaN   \n",
      "20        21         AZARENKA, VICTORIA  NaN    420,635      NaN    NaN   \n",
      "21        22             BOULTER, KATIE  GBR    403,220   11,905    NaN   \n",
      "22        23  PAVLYUCHENKOVA, ANASTASIA  NaN    394,954   17,527    NaN   \n",
      "23        24           KASATKINA, DARIA  NaN    361,970   13,050    NaN   \n",
      "24        25               VEKIC, DONNA  CRO    341,706   16,455    NaN   \n",
      "25        26              NAVARRO, EMMA  USA    318,063   24,802    NaN   \n",
      "26        27         PLISKOVA, KAROLINA  CZE    339,275      NaN    NaN   \n",
      "27        28           SIEGEMUND, LAURA  GER    253,975   73,829    NaN   \n",
      "28        29          FERNANDEZ, LEYLAH  CAN    313,010   11,375    NaN   \n",
      "29        30     ALEXANDROVA, EKATERINA  NaN    272,051   50,356    NaN   \n",
      "30        31            ANDREEVA, MIRRA  NaN    300,820   18,730    NaN   \n",
      "31        32            CIRSTEA, SORANA  ROU    306,731   11,905    NaN   \n",
      "32        33           FRECH, MAGDALENA  POL    318,379      NaN    NaN   \n",
      "33        34           SVITOLINA, ELINA  UKR    302,511      NaN    NaN   \n",
      "34        35          KERBER, ANGELIQUE  GER    297,065      NaN    NaN   \n",
      "35        36              HSIEH, SU-WEI  TPE     25,868  265,535    NaN   \n",
      "36        37          TOMLJANOVIC, AJLA  AUS    244,465   17,527    NaN   \n",
      "37        38               RUS, ARANTXA  NED    234,383   25,105    NaN   \n",
      "38        39              DODIN, OCEANE  FRA    257,896      NaN    NaN   \n",
      "39        40           TIMOFEEVA, MARIA  NaN    257,545      NaN    NaN   \n",
      "40        41          ANISIMOVA, AMANDA  USA    251,695      NaN    NaN   \n",
      "41        42         DOLEHIDE, CAROLINE  USA    177,725   73,687    NaN   \n",
      "42        43          COLLINS, DANIELLE  USA    228,888   19,515    NaN   \n",
      "43        44              PARKS, ALYCIA  USA    214,969   29,550    NaN   \n",
      "44        45               BUREL, CLARA  FRA    228,189   11,905    NaN   \n",
      "45        46             MARIA, TATJANA  GER    226,520   12,780    NaN   \n",
      "\n",
      "        Total  \n",
      "0   2,239,021  \n",
      "1   1,439,163  \n",
      "2   1,375,308  \n",
      "3   1,194,614  \n",
      "4   1,163,362  \n",
      "5     957,840  \n",
      "6     886,535  \n",
      "7     779,389  \n",
      "8     777,184  \n",
      "9     738,629  \n",
      "10    717,024  \n",
      "11    629,299  \n",
      "12    566,124  \n",
      "13    566,078  \n",
      "14    540,894  \n",
      "15    486,345  \n",
      "16    481,147  \n",
      "17    480,132  \n",
      "18    450,396  \n",
      "19    428,646  \n",
      "20    420,635  \n",
      "21    415,125  \n",
      "22    412,481  \n",
      "23    375,020  \n",
      "24    358,161  \n",
      "25    342,865  \n",
      "26    339,275  \n",
      "27    327,804  \n",
      "28    324,385  \n",
      "29    322,407  \n",
      "30    319,550  \n",
      "31    318,636  \n",
      "32    318,379  \n",
      "33    302,511  \n",
      "34    297,065  \n",
      "35    291,403  \n",
      "36    261,992  \n",
      "37    259,488  \n",
      "38    257,896  \n",
      "39    257,545  \n",
      "40    251,695  \n",
      "41    251,412  \n",
      "42    248,403  \n",
      "43    244,519  \n",
      "44    240,094  \n",
      "45    239,300  \n"
     ]
    }
   ],
   "source": [
    "print(wta_dfs[0])\n",
    "#print(wta_dfs[2].columns)"
   ]
  },
  {
   "cell_type": "code",
   "execution_count": 7,
   "id": "a17ca638-7f39-4ab2-b6a2-a5edcc026b9d",
   "metadata": {},
   "outputs": [
    {
     "name": "stdout",
     "output_type": "stream",
     "text": [
      "Index(['Standing', 'Unnamed: 0', 'Name', 'Nat', 'Singles', 'Doubles', 'Mixed',\n",
      "       'Total'],\n",
      "      dtype='object')\n"
     ]
    }
   ],
   "source": [
    "print(wta_dfs[2].columns)"
   ]
  },
  {
   "cell_type": "code",
   "execution_count": null,
   "id": "6f9ba3cf-6f26-4254-a3cf-ff73f04a3e17",
   "metadata": {},
   "outputs": [],
   "source": [
    "## TO DO: concat AFTER changing capitalization under \"name\" "
   ]
  },
  {
   "cell_type": "code",
   "execution_count": 8,
   "id": "ccfebcf8-d567-492f-8bfd-eb91ccc84e2c",
   "metadata": {},
   "outputs": [],
   "source": [
    "#only keep the columns that are common to the two dfs\n",
    "#wta_dfs = wta_dfs[['Name', , ]\n",
    "women_df= pd.DataFrame([])\n",
    "\n",
    "for wta_df in wta_dfs:\n",
    "    if (len(wta_df.columns) == 8):\n",
    "        wta_df.drop(columns=['Name'], inplace=True)\n",
    "        wta_df.rename(columns={'Unnamed: 0': 'Name'}, inplace=True)\n",
    "    wta_df.rename(columns={'Standing': 'Rank'}, inplace=True)   \n",
    "    wta_df = wta_df[['Rank','Name', 'Total', 'Singles','Doubles' ]]\n",
    "    women_df = pd.concat([women_df, wta_df])\n",
    "    \n"
   ]
  },
  {
   "cell_type": "code",
   "execution_count": 9,
   "id": "8a4ffa8f-ef6c-401d-a64c-11169a8cba14",
   "metadata": {},
   "outputs": [
    {
     "name": "stdout",
     "output_type": "stream",
     "text": [
      "Index(['Rank', 'Name', 'Total', 'Singles', 'Doubles'], dtype='object')\n"
     ]
    }
   ],
   "source": [
    "print(women_df.columns)"
   ]
  },
  {
   "cell_type": "code",
   "execution_count": 10,
   "id": "f50067b1-320d-4630-ae81-cba3b6a53fcf",
   "metadata": {},
   "outputs": [],
   "source": [
    "#previously: didn't have the INPLACE parameter "
   ]
  },
  {
   "cell_type": "code",
   "execution_count": 11,
   "id": "c9677c8d-80ca-4f19-aefd-cffda0c678b7",
   "metadata": {},
   "outputs": [],
   "source": [
    "women_df.reset_index(drop = True, inplace=True)"
   ]
  },
  {
   "cell_type": "code",
   "execution_count": 12,
   "id": "7828a93c-bb55-4983-9d98-b8bd083094b6",
   "metadata": {},
   "outputs": [],
   "source": [
    "#Cutting off at index 499\n",
    "women_df = women_df[women_df['Rank'] <= 500]"
   ]
  },
  {
   "cell_type": "code",
   "execution_count": 13,
   "id": "c78a9a9e-e905-4363-a7cf-d3fa8f8ce33e",
   "metadata": {},
   "outputs": [
    {
     "data": {
      "text/plain": [
       "500"
      ]
     },
     "execution_count": 13,
     "metadata": {},
     "output_type": "execute_result"
    }
   ],
   "source": [
    "len(women_df)"
   ]
  },
  {
   "cell_type": "code",
   "execution_count": 18,
   "id": "2584eb78-df8d-442a-86a4-2122eb9c1ec1",
   "metadata": {},
   "outputs": [],
   "source": [
    "#women_df.to_csv(\"files/2023-10-09_wta.csv\")"
   ]
  },
  {
   "cell_type": "code",
   "execution_count": 19,
   "id": "db2f46e3-84b5-4231-bc61-83f8b1d7793d",
   "metadata": {},
   "outputs": [],
   "source": [
    "#some columns have missing player names - pages == resolved thanks to RENAME "
   ]
  },
  {
   "cell_type": "code",
   "execution_count": 14,
   "id": "57d6ccdc-6a0d-4887-9ea9-7c0ceb6c49ec",
   "metadata": {},
   "outputs": [],
   "source": [
    "atp_dfs = tabula.read_pdf(atp_path, stream=True, user_agent=\"Mozilla/5.0\", pages='1-12', pandas_options={'header': None})"
   ]
  },
  {
   "cell_type": "code",
   "execution_count": 21,
   "id": "bee2552f-1ea9-489b-86b6-7771e9c6cb23",
   "metadata": {},
   "outputs": [],
   "source": [
    "#print(atp_dfs[0].columns)"
   ]
  },
  {
   "cell_type": "code",
   "execution_count": 22,
   "id": "7e03ed5e-c1b1-43d4-b6fc-3383bb41e047",
   "metadata": {},
   "outputs": [],
   "source": [
    "#print(atp_dfs[0])"
   ]
  },
  {
   "cell_type": "code",
   "execution_count": null,
   "id": "6100a6d8-1a00-44e6-806a-cae4ee5b1aef",
   "metadata": {},
   "outputs": [],
   "source": []
  },
  {
   "cell_type": "code",
   "execution_count": 15,
   "id": "8f8a194b-940b-4f7c-9723-06820b7f58d0",
   "metadata": {},
   "outputs": [],
   "source": [
    "men_df= pd.DataFrame([])\n",
    "\n",
    "for atp_df in atp_dfs:\n",
    "    atp_df.columns = ['Rank', 'Name', 'Total', 'Singles','Doubles', 'Career']\n",
    "    atp_df = atp_df[['Rank','Name', 'Total', 'Singles','Doubles' ]]\n",
    "    men_df = pd.concat([men_df, atp_df])"
   ]
  },
  {
   "cell_type": "code",
   "execution_count": 16,
   "id": "7484e116-3b8e-4e0a-a5d1-5ad562188c7b",
   "metadata": {},
   "outputs": [],
   "source": [
    "men_df['Total'] = men_df['Total'].str.strip('$')"
   ]
  },
  {
   "cell_type": "code",
   "execution_count": 17,
   "id": "e5288fd9-7e7d-4a1e-93db-0e8647e4e2df",
   "metadata": {},
   "outputs": [],
   "source": [
    "men_df['Singles'] = men_df['Singles'].str.strip('$')"
   ]
  },
  {
   "cell_type": "code",
   "execution_count": 18,
   "id": "01c48c23-c0fe-4df3-9e04-33c41108ba9c",
   "metadata": {},
   "outputs": [],
   "source": [
    "men_df['Doubles'] = men_df['Doubles'].str.strip('$')"
   ]
  },
  {
   "cell_type": "code",
   "execution_count": 27,
   "id": "ed2a8448-faa3-41d4-98b0-84954cfb0431",
   "metadata": {},
   "outputs": [],
   "source": [
    "#NOT WORKING: men_df[\"Rank\"] = men_df[\"Rank\"].astype(int)"
   ]
  },
  {
   "cell_type": "code",
   "execution_count": 28,
   "id": "0442d1a7-9499-4c80-a420-20d0becb6ed8",
   "metadata": {},
   "outputs": [],
   "source": [
    "#print(men_df.columns)"
   ]
  },
  {
   "cell_type": "code",
   "execution_count": 19,
   "id": "d00dc3bc-bd94-431a-97a8-49f0cb5987d2",
   "metadata": {
    "scrolled": true
   },
   "outputs": [],
   "source": [
    "men_df.reset_index(drop = True, inplace=True)"
   ]
  },
  {
   "cell_type": "code",
   "execution_count": 30,
   "id": "ff4c8545-faf7-45c2-b7cb-d259b6b7948b",
   "metadata": {},
   "outputs": [],
   "source": [
    "#WE JUST LOST DJOKOVIC!!!!  --> resolved with correct tabula formula "
   ]
  },
  {
   "cell_type": "code",
   "execution_count": 31,
   "id": "f1cf3142-0219-48e7-85d8-aec073af929a",
   "metadata": {},
   "outputs": [],
   "source": [
    "#NOT WORKING, either as int or as string \n",
    "#men_df = men_df[men_df['Rank'] <= 500]"
   ]
  },
  {
   "cell_type": "code",
   "execution_count": 20,
   "id": "ba5fb339-c6c6-4918-9cec-61acee30359e",
   "metadata": {},
   "outputs": [],
   "source": [
    "#we used the index \n",
    "men_df = men_df[men_df.index <= 499]"
   ]
  },
  {
   "cell_type": "code",
   "execution_count": 21,
   "id": "38d1d00d-2e39-4ce9-a664-820fec627dc6",
   "metadata": {},
   "outputs": [
    {
     "data": {
      "text/plain": [
       "500"
      ]
     },
     "execution_count": 21,
     "metadata": {},
     "output_type": "execute_result"
    }
   ],
   "source": [
    "len(men_df)"
   ]
  },
  {
   "cell_type": "code",
   "execution_count": 34,
   "id": "5d7b867a-8661-4858-8834-54c4e325ba23",
   "metadata": {},
   "outputs": [],
   "source": [
    "#mkdir files \n",
    "#cd files \n",
    "#name each file with the date  \n",
    "#also store all weekly rank data in a single file, for atp and wta (\"all_weeks\")"
   ]
  },
  {
   "cell_type": "code",
   "execution_count": 35,
   "id": "c346a79b-4de0-437a-b267-6ceadaa40684",
   "metadata": {},
   "outputs": [],
   "source": [
    "#already done:\n",
    "#os.mkdir(\"files\")"
   ]
  },
  {
   "cell_type": "code",
   "execution_count": 22,
   "id": "7b9a7d90-bc4f-42d4-b350-dfe2d83884bd",
   "metadata": {},
   "outputs": [],
   "source": [
    "date = date.today()"
   ]
  },
  {
   "cell_type": "code",
   "execution_count": 23,
   "id": "5fc9462c-4ae4-4de9-8284-015c0e0d0b76",
   "metadata": {},
   "outputs": [
    {
     "name": "stdout",
     "output_type": "stream",
     "text": [
      "2024-03-18\n"
     ]
    }
   ],
   "source": [
    "print(date)"
   ]
  },
  {
   "cell_type": "code",
   "execution_count": 38,
   "id": "217fbc2b-b87d-4f27-9211-ffdbbddecf16",
   "metadata": {},
   "outputs": [],
   "source": [
    "women_df.to_csv(f\"files/{date}_wta.csv\")"
   ]
  },
  {
   "cell_type": "code",
   "execution_count": 39,
   "id": "f38b6fc1-b0c3-49c3-af13-9a47ea572aea",
   "metadata": {},
   "outputs": [],
   "source": [
    "#PROBLEM: the index vaues repeat themselves instead of being sequential == resolved via \"inplace=true\n",
    "#LETS SEE AFTER WE COMBINE "
   ]
  },
  {
   "cell_type": "code",
   "execution_count": 40,
   "id": "6a4314b5-54b1-4b26-bfab-f4b47fb21246",
   "metadata": {},
   "outputs": [],
   "source": [
    "men_df.to_csv(f\"files/{date}_atp.csv\")"
   ]
  },
  {
   "cell_type": "code",
   "execution_count": 24,
   "id": "81b6ef9d-3f78-4191-83fe-5fc4eb45e3d6",
   "metadata": {},
   "outputs": [],
   "source": [
    "men_df['gender'] = 'male'\n",
    "women_df['gender'] = 'female'"
   ]
  },
  {
   "cell_type": "code",
   "execution_count": 42,
   "id": "dfa8cf47-5b04-4155-bcb2-534c6d7a1477",
   "metadata": {},
   "outputs": [],
   "source": [
    "mixed_df = pd.concat([women_df, men_df])"
   ]
  },
  {
   "cell_type": "code",
   "execution_count": 43,
   "id": "ebf36c51-bdfa-4072-a34e-7dfe94ebb52c",
   "metadata": {},
   "outputs": [],
   "source": [
    "#print(mixed_df)"
   ]
  },
  {
   "cell_type": "code",
   "execution_count": 44,
   "id": "d6c3910f-4743-4cd5-b818-7e8fb2383e38",
   "metadata": {
    "scrolled": true
   },
   "outputs": [],
   "source": [
    "#print(mixed_df.iloc[55])"
   ]
  },
  {
   "cell_type": "code",
   "execution_count": 45,
   "id": "1b51f6e1-9908-448c-8f91-952b7c88f48e",
   "metadata": {},
   "outputs": [],
   "source": [
    "#print(mixed_df.iloc[552])"
   ]
  },
  {
   "cell_type": "code",
   "execution_count": 46,
   "id": "b83b7258-c6e2-4527-8504-4c92c8888774",
   "metadata": {},
   "outputs": [],
   "source": [
    "#problems with women_df from last session: \n",
    "# - ranks not in sequence: \n",
    "# - no names for some pages: \n",
    "# - doubles earnings missing last 3 digits:"
   ]
  },
  {
   "cell_type": "code",
   "execution_count": 47,
   "id": "2d7e13ca-5b9e-4ff2-b06d-9e839dbb1c9b",
   "metadata": {},
   "outputs": [],
   "source": [
    "#mixed_df.reset_index(inplace=True)\n",
    "mixed_df.reset_index(drop = True, inplace=True)"
   ]
  },
  {
   "cell_type": "code",
   "execution_count": 48,
   "id": "94fffc31-b6e7-47c2-83ac-4b61fe5fcf72",
   "metadata": {},
   "outputs": [],
   "source": [
    "#******** RETURN TO THIS AFTER "
   ]
  },
  {
   "cell_type": "code",
   "execution_count": 49,
   "id": "75dc7603-b257-46b7-bfac-eb039f2c01af",
   "metadata": {},
   "outputs": [],
   "source": [
    "#mixed_df.to_csv(f\"files/{date}_mixed.csv\")"
   ]
  },
  {
   "cell_type": "code",
   "execution_count": 50,
   "id": "79b46cec-9ee9-4306-938d-09ccdb4eb2d6",
   "metadata": {},
   "outputs": [],
   "source": [
    "#HOW/WHAT do we compare??\n",
    "#compare [gender]=women at RANK i vs gender - men at rank i\n",
    "#Do we keep the names or just the ranks? \n",
    "# what does DW show? \n",
    "#OPTION 1\n",
    "#weekly updated table of the difference between W1 M1\n",
    "#BUT if you hover over any of the rows, you get the info on absolute earnings and player name ()both are bound to change due to ranking change) \n",
    "#OPTION 2\n",
    "#Show difference at each rank, plus respective names??? CTA -- hover to see actual earnings$$ \n",
    "\n",
    "#create a new df called \"difference\" loop thru mixed df by looping with gender-female from rank 1 to 500, \n",
    "# then gender-male at rank value 1 to 500, \n"
   ]
  },
  {
   "cell_type": "code",
   "execution_count": 51,
   "id": "7cea463a-3079-4393-85dc-64ddc9d96036",
   "metadata": {},
   "outputs": [],
   "source": [
    "# for player in mixed_df:\n",
    "#     if mixed_df[[gender = female && index ]]"
   ]
  },
  {
   "cell_type": "code",
   "execution_count": 52,
   "id": "1cce4fcf-0b3f-47b3-a7f3-8a66e246b6b3",
   "metadata": {},
   "outputs": [],
   "source": [
    "# diff = 0\n",
    "# for woman in women_df: \n",
    "#     difference_df = pd.DataFrame()\n",
    "\n",
    "\n",
    "    \n",
    "    "
   ]
  },
  {
   "cell_type": "code",
   "execution_count": 53,
   "id": "ed73111f-4568-4a4b-8f1a-bdc02dc76112",
   "metadata": {},
   "outputs": [],
   "source": [
    "# ranks = []\n",
    "# diff = []\n",
    "\n",
    "# for index in women_df.index:\n",
    "#     men_total = men_df.iloc[index]['Total']\n",
    "#     women_total = women_df.iloc[index]['Total']\n",
    "#     ranks.append(index + 1)\n",
    "#     diff.append(men_total - women_total)\n",
    "    "
   ]
  },
  {
   "cell_type": "code",
   "execution_count": 54,
   "id": "e659e647-3cc7-497e-ad5d-9670a2387eb2",
   "metadata": {},
   "outputs": [],
   "source": [
    "#remove commas "
   ]
  },
  {
   "cell_type": "code",
   "execution_count": 55,
   "id": "64d71217-4a40-4c03-8966-f4a70ff30cc3",
   "metadata": {},
   "outputs": [],
   "source": [
    "# men_total = int(men_df.iloc[index]['Total'].replace(',', ''))\n",
    "# women_total = int(women_df.iloc[index]['Total'].replace(',', ''))"
   ]
  },
  {
   "cell_type": "code",
   "execution_count": 56,
   "id": "79455197-e537-4843-ae8b-eb4366dd0228",
   "metadata": {},
   "outputs": [],
   "source": [
    "# ranks = []\n",
    "# diff = []\n",
    "\n",
    "# for index in women_df.index:\n",
    "#     men_total = int(men_df.iloc[index]['Total'].replace(',', ''))\n",
    "#     women_total = int(women_df.iloc[index]['Total'].replace(',', ''))\n",
    "#     ranks.append(index + 1)\n",
    "#     diff.append(men_total - women_total)"
   ]
  },
  {
   "cell_type": "code",
   "execution_count": 57,
   "id": "cf4f3349-2b3d-4e89-a2e1-a4453e419684",
   "metadata": {},
   "outputs": [],
   "source": [
    "# len(diff)"
   ]
  },
  {
   "cell_type": "code",
   "execution_count": 58,
   "id": "4659f8e2-71ee-438a-bfc4-c81ba0d5b748",
   "metadata": {},
   "outputs": [],
   "source": [
    "# diff_df = pd.DataFrame([])\n",
    "# diff_df['Rank'] = ranks\n",
    "# diff_df['diff'] = diff"
   ]
  },
  {
   "cell_type": "code",
   "execution_count": 59,
   "id": "0228a369-8e49-4fda-9244-5725c89a8e93",
   "metadata": {},
   "outputs": [],
   "source": [
    "# diff_df.head()"
   ]
  },
  {
   "cell_type": "code",
   "execution_count": 60,
   "id": "adcb1098-5feb-4b33-90ed-8180fdcfb078",
   "metadata": {},
   "outputs": [],
   "source": [
    "#next: add names?? "
   ]
  },
  {
   "cell_type": "code",
   "execution_count": 61,
   "id": "d4a0b9ea-d9d7-4d2e-9944-7fb5316d2997",
   "metadata": {},
   "outputs": [],
   "source": [
    "# diff_df = pd.DataFrame([])\n",
    "# diff_df['Rank'] = ranks\n",
    "# diff_df['diff'] = diff\n",
    "# diff_df['women'] = women_df['Name']\n",
    "# diff_df['men'] = men_df['Name']"
   ]
  },
  {
   "cell_type": "code",
   "execution_count": 62,
   "id": "4541ddca-fa18-4ef5-983d-095f80630912",
   "metadata": {
    "scrolled": true
   },
   "outputs": [],
   "source": [
    "# diff_df.head(50)"
   ]
  },
  {
   "cell_type": "code",
   "execution_count": 63,
   "id": "c3874d9a-8149-4677-8c9d-31b52613306a",
   "metadata": {},
   "outputs": [],
   "source": [
    "#NEXT: percentage difference "
   ]
  },
  {
   "cell_type": "code",
   "execution_count": 64,
   "id": "33dc3446-2f66-4843-8af8-23da62602c14",
   "metadata": {},
   "outputs": [],
   "source": [
    "#THIS CELL KEEPS ERRORING OUT: \n",
    "#\n",
    "# ranks = []\n",
    "# diff = []\n",
    "# pct = []\n",
    "\n",
    "# for index in women_df.index:\n",
    "#     men_total = int(men_df.iloc[index]['Total'].replace(',', ''))\n",
    "#     women_total = int(women_df.iloc[index]['Total'].replace(',', ''))\n",
    "#     ranks.append(index + 1)\n",
    "#     diff.append(men_total - women_total)\n",
    "#     pct.append((women_total/men_total)*100)"
   ]
  },
  {
   "cell_type": "code",
   "execution_count": 25,
   "id": "afae550e-893b-43d8-bd38-2e41ffe06cb0",
   "metadata": {},
   "outputs": [],
   "source": [
    "#NEW CHAPTGPT:\n",
    "# Make sure the indices in both dataframes match\n",
    "\n",
    "ranks = []\n",
    "diff = []\n",
    "pct = []\n",
    "\n",
    "# Iterate over the range of the smaller DataFrame to avoid IndexError\n",
    "for index in range(min(len(women_df), len(men_df))):\n",
    "    try:\n",
    "        # Remove commas from 'Total' and convert to integer\n",
    "        men_total = int(men_df.iloc[index]['Total'].replace(',', ''))\n",
    "        women_total = int(women_df.iloc[index]['Total'].replace(',', ''))\n",
    "        \n",
    "        # Append the calculated values to the lists\n",
    "        ranks.append(index + 1)\n",
    "        diff.append(men_total - women_total)\n",
    "        pct.append((women_total / men_total) * 100)\n",
    "        \n",
    "    except Exception as e:\n",
    "        # Handle exceptions for each row and continue with the next\n",
    "        print(f\"Error processing row {index}: {e}\")\n",
    "        continue\n",
    "\n",
    "\n",
    "\n",
    "\n",
    "\n",
    "\n"
   ]
  },
  {
   "cell_type": "code",
   "execution_count": 26,
   "id": "7d7959bb-d71f-4d89-96e0-7cafecf0fed1",
   "metadata": {},
   "outputs": [],
   "source": [
    "diff_df = pd.DataFrame([])\n",
    "diff_df['Rank'] = ranks\n",
    "diff_df['diff'] = diff\n",
    "diff_df['pct'] = pct\n",
    "diff_df['women'] = women_df['Name']\n",
    "diff_df['men'] = men_df['Name']"
   ]
  },
  {
   "cell_type": "code",
   "execution_count": 27,
   "id": "49c1a862-9a43-434d-ae7e-c93b15e8191a",
   "metadata": {},
   "outputs": [
    {
     "data": {
      "text/html": [
       "<div>\n",
       "<style scoped>\n",
       "    .dataframe tbody tr th:only-of-type {\n",
       "        vertical-align: middle;\n",
       "    }\n",
       "\n",
       "    .dataframe tbody tr th {\n",
       "        vertical-align: top;\n",
       "    }\n",
       "\n",
       "    .dataframe thead th {\n",
       "        text-align: right;\n",
       "    }\n",
       "</style>\n",
       "<table border=\"1\" class=\"dataframe\">\n",
       "  <thead>\n",
       "    <tr style=\"text-align: right;\">\n",
       "      <th></th>\n",
       "      <th>Rank</th>\n",
       "      <th>diff</th>\n",
       "      <th>pct</th>\n",
       "      <th>women</th>\n",
       "      <th>men</th>\n",
       "    </tr>\n",
       "  </thead>\n",
       "  <tbody>\n",
       "    <tr>\n",
       "      <th>0</th>\n",
       "      <td>1</td>\n",
       "      <td>297267</td>\n",
       "      <td>88.279446</td>\n",
       "      <td>SABALENKA, ARYNA</td>\n",
       "      <td>Sinner, Jannik</td>\n",
       "    </tr>\n",
       "    <tr>\n",
       "      <th>1</th>\n",
       "      <td>2</td>\n",
       "      <td>26787</td>\n",
       "      <td>98.172721</td>\n",
       "      <td>ZHENG, QINWEN</td>\n",
       "      <td>Zverev, Alexander</td>\n",
       "    </tr>\n",
       "    <tr>\n",
       "      <th>2</th>\n",
       "      <td>3</td>\n",
       "      <td>-64391</td>\n",
       "      <td>104.911905</td>\n",
       "      <td>SWIATEK, IGA</td>\n",
       "      <td>Medvedev, Daniil</td>\n",
       "    </tr>\n",
       "    <tr>\n",
       "      <th>3</th>\n",
       "      <td>4</td>\n",
       "      <td>69178</td>\n",
       "      <td>94.526156</td>\n",
       "      <td>HUNTER, STORM</td>\n",
       "      <td>de Minaur, Alex</td>\n",
       "    </tr>\n",
       "    <tr>\n",
       "      <th>4</th>\n",
       "      <td>5</td>\n",
       "      <td>-207697</td>\n",
       "      <td>121.733243</td>\n",
       "      <td>SINIAKOVA, KATERINA</td>\n",
       "      <td>Djokovic, Novak</td>\n",
       "    </tr>\n",
       "    <tr>\n",
       "      <th>5</th>\n",
       "      <td>6</td>\n",
       "      <td>-15842</td>\n",
       "      <td>101.681745</td>\n",
       "      <td>PAOLINI, JASMINE</td>\n",
       "      <td>Hurkacz, Hubert</td>\n",
       "    </tr>\n",
       "    <tr>\n",
       "      <th>6</th>\n",
       "      <td>7</td>\n",
       "      <td>25076</td>\n",
       "      <td>97.249265</td>\n",
       "      <td>RYBAKINA, ELENA</td>\n",
       "      <td>Humbert, Ugo</td>\n",
       "    </tr>\n",
       "    <tr>\n",
       "      <th>7</th>\n",
       "      <td>8</td>\n",
       "      <td>64913</td>\n",
       "      <td>92.311637</td>\n",
       "      <td>GAUFF, COCO</td>\n",
       "      <td>Ruud, Casper</td>\n",
       "    </tr>\n",
       "    <tr>\n",
       "      <th>8</th>\n",
       "      <td>9</td>\n",
       "      <td>-2903</td>\n",
       "      <td>100.374928</td>\n",
       "      <td>KALINSKAYA, ANNA</td>\n",
       "      <td>Rublev, Andrey</td>\n",
       "    </tr>\n",
       "    <tr>\n",
       "      <th>9</th>\n",
       "      <td>10</td>\n",
       "      <td>30841</td>\n",
       "      <td>95.991917</td>\n",
       "      <td>OSTAPENKO, JELENA</td>\n",
       "      <td>Fritz, Taylor</td>\n",
       "    </tr>\n",
       "    <tr>\n",
       "      <th>10</th>\n",
       "      <td>11</td>\n",
       "      <td>24926</td>\n",
       "      <td>96.640474</td>\n",
       "      <td>YASTREMSKA, DAYANA</td>\n",
       "      <td>Baez, Sebastian</td>\n",
       "    </tr>\n",
       "    <tr>\n",
       "      <th>11</th>\n",
       "      <td>12</td>\n",
       "      <td>-29510</td>\n",
       "      <td>104.920064</td>\n",
       "      <td>GARCIA, CAROLINE</td>\n",
       "      <td>Bublik, Alexander</td>\n",
       "    </tr>\n",
       "    <tr>\n",
       "      <th>12</th>\n",
       "      <td>13</td>\n",
       "      <td>25331</td>\n",
       "      <td>95.717172</td>\n",
       "      <td>KOSTYUK, MARTA</td>\n",
       "      <td>Tsitsipas, Stefanos</td>\n",
       "    </tr>\n",
       "    <tr>\n",
       "      <th>13</th>\n",
       "      <td>14</td>\n",
       "      <td>1785</td>\n",
       "      <td>99.685664</td>\n",
       "      <td>NOSKOVA, LINDA</td>\n",
       "      <td>Khachanov, Karen</td>\n",
       "    </tr>\n",
       "    <tr>\n",
       "      <th>14</th>\n",
       "      <td>15</td>\n",
       "      <td>-2982</td>\n",
       "      <td>100.554366</td>\n",
       "      <td>SAKKARI, MARIA</td>\n",
       "      <td>Norrie, Cameron</td>\n",
       "    </tr>\n",
       "    <tr>\n",
       "      <th>15</th>\n",
       "      <td>16</td>\n",
       "      <td>26745</td>\n",
       "      <td>94.787464</td>\n",
       "      <td>PEGULA, JESSICA</td>\n",
       "      <td>Griekspoor, Tallon</td>\n",
       "    </tr>\n",
       "    <tr>\n",
       "      <th>16</th>\n",
       "      <td>17</td>\n",
       "      <td>-21777</td>\n",
       "      <td>104.740623</td>\n",
       "      <td>KREJCIKOVA, BARBORA</td>\n",
       "      <td>Mannarino, Adrian</td>\n",
       "    </tr>\n",
       "    <tr>\n",
       "      <th>17</th>\n",
       "      <td>18</td>\n",
       "      <td>-21153</td>\n",
       "      <td>104.608708</td>\n",
       "      <td>MERTENS, ELISE</td>\n",
       "      <td>Dimitrov, Grigor</td>\n",
       "    </tr>\n",
       "    <tr>\n",
       "      <th>18</th>\n",
       "      <td>19</td>\n",
       "      <td>604</td>\n",
       "      <td>99.866075</td>\n",
       "      <td>VONDROUSOVA, MARKETA</td>\n",
       "      <td>Alcaraz, Carlos</td>\n",
       "    </tr>\n",
       "    <tr>\n",
       "      <th>19</th>\n",
       "      <td>20</td>\n",
       "      <td>3114</td>\n",
       "      <td>99.278766</td>\n",
       "      <td>HADDAD MAIA, BEATRIZ</td>\n",
       "      <td>Thompson, Jordan</td>\n",
       "    </tr>\n",
       "  </tbody>\n",
       "</table>\n",
       "</div>"
      ],
      "text/plain": [
       "    Rank    diff         pct                 women                  men\n",
       "0      1  297267   88.279446      SABALENKA, ARYNA       Sinner, Jannik\n",
       "1      2   26787   98.172721         ZHENG, QINWEN    Zverev, Alexander\n",
       "2      3  -64391  104.911905          SWIATEK, IGA     Medvedev, Daniil\n",
       "3      4   69178   94.526156         HUNTER, STORM      de Minaur, Alex\n",
       "4      5 -207697  121.733243   SINIAKOVA, KATERINA      Djokovic, Novak\n",
       "5      6  -15842  101.681745      PAOLINI, JASMINE      Hurkacz, Hubert\n",
       "6      7   25076   97.249265       RYBAKINA, ELENA         Humbert, Ugo\n",
       "7      8   64913   92.311637           GAUFF, COCO         Ruud, Casper\n",
       "8      9   -2903  100.374928      KALINSKAYA, ANNA       Rublev, Andrey\n",
       "9     10   30841   95.991917     OSTAPENKO, JELENA        Fritz, Taylor\n",
       "10    11   24926   96.640474    YASTREMSKA, DAYANA      Baez, Sebastian\n",
       "11    12  -29510  104.920064      GARCIA, CAROLINE    Bublik, Alexander\n",
       "12    13   25331   95.717172        KOSTYUK, MARTA  Tsitsipas, Stefanos\n",
       "13    14    1785   99.685664        NOSKOVA, LINDA     Khachanov, Karen\n",
       "14    15   -2982  100.554366        SAKKARI, MARIA      Norrie, Cameron\n",
       "15    16   26745   94.787464       PEGULA, JESSICA   Griekspoor, Tallon\n",
       "16    17  -21777  104.740623   KREJCIKOVA, BARBORA    Mannarino, Adrian\n",
       "17    18  -21153  104.608708        MERTENS, ELISE     Dimitrov, Grigor\n",
       "18    19     604   99.866075  VONDROUSOVA, MARKETA      Alcaraz, Carlos\n",
       "19    20    3114   99.278766  HADDAD MAIA, BEATRIZ     Thompson, Jordan"
      ]
     },
     "execution_count": 27,
     "metadata": {},
     "output_type": "execute_result"
    }
   ],
   "source": [
    "diff_df.head(20)"
   ]
  },
  {
   "cell_type": "code",
   "execution_count": 67,
   "id": "cb858b18-5cf9-4a51-990f-8c81202b4f53",
   "metadata": {},
   "outputs": [],
   "source": [
    "#diff_df.tail(30)"
   ]
  },
  {
   "cell_type": "code",
   "execution_count": 68,
   "id": "873ebf51-2f7b-4ea8-a9b0-c146b8205f83",
   "metadata": {},
   "outputs": [],
   "source": [
    "#SAVE THIS DIFF dataframe! --> feed to DW "
   ]
  },
  {
   "cell_type": "code",
   "execution_count": 28,
   "id": "def10487-2323-4959-b743-d41fa6d1ed84",
   "metadata": {},
   "outputs": [],
   "source": [
    "diff_df.to_csv(f\"files/{date}_diff.csv\")"
   ]
  },
  {
   "cell_type": "code",
   "execution_count": 70,
   "id": "43d732b8-8f1f-4298-bff1-a237ced519ca",
   "metadata": {},
   "outputs": [],
   "source": [
    "#ALSO SAVE TO UNDATED csv!!! "
   ]
  },
  {
   "cell_type": "code",
   "execution_count": 29,
   "id": "4346dd7c-d6dc-4244-8a32-66c7d123e837",
   "metadata": {},
   "outputs": [],
   "source": [
    "diff_df.to_csv(\"latest_diff.csv\")"
   ]
  },
  {
   "cell_type": "code",
   "execution_count": 30,
   "id": "7820b13f-47b7-4551-9e7d-08a7b6fea010",
   "metadata": {},
   "outputs": [
    {
     "name": "stdout",
     "output_type": "stream",
     "text": [
      "OCT9.ipynb                old_atp_live_ranking.csv  tennisOCT3.ipynb\n",
      "README.md                 old_tennispay.ipynb       tennisgpt.ipynb\n",
      "atp_live_ranking.csv      old_tennisweekly.ipynb    weekly_race_to_top.csv\n",
      "\u001b[1m\u001b[36mfiles\u001b[m\u001b[m/                    pay_gap.ipynb\n",
      "latest_diff.csv           pay_gap_old.ipynb\n"
     ]
    }
   ],
   "source": [
    "ls "
   ]
  },
  {
   "cell_type": "code",
   "execution_count": 31,
   "id": "50f9cf51-c1af-48f7-9547-861d25ee18fb",
   "metadata": {},
   "outputs": [
    {
     "name": "stdout",
     "output_type": "stream",
     "text": [
      "total 6448\n",
      "drwxr-xr-x  19 mfhan  staff      608 Mar 18 17:27 \u001b[1m\u001b[36m.\u001b[m\u001b[m/\n",
      "drwxr-xr-x  12 mfhan  staff      384 Mar  8 11:26 \u001b[1m\u001b[36m..\u001b[m\u001b[m/\n",
      "-rw-r--r--@  1 mfhan  staff    14340 Nov 20 20:42 .DS_Store\n",
      "drwxr-xr-x  16 mfhan  staff      512 Mar 11 15:09 \u001b[1m\u001b[36m.git\u001b[m\u001b[m/\n",
      "drwxr-xr-x   4 mfhan  staff      128 Oct 22 22:20 \u001b[1m\u001b[36m.github\u001b[m\u001b[m/\n",
      "drwxr-xr-x  13 mfhan  staff      416 Mar 18 17:14 \u001b[1m\u001b[36m.ipynb_checkpoints\u001b[m\u001b[m/\n",
      "-rw-r--r--   1 mfhan  staff    87443 Oct  9 19:05 OCT9.ipynb\n",
      "-rw-r--r--   1 mfhan  staff       20 Oct 22 20:26 README.md\n",
      "-rw-r--r--@  1 mfhan  staff       47 Sep 21 17:11 atp_live_ranking.csv\n",
      "drwxr-xr-x  26 mfhan  staff      832 Mar 18 17:28 \u001b[1m\u001b[36mfiles\u001b[m\u001b[m/\n",
      "-rw-r--r--@  1 mfhan  staff    34131 Mar 18 17:28 latest_diff.csv\n",
      "-rw-r--r--@  1 mfhan  staff       20 Sep 21 17:03 old_atp_live_ranking.csv\n",
      "-rw-r--r--   1 mfhan  staff    11970 Oct  9 14:40 old_tennispay.ipynb\n",
      "-rw-r--r--   1 mfhan  staff  1565449 Oct  3 16:06 old_tennisweekly.ipynb\n",
      "-rw-r--r--   1 mfhan  staff    29644 Mar 18 17:27 pay_gap.ipynb\n",
      "-rw-r--r--   1 mfhan  staff    28835 Mar 18 17:14 pay_gap_old.ipynb\n",
      "-rw-r--r--   1 mfhan  staff   813332 Oct  3 16:47 tennisOCT3.ipynb\n",
      "-rw-r--r--   1 mfhan  staff   679723 Oct  1 18:17 tennisgpt.ipynb\n",
      "-rw-r--r--   1 mfhan  staff     1244 Oct  3 16:35 weekly_race_to_top.csv\n"
     ]
    }
   ],
   "source": [
    "ls-la"
   ]
  },
  {
   "cell_type": "code",
   "execution_count": null,
   "id": "c952e7f1-8bd3-49f3-b90d-93596db71e8e",
   "metadata": {},
   "outputs": [],
   "source": []
  },
  {
   "cell_type": "code",
   "execution_count": null,
   "id": "06890c48-7f2c-40b7-a12e-fd527492fdbf",
   "metadata": {},
   "outputs": [],
   "source": []
  },
  {
   "cell_type": "code",
   "execution_count": null,
   "id": "030defa0-f858-4be1-98b3-2ed12dcc5c0d",
   "metadata": {},
   "outputs": [],
   "source": []
  },
  {
   "cell_type": "code",
   "execution_count": null,
   "id": "1c970a05-b941-4fce-b3f8-2ae3d9b5c35a",
   "metadata": {},
   "outputs": [],
   "source": []
  },
  {
   "cell_type": "code",
   "execution_count": null,
   "id": "fea42751-8553-485d-b15d-8ae0cfed0513",
   "metadata": {},
   "outputs": [],
   "source": []
  }
 ],
 "metadata": {
  "kernelspec": {
   "display_name": "Python 3 (ipykernel)",
   "language": "python",
   "name": "python3"
  },
  "language_info": {
   "codemirror_mode": {
    "name": "ipython",
    "version": 3
   },
   "file_extension": ".py",
   "mimetype": "text/x-python",
   "name": "python",
   "nbconvert_exporter": "python",
   "pygments_lexer": "ipython3",
   "version": "3.10.11"
  }
 },
 "nbformat": 4,
 "nbformat_minor": 5
}
