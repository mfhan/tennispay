{
 "cells": [
  {
   "cell_type": "code",
   "execution_count": 8,
   "id": "116aa6d8-bcd6-47f1-aff9-9e83d2ba9930",
   "metadata": {
    "scrolled": true
   },
   "outputs": [
    {
     "name": "stdout",
     "output_type": "stream",
     "text": [
      "Requirement already satisfied: tabula-py in /Users/mfhan/.pyenv/versions/3.10.11/lib/python3.10/site-packages (2.8.2)\n",
      "Requirement already satisfied: pandas>=0.25.3 in /Users/mfhan/.pyenv/versions/3.10.11/lib/python3.10/site-packages (from tabula-py) (2.0.3)\n",
      "Requirement already satisfied: numpy in /Users/mfhan/.pyenv/versions/3.10.11/lib/python3.10/site-packages (from tabula-py) (1.24.3)\n",
      "Requirement already satisfied: distro in /Users/mfhan/.pyenv/versions/3.10.11/lib/python3.10/site-packages (from tabula-py) (1.8.0)\n",
      "Requirement already satisfied: jpype1 in /Users/mfhan/.pyenv/versions/3.10.11/lib/python3.10/site-packages (from tabula-py) (1.4.1)\n",
      "Requirement already satisfied: python-dateutil>=2.8.2 in /Users/mfhan/.pyenv/versions/3.10.11/lib/python3.10/site-packages (from pandas>=0.25.3->tabula-py) (2.8.2)\n",
      "Requirement already satisfied: pytz>=2020.1 in /Users/mfhan/.pyenv/versions/3.10.11/lib/python3.10/site-packages (from pandas>=0.25.3->tabula-py) (2023.3)\n",
      "Requirement already satisfied: tzdata>=2022.1 in /Users/mfhan/.pyenv/versions/3.10.11/lib/python3.10/site-packages (from pandas>=0.25.3->tabula-py) (2023.3)\n",
      "Requirement already satisfied: packaging in /Users/mfhan/.pyenv/versions/3.10.11/lib/python3.10/site-packages (from jpype1->tabula-py) (23.1)\n",
      "Requirement already satisfied: six>=1.5 in /Users/mfhan/.pyenv/versions/3.10.11/lib/python3.10/site-packages (from python-dateutil>=2.8.2->pandas>=0.25.3->tabula-py) (1.16.0)\n",
      "\u001b[33mDEPRECATION: dexplot 0.1.4 has a non-standard dependency specifier scipy>=1.0matplotlib>=3.1. pip 23.3 will enforce this behaviour change. A possible replacement is to upgrade to a newer version of dexplot or contact the author to suggest that they release a version with a conforming dependency specifiers. Discussion can be found at https://github.com/pypa/pip/issues/12063\u001b[0m\u001b[33m\n",
      "\u001b[0m"
     ]
    }
   ],
   "source": [
    "!pip install tabula-py"
   ]
  },
  {
   "cell_type": "code",
   "execution_count": 9,
   "id": "90071710-4583-49ea-b42e-3231b2f3d39a",
   "metadata": {},
   "outputs": [
    {
     "name": "stdout",
     "output_type": "stream",
     "text": [
      "zsh:1: no matches found: tabula-py[java]\n"
     ]
    }
   ],
   "source": [
    "!pip install tabula-py[java]"
   ]
  },
  {
   "cell_type": "code",
   "execution_count": 2,
   "id": "074446ea-36c5-4553-96b8-d5dbdd4317ae",
   "metadata": {},
   "outputs": [
    {
     "name": "stdout",
     "output_type": "stream",
     "text": [
      "java version \"21\" 2023-09-19 LTS\n",
      "Java(TM) SE Runtime Environment (build 21+35-LTS-2513)\n",
      "Java HotSpot(TM) 64-Bit Server VM (build 21+35-LTS-2513, mixed mode, sharing)\n"
     ]
    }
   ],
   "source": [
    "!java -version"
   ]
  },
  {
   "cell_type": "code",
   "execution_count": 3,
   "id": "66121b9a-46d1-4999-bd94-4bed6f335c0a",
   "metadata": {},
   "outputs": [],
   "source": [
    "import tabula"
   ]
  },
  {
   "cell_type": "code",
   "execution_count": 4,
   "id": "68673267-fdf6-4496-a027-0eb6fb3b1887",
   "metadata": {},
   "outputs": [],
   "source": [
    "pdf_path = \"https://wtafiles.wtatennis.com/pdf/rankings/All_YTD_Prize_Money.pdf\""
   ]
  },
  {
   "cell_type": "code",
   "execution_count": 5,
   "id": "82a545b9-3d61-467d-ac49-8a4f8d5d6667",
   "metadata": {},
   "outputs": [
    {
     "name": "stderr",
     "output_type": "stream",
     "text": [
      "'pages' argument isn't specified.Will extract only from page 1 by default.\n"
     ]
    },
    {
     "name": "stdout",
     "output_type": "stream",
     "text": [
      "1\n"
     ]
    }
   ],
   "source": [
    "dfs = tabula.read_pdf(pdf_path, stream=True)\n",
    "# read_pdf returns list of DataFrames\n",
    "print(len(dfs))"
   ]
  },
  {
   "cell_type": "code",
   "execution_count": 6,
   "id": "b918c487-ebc9-4319-9c1e-a0a1546a4fe5",
   "metadata": {},
   "outputs": [
    {
     "name": "stdout",
     "output_type": "stream",
     "text": [
      "Python version:\n",
      "    3.10.11 (main, Jul 24 2023, 14:37:32) [Clang 15.0.0 (clang-1500.0.34.3)]\n",
      "Java version:\n",
      "    java version \"21\" 2023-09-19 LTS\n",
      "Java(TM) SE Runtime Environment (build 21+35-LTS-2513)\n",
      "Java HotSpot(TM) 64-Bit Server VM (build 21+35-LTS-2513, mixed mode, sharing)\n",
      "tabula-py version: 2.8.2\n",
      "platform: macOS-13.5-arm64-arm-64bit\n",
      "uname:\n",
      "    uname_result(system='Darwin', node='Marie-Frances-2021-MacBook-Pro.local', release='22.6.0', version='Darwin Kernel Version 22.6.0: Wed Jul  5 22:22:05 PDT 2023; root:xnu-8796.141.3~6/RELEASE_ARM64_T6000', machine='arm64')\n",
      "linux_distribution: ('Darwin', '22.6.0', '')\n",
      "mac_ver: ('13.5', ('', '', ''), 'arm64')\n"
     ]
    }
   ],
   "source": [
    "tabula.environment_info()"
   ]
  },
  {
   "cell_type": "code",
   "execution_count": 7,
   "id": "70b5d9bb-9d79-478e-815d-6f1d13473723",
   "metadata": {},
   "outputs": [
    {
     "name": "stdout",
     "output_type": "stream",
     "text": [
      "    Standing                    Name  Nat    Singles  Doubles   Mixed  \\\n",
      "0          1        SABALENKA, ARYNA  NaN  7,362,685    6,950     NaN   \n",
      "1          2             GAUFF, COCO  USA  4,903,882  653,490     NaN   \n",
      "2          3            SWIATEK, IGA  POL  5,455,686      NaN     NaN   \n",
      "3          4         RYBAKINA, ELENA  KAZ  4,631,334   64,103     NaN   \n",
      "4          5    VONDROUSOVA, MARKETA  CZE  4,104,203  138,750     NaN   \n",
      "5          6         PEGULA, JESSICA  USA  3,471,367  653,490  52,054   \n",
      "6          7       MUCHOVA, KAROLINA  CZE  2,796,338    8,100     NaN   \n",
      "7          8             JABEUR, ONS  TUN  2,706,604   18,885     NaN   \n",
      "8          9          KVITOVA, PETRA  CZE  2,436,381      NaN     NaN   \n",
      "9         10           KEYS, MADISON  USA  2,339,898   16,560     NaN   \n",
      "10        11          SAKKARI, MARIA  GRE  2,205,621    5,274     NaN   \n",
      "11        12    HADDAD MAIA, BEATRIZ  BRA  1,659,666  332,156     NaN   \n",
      "12        13     KREJCIKOVA, BARBORA  CZE  1,444,599  529,494     NaN   \n",
      "13        14       OSTAPENKO, JELENA  LAT  1,602,108  197,006  22,424   \n",
      "14        15      AZARENKA, VICTORIA  NaN  1,435,758  279,509     NaN   \n",
      "15        16          MERTENS, ELISE  BEL  1,117,130  543,358     NaN   \n",
      "16        17          LINETTE, MAGDA  POL  1,438,007  195,746     NaN   \n",
      "17        18         BENCIC, BELINDA  SUI  1,551,101   50,827     NaN   \n",
      "18        19        GARCIA, CAROLINE  FRA  1,437,515   78,062     NaN   \n",
      "19        20         CIRSTEA, SORANA  ROU  1,459,955      NaN     NaN   \n",
      "20        21        SVITOLINA, ELINA  UKR  1,457,493      NaN     NaN   \n",
      "21        22  ALEXANDROVA, EKATERINA  NaN  1,269,365   99,951     NaN   \n",
      "22        23        KASATKINA, DARIA  NaN  1,333,062   33,305     NaN   \n",
      "23        24   KUDERMETOVA, VERONIKA  NaN  1,155,918  192,213     NaN   \n",
      "24        25     SAMSONOVA, LIUDMILA  NaN  1,138,793  175,543   7,750   \n",
      "25        26             WANG, XINYU  CHN    823,102  416,187     NaN   \n",
      "26        27            VEKIC, DONNA  CRO  1,179,564   59,337     NaN   \n",
      "27        28         BOUZKOVA, MARIE  CZE  1,000,852  200,947     NaN   \n",
      "28        29           ZHENG, QINWEN  CHN  1,151,037      NaN     NaN   \n",
      "29        30       TREVISAN, MARTINA  ITA  1,070,456   64,733     NaN   \n",
      "30        31      PLISKOVA, KAROLINA  CZE  1,013,744   47,885     NaN   \n",
      "31        32     POTAPOVA, ANASTASIA  NaN    987,033   73,734     NaN   \n",
      "32        33          PERA, BERNARDA  USA    891,525  156,921   7,750   \n",
      "33        34     SINIAKOVA, KATERINA  CZE    487,186  550,245     NaN   \n",
      "34        35      KALININA, ANHELINA  UKR    945,293   89,186     NaN   \n",
      "35        36        TOWNSEND, TAYLOR  USA    544,683  429,223  56,424   \n",
      "36        37       FERNANDEZ, LEYLAH  CAN    684,958  334,280   7,750   \n",
      "37        38          KOSTYUK, MARTA  UKR    746,753  231,216  34,000   \n",
      "38        39           HUNTER, STORM  AUS    397,601  566,933  18,554   \n",
      "39        40           MARTIC, PETRA  CRO    951,876   21,260     NaN   \n",
      "40        41         TSURENKO, LESIA  UKR    879,197      NaN     NaN   \n",
      "41        42           HSIEH, SU-WEI  TPE     52,370  805,364  17,100   \n",
      "42        43       COLLINS, DANIELLE  USA    751,601  104,828     NaN   \n",
      "43        44                ZHU, LIN  CHN    765,051   77,436     NaN   \n",
      "44        45     BEGU, IRINA-CAMELIA  ROU    753,906   81,501     NaN   \n",
      "45        46            KENIN, SOFIA  USA    766,167   48,652     NaN   \n",
      "\n",
      "        Total  \n",
      "0   7,369,635  \n",
      "1   5,557,372  \n",
      "2   5,455,686  \n",
      "3   4,695,437  \n",
      "4   4,242,953  \n",
      "5   4,176,912  \n",
      "6   2,804,438  \n",
      "7   2,725,489  \n",
      "8   2,436,381  \n",
      "9   2,356,458  \n",
      "10  2,210,895  \n",
      "11  1,991,822  \n",
      "12  1,974,093  \n",
      "13  1,821,538  \n",
      "14  1,715,267  \n",
      "15  1,660,488  \n",
      "16  1,633,753  \n",
      "17  1,601,928  \n",
      "18  1,515,577  \n",
      "19  1,459,955  \n",
      "20  1,457,493  \n",
      "21  1,369,316  \n",
      "22  1,366,367  \n",
      "23  1,348,131  \n",
      "24  1,322,086  \n",
      "25  1,239,289  \n",
      "26  1,238,901  \n",
      "27  1,201,799  \n",
      "28  1,151,037  \n",
      "29  1,135,189  \n",
      "30  1,061,629  \n",
      "31  1,060,767  \n",
      "32  1,056,196  \n",
      "33  1,037,431  \n",
      "34  1,034,479  \n",
      "35  1,030,330  \n",
      "36  1,026,988  \n",
      "37  1,011,969  \n",
      "38    983,088  \n",
      "39    973,136  \n",
      "40    879,197  \n",
      "41    874,834  \n",
      "42    856,429  \n",
      "43    842,487  \n",
      "44    835,407  \n",
      "45    814,819  \n"
     ]
    }
   ],
   "source": [
    "print(dfs[0])"
   ]
  },
  {
   "cell_type": "code",
   "execution_count": null,
   "id": "ee5bf700-7d1a-4193-9a00-677724e6249d",
   "metadata": {},
   "outputs": [],
   "source": []
  },
  {
   "cell_type": "code",
   "execution_count": null,
   "id": "4fd6035f-2f9f-4fde-b500-e03a307f187c",
   "metadata": {},
   "outputs": [],
   "source": []
  },
  {
   "cell_type": "code",
   "execution_count": null,
   "id": "5df876ee-9d4d-4a9f-8547-7647daa6c924",
   "metadata": {},
   "outputs": [],
   "source": []
  },
  {
   "cell_type": "code",
   "execution_count": null,
   "id": "a59d9e77-a98c-490d-adf2-5da753259a96",
   "metadata": {},
   "outputs": [],
   "source": []
  },
  {
   "cell_type": "code",
   "execution_count": null,
   "id": "6d5ab8e3-a918-4e8c-9ce6-cec172c79171",
   "metadata": {},
   "outputs": [],
   "source": []
  }
 ],
 "metadata": {
  "kernelspec": {
   "display_name": "Python 3 (ipykernel)",
   "language": "python",
   "name": "python3"
  },
  "language_info": {
   "codemirror_mode": {
    "name": "ipython",
    "version": 3
   },
   "file_extension": ".py",
   "mimetype": "text/x-python",
   "name": "python",
   "nbconvert_exporter": "python",
   "pygments_lexer": "ipython3",
   "version": "3.10.11"
  }
 },
 "nbformat": 4,
 "nbformat_minor": 5
}
