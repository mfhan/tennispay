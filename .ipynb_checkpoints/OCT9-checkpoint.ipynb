{
 "cells": [
  {
   "cell_type": "code",
   "execution_count": 1,
   "id": "f8f1f1ed-5d3e-49c1-a0c2-249030bf0983",
   "metadata": {},
   "outputs": [],
   "source": [
    "import pandas as pd\n",
    "from bs4 import BeautifulSoup \n",
    "import requests\n",
    "import datetime\n",
    "from datetime import date \n",
    "import time\n",
    "import json\n",
    "import csv\n",
    "import numpy as np\n",
    "import re\n",
    "import lxml.html\n",
    "import os\n",
    "import tabula"
   ]
  },
  {
   "cell_type": "code",
   "execution_count": 2,
   "id": "5e906f8e-a3f2-4cf8-988e-a7dfca89512e",
   "metadata": {},
   "outputs": [
    {
     "name": "stdout",
     "output_type": "stream",
     "text": [
      "java version \"21\" 2023-09-19 LTS\n",
      "Java(TM) SE Runtime Environment (build 21+35-LTS-2513)\n",
      "Java HotSpot(TM) 64-Bit Server VM (build 21+35-LTS-2513, mixed mode, sharing)\n"
     ]
    }
   ],
   "source": [
    "!java -version"
   ]
  },
  {
   "cell_type": "code",
   "execution_count": 3,
   "id": "6f9e1db8-62a0-497e-987c-783b3ab4d759",
   "metadata": {},
   "outputs": [
    {
     "name": "stdout",
     "output_type": "stream",
     "text": [
      "Python version:\n",
      "    3.10.11 (main, Jul 24 2023, 14:37:32) [Clang 15.0.0 (clang-1500.0.34.3)]\n",
      "Java version:\n",
      "    java version \"21\" 2023-09-19 LTS\n",
      "Java(TM) SE Runtime Environment (build 21+35-LTS-2513)\n",
      "Java HotSpot(TM) 64-Bit Server VM (build 21+35-LTS-2513, mixed mode, sharing)\n",
      "tabula-py version: 2.8.2\n",
      "platform: macOS-13.5-arm64-arm-64bit\n",
      "uname:\n",
      "    uname_result(system='Darwin', node='Marie-Frances-2021-MacBook-Pro.local', release='22.6.0', version='Darwin Kernel Version 22.6.0: Wed Jul  5 22:22:05 PDT 2023; root:xnu-8796.141.3~6/RELEASE_ARM64_T6000', machine='arm64')\n",
      "linux_distribution: ('Darwin', '22.6.0', '')\n",
      "mac_ver: ('13.5', ('', '', ''), 'arm64')\n"
     ]
    }
   ],
   "source": [
    "tabula.environment_info()"
   ]
  },
  {
   "cell_type": "code",
   "execution_count": 4,
   "id": "9d4c74f8-e7a1-433f-aec6-4df7303d5935",
   "metadata": {},
   "outputs": [],
   "source": [
    "wta_path = \"https://wtafiles.wtatennis.com/pdf/rankings/All_YTD_Prize_Money.pdf\""
   ]
  },
  {
   "cell_type": "code",
   "execution_count": 12,
   "id": "eb7aca9a-ed00-4176-86ca-4637a14f9686",
   "metadata": {},
   "outputs": [],
   "source": [
    "atp_path = \"https://www.protennislive.com/posting/ramr/current_prize.pdf\""
   ]
  },
  {
   "cell_type": "code",
   "execution_count": 6,
   "id": "fb1afd55-69ba-43ef-a485-4132d8252dda",
   "metadata": {
    "scrolled": true
   },
   "outputs": [
    {
     "name": "stderr",
     "output_type": "stream",
     "text": [
      "'pages' argument isn't specified.Will extract only from page 1 by default.\n"
     ]
    },
    {
     "name": "stdout",
     "output_type": "stream",
     "text": [
      "1\n"
     ]
    }
   ],
   "source": [
    "wta_dfs = tabula.read_pdf(wta_path, stream=True)\n",
    "# read_pdf returns list of DataFrames\n",
    "print(len(wta_dfs))"
   ]
  },
  {
   "cell_type": "code",
   "execution_count": 8,
   "id": "a1e5b897-2ac2-4ae2-8d28-c740f3249f49",
   "metadata": {},
   "outputs": [
    {
     "data": {
      "text/plain": [
       "1"
      ]
     },
     "execution_count": 8,
     "metadata": {},
     "output_type": "execute_result"
    }
   ],
   "source": [
    "len(wta_dfs)"
   ]
  },
  {
   "cell_type": "code",
   "execution_count": 7,
   "id": "f63e8660-7bc8-4568-a866-340119b75524",
   "metadata": {},
   "outputs": [
    {
     "name": "stdout",
     "output_type": "stream",
     "text": [
      "    Standing                    Name  Nat    Singles  Doubles   Mixed  \\\n",
      "0          1        SABALENKA, ARYNA  NaN  7,362,685    6,950     NaN   \n",
      "1          2             GAUFF, COCO  USA  4,903,882  653,490     NaN   \n",
      "2          3            SWIATEK, IGA  POL  5,455,686      NaN     NaN   \n",
      "3          4         RYBAKINA, ELENA  KAZ  4,631,334   64,103     NaN   \n",
      "4          5    VONDROUSOVA, MARKETA  CZE  4,104,203  138,750     NaN   \n",
      "5          6         PEGULA, JESSICA  USA  3,471,367  653,490  52,054   \n",
      "6          7       MUCHOVA, KAROLINA  CZE  2,796,338    8,100     NaN   \n",
      "7          8             JABEUR, ONS  TUN  2,706,604   18,885     NaN   \n",
      "8          9          KVITOVA, PETRA  CZE  2,436,381      NaN     NaN   \n",
      "9         10           KEYS, MADISON  USA  2,339,898   16,560     NaN   \n",
      "10        11          SAKKARI, MARIA  GRE  2,205,621    5,274     NaN   \n",
      "11        12    HADDAD MAIA, BEATRIZ  BRA  1,659,666  332,156     NaN   \n",
      "12        13     KREJCIKOVA, BARBORA  CZE  1,444,599  529,494     NaN   \n",
      "13        14       OSTAPENKO, JELENA  LAT  1,602,108  197,006  22,424   \n",
      "14        15      AZARENKA, VICTORIA  NaN  1,435,758  279,509     NaN   \n",
      "15        16          MERTENS, ELISE  BEL  1,117,130  543,358     NaN   \n",
      "16        17          LINETTE, MAGDA  POL  1,438,007  195,746     NaN   \n",
      "17        18         BENCIC, BELINDA  SUI  1,551,101   50,827     NaN   \n",
      "18        19        GARCIA, CAROLINE  FRA  1,437,515   78,062     NaN   \n",
      "19        20         CIRSTEA, SORANA  ROU  1,459,955      NaN     NaN   \n",
      "20        21        SVITOLINA, ELINA  UKR  1,457,493      NaN     NaN   \n",
      "21        22  ALEXANDROVA, EKATERINA  NaN  1,269,365   99,951     NaN   \n",
      "22        23        KASATKINA, DARIA  NaN  1,333,062   33,305     NaN   \n",
      "23        24   KUDERMETOVA, VERONIKA  NaN  1,155,918  192,213     NaN   \n",
      "24        25     SAMSONOVA, LIUDMILA  NaN  1,138,793  175,543   7,750   \n",
      "25        26             WANG, XINYU  CHN    823,102  416,187     NaN   \n",
      "26        27            VEKIC, DONNA  CRO  1,179,564   59,337     NaN   \n",
      "27        28         BOUZKOVA, MARIE  CZE  1,000,852  200,947     NaN   \n",
      "28        29           ZHENG, QINWEN  CHN  1,151,037      NaN     NaN   \n",
      "29        30       TREVISAN, MARTINA  ITA  1,070,456   64,733     NaN   \n",
      "30        31      PLISKOVA, KAROLINA  CZE  1,013,744   47,885     NaN   \n",
      "31        32     POTAPOVA, ANASTASIA  NaN    987,033   73,734     NaN   \n",
      "32        33          PERA, BERNARDA  USA    891,525  156,921   7,750   \n",
      "33        34     SINIAKOVA, KATERINA  CZE    487,186  550,245     NaN   \n",
      "34        35      KALININA, ANHELINA  UKR    945,293   89,186     NaN   \n",
      "35        36        TOWNSEND, TAYLOR  USA    544,683  429,223  56,424   \n",
      "36        37       FERNANDEZ, LEYLAH  CAN    684,958  334,280   7,750   \n",
      "37        38          KOSTYUK, MARTA  UKR    746,753  231,216  34,000   \n",
      "38        39           HUNTER, STORM  AUS    397,601  566,933  18,554   \n",
      "39        40           MARTIC, PETRA  CRO    951,876   21,260     NaN   \n",
      "40        41         TSURENKO, LESIA  UKR    879,197      NaN     NaN   \n",
      "41        42           HSIEH, SU-WEI  TPE     52,370  805,364  17,100   \n",
      "42        43       COLLINS, DANIELLE  USA    751,601  104,828     NaN   \n",
      "43        44                ZHU, LIN  CHN    765,051   77,436     NaN   \n",
      "44        45     BEGU, IRINA-CAMELIA  ROU    753,906   81,501     NaN   \n",
      "45        46            KENIN, SOFIA  USA    766,167   48,652     NaN   \n",
      "\n",
      "        Total  \n",
      "0   7,369,635  \n",
      "1   5,557,372  \n",
      "2   5,455,686  \n",
      "3   4,695,437  \n",
      "4   4,242,953  \n",
      "5   4,176,912  \n",
      "6   2,804,438  \n",
      "7   2,725,489  \n",
      "8   2,436,381  \n",
      "9   2,356,458  \n",
      "10  2,210,895  \n",
      "11  1,991,822  \n",
      "12  1,974,093  \n",
      "13  1,821,538  \n",
      "14  1,715,267  \n",
      "15  1,660,488  \n",
      "16  1,633,753  \n",
      "17  1,601,928  \n",
      "18  1,515,577  \n",
      "19  1,459,955  \n",
      "20  1,457,493  \n",
      "21  1,369,316  \n",
      "22  1,366,367  \n",
      "23  1,348,131  \n",
      "24  1,322,086  \n",
      "25  1,239,289  \n",
      "26  1,238,901  \n",
      "27  1,201,799  \n",
      "28  1,151,037  \n",
      "29  1,135,189  \n",
      "30  1,061,629  \n",
      "31  1,060,767  \n",
      "32  1,056,196  \n",
      "33  1,037,431  \n",
      "34  1,034,479  \n",
      "35  1,030,330  \n",
      "36  1,026,988  \n",
      "37  1,011,969  \n",
      "38    983,088  \n",
      "39    973,136  \n",
      "40    879,197  \n",
      "41    874,834  \n",
      "42    856,429  \n",
      "43    842,487  \n",
      "44    835,407  \n",
      "45    814,819  \n"
     ]
    }
   ],
   "source": [
    "print(wta_dfs[0])"
   ]
  },
  {
   "cell_type": "code",
   "execution_count": null,
   "id": "cb1f6e7b-cb6a-4607-9f04-6db1a5513265",
   "metadata": {},
   "outputs": [],
   "source": [
    "#why is there a newline after \"mixed\"?? How to correct? "
   ]
  },
  {
   "cell_type": "code",
   "execution_count": null,
   "id": "8d5d7000-c64e-4d4b-a82d-8d7e5b11e95f",
   "metadata": {},
   "outputs": [],
   "source": []
  },
  {
   "cell_type": "code",
   "execution_count": null,
   "id": "6e163952-e1df-4690-9022-494a82df296c",
   "metadata": {},
   "outputs": [],
   "source": []
  },
  {
   "cell_type": "code",
   "execution_count": 14,
   "id": "715833c4-e9fc-4f0b-a0e8-7b9990f8c0d4",
   "metadata": {},
   "outputs": [
    {
     "ename": "HTTPError",
     "evalue": "HTTP Error 403: Forbidden",
     "output_type": "error",
     "traceback": [
      "\u001b[0;31m---------------------------------------------------------------------------\u001b[0m",
      "\u001b[0;31mHTTPError\u001b[0m                                 Traceback (most recent call last)",
      "Cell \u001b[0;32mIn[14], line 1\u001b[0m\n\u001b[0;32m----> 1\u001b[0m atp_dfs \u001b[38;5;241m=\u001b[39m \u001b[43mtabula\u001b[49m\u001b[38;5;241;43m.\u001b[39;49m\u001b[43mread_pdf\u001b[49m\u001b[43m(\u001b[49m\u001b[43matp_path\u001b[49m\u001b[43m,\u001b[49m\u001b[43m \u001b[49m\u001b[43mstream\u001b[49m\u001b[38;5;241;43m=\u001b[39;49m\u001b[38;5;28;43;01mFalse\u001b[39;49;00m\u001b[43m)\u001b[49m\n\u001b[1;32m      2\u001b[0m \u001b[38;5;66;03m# read_pdf returns list of DataFrames\u001b[39;00m\n",
      "File \u001b[0;32m~/.pyenv/versions/3.10.11/lib/python3.10/site-packages/tabula/io.py:398\u001b[0m, in \u001b[0;36mread_pdf\u001b[0;34m(input_path, output_format, encoding, java_options, pandas_options, multiple_tables, user_agent, use_raw_url, pages, guess, area, relative_area, lattice, stream, password, silent, columns, relative_columns, format, batch, output_path, force_subprocess, options)\u001b[0m\n\u001b[1;32m    395\u001b[0m     \u001b[38;5;28;01mif\u001b[39;00m \u001b[38;5;129;01mnot\u001b[39;00m \u001b[38;5;28many\u001b[39m(\u001b[38;5;124m\"\u001b[39m\u001b[38;5;124mfile.encoding\u001b[39m\u001b[38;5;124m\"\u001b[39m \u001b[38;5;129;01min\u001b[39;00m opt \u001b[38;5;28;01mfor\u001b[39;00m opt \u001b[38;5;129;01min\u001b[39;00m java_options):\n\u001b[1;32m    396\u001b[0m         java_options \u001b[38;5;241m+\u001b[39m\u001b[38;5;241m=\u001b[39m [\u001b[38;5;124m\"\u001b[39m\u001b[38;5;124m-Dfile.encoding=UTF8\u001b[39m\u001b[38;5;124m\"\u001b[39m]\n\u001b[0;32m--> 398\u001b[0m path, temporary \u001b[38;5;241m=\u001b[39m \u001b[43mlocalize_file\u001b[49m\u001b[43m(\u001b[49m\u001b[43minput_path\u001b[49m\u001b[43m,\u001b[49m\u001b[43m \u001b[49m\u001b[43muser_agent\u001b[49m\u001b[43m,\u001b[49m\u001b[43m \u001b[49m\u001b[43muse_raw_url\u001b[49m\u001b[38;5;241;43m=\u001b[39;49m\u001b[43muse_raw_url\u001b[49m\u001b[43m)\u001b[49m\n\u001b[1;32m    400\u001b[0m \u001b[38;5;28;01mif\u001b[39;00m \u001b[38;5;129;01mnot\u001b[39;00m os\u001b[38;5;241m.\u001b[39mpath\u001b[38;5;241m.\u001b[39mexists(path):\n\u001b[1;32m    401\u001b[0m     \u001b[38;5;28;01mraise\u001b[39;00m \u001b[38;5;167;01mFileNotFoundError\u001b[39;00m(errno\u001b[38;5;241m.\u001b[39mENOENT, os\u001b[38;5;241m.\u001b[39mstrerror(errno\u001b[38;5;241m.\u001b[39mENOENT), path)\n",
      "File \u001b[0;32m~/.pyenv/versions/3.10.11/lib/python3.10/site-packages/tabula/file_util.py:59\u001b[0m, in \u001b[0;36mlocalize_file\u001b[0;34m(path_or_buffer, user_agent, suffix, use_raw_url)\u001b[0m\n\u001b[1;32m     57\u001b[0m     req \u001b[38;5;241m=\u001b[39m urlopen(_create_request(path_or_buffer, user_agent))\n\u001b[1;32m     58\u001b[0m \u001b[38;5;28;01melse\u001b[39;00m:\n\u001b[0;32m---> 59\u001b[0m     req \u001b[38;5;241m=\u001b[39m \u001b[43murlopen\u001b[49m\u001b[43m(\u001b[49m\u001b[43mpath_or_buffer\u001b[49m\u001b[43m)\u001b[49m\n\u001b[1;32m     61\u001b[0m parsed_url \u001b[38;5;241m=\u001b[39m urlparse(req\u001b[38;5;241m.\u001b[39mgeturl())\n\u001b[1;32m     62\u001b[0m filename \u001b[38;5;241m=\u001b[39m os\u001b[38;5;241m.\u001b[39mpath\u001b[38;5;241m.\u001b[39mbasename(parsed_url\u001b[38;5;241m.\u001b[39mpath)\n",
      "File \u001b[0;32m~/.pyenv/versions/3.10.11/lib/python3.10/urllib/request.py:216\u001b[0m, in \u001b[0;36murlopen\u001b[0;34m(url, data, timeout, cafile, capath, cadefault, context)\u001b[0m\n\u001b[1;32m    214\u001b[0m \u001b[38;5;28;01melse\u001b[39;00m:\n\u001b[1;32m    215\u001b[0m     opener \u001b[38;5;241m=\u001b[39m _opener\n\u001b[0;32m--> 216\u001b[0m \u001b[38;5;28;01mreturn\u001b[39;00m \u001b[43mopener\u001b[49m\u001b[38;5;241;43m.\u001b[39;49m\u001b[43mopen\u001b[49m\u001b[43m(\u001b[49m\u001b[43murl\u001b[49m\u001b[43m,\u001b[49m\u001b[43m \u001b[49m\u001b[43mdata\u001b[49m\u001b[43m,\u001b[49m\u001b[43m \u001b[49m\u001b[43mtimeout\u001b[49m\u001b[43m)\u001b[49m\n",
      "File \u001b[0;32m~/.pyenv/versions/3.10.11/lib/python3.10/urllib/request.py:525\u001b[0m, in \u001b[0;36mOpenerDirector.open\u001b[0;34m(self, fullurl, data, timeout)\u001b[0m\n\u001b[1;32m    523\u001b[0m \u001b[38;5;28;01mfor\u001b[39;00m processor \u001b[38;5;129;01min\u001b[39;00m \u001b[38;5;28mself\u001b[39m\u001b[38;5;241m.\u001b[39mprocess_response\u001b[38;5;241m.\u001b[39mget(protocol, []):\n\u001b[1;32m    524\u001b[0m     meth \u001b[38;5;241m=\u001b[39m \u001b[38;5;28mgetattr\u001b[39m(processor, meth_name)\n\u001b[0;32m--> 525\u001b[0m     response \u001b[38;5;241m=\u001b[39m \u001b[43mmeth\u001b[49m\u001b[43m(\u001b[49m\u001b[43mreq\u001b[49m\u001b[43m,\u001b[49m\u001b[43m \u001b[49m\u001b[43mresponse\u001b[49m\u001b[43m)\u001b[49m\n\u001b[1;32m    527\u001b[0m \u001b[38;5;28;01mreturn\u001b[39;00m response\n",
      "File \u001b[0;32m~/.pyenv/versions/3.10.11/lib/python3.10/urllib/request.py:634\u001b[0m, in \u001b[0;36mHTTPErrorProcessor.http_response\u001b[0;34m(self, request, response)\u001b[0m\n\u001b[1;32m    631\u001b[0m \u001b[38;5;66;03m# According to RFC 2616, \"2xx\" code indicates that the client's\u001b[39;00m\n\u001b[1;32m    632\u001b[0m \u001b[38;5;66;03m# request was successfully received, understood, and accepted.\u001b[39;00m\n\u001b[1;32m    633\u001b[0m \u001b[38;5;28;01mif\u001b[39;00m \u001b[38;5;129;01mnot\u001b[39;00m (\u001b[38;5;241m200\u001b[39m \u001b[38;5;241m<\u001b[39m\u001b[38;5;241m=\u001b[39m code \u001b[38;5;241m<\u001b[39m \u001b[38;5;241m300\u001b[39m):\n\u001b[0;32m--> 634\u001b[0m     response \u001b[38;5;241m=\u001b[39m \u001b[38;5;28;43mself\u001b[39;49m\u001b[38;5;241;43m.\u001b[39;49m\u001b[43mparent\u001b[49m\u001b[38;5;241;43m.\u001b[39;49m\u001b[43merror\u001b[49m\u001b[43m(\u001b[49m\n\u001b[1;32m    635\u001b[0m \u001b[43m        \u001b[49m\u001b[38;5;124;43m'\u001b[39;49m\u001b[38;5;124;43mhttp\u001b[39;49m\u001b[38;5;124;43m'\u001b[39;49m\u001b[43m,\u001b[49m\u001b[43m \u001b[49m\u001b[43mrequest\u001b[49m\u001b[43m,\u001b[49m\u001b[43m \u001b[49m\u001b[43mresponse\u001b[49m\u001b[43m,\u001b[49m\u001b[43m \u001b[49m\u001b[43mcode\u001b[49m\u001b[43m,\u001b[49m\u001b[43m \u001b[49m\u001b[43mmsg\u001b[49m\u001b[43m,\u001b[49m\u001b[43m \u001b[49m\u001b[43mhdrs\u001b[49m\u001b[43m)\u001b[49m\n\u001b[1;32m    637\u001b[0m \u001b[38;5;28;01mreturn\u001b[39;00m response\n",
      "File \u001b[0;32m~/.pyenv/versions/3.10.11/lib/python3.10/urllib/request.py:563\u001b[0m, in \u001b[0;36mOpenerDirector.error\u001b[0;34m(self, proto, *args)\u001b[0m\n\u001b[1;32m    561\u001b[0m \u001b[38;5;28;01mif\u001b[39;00m http_err:\n\u001b[1;32m    562\u001b[0m     args \u001b[38;5;241m=\u001b[39m (\u001b[38;5;28mdict\u001b[39m, \u001b[38;5;124m'\u001b[39m\u001b[38;5;124mdefault\u001b[39m\u001b[38;5;124m'\u001b[39m, \u001b[38;5;124m'\u001b[39m\u001b[38;5;124mhttp_error_default\u001b[39m\u001b[38;5;124m'\u001b[39m) \u001b[38;5;241m+\u001b[39m orig_args\n\u001b[0;32m--> 563\u001b[0m     \u001b[38;5;28;01mreturn\u001b[39;00m \u001b[38;5;28;43mself\u001b[39;49m\u001b[38;5;241;43m.\u001b[39;49m\u001b[43m_call_chain\u001b[49m\u001b[43m(\u001b[49m\u001b[38;5;241;43m*\u001b[39;49m\u001b[43margs\u001b[49m\u001b[43m)\u001b[49m\n",
      "File \u001b[0;32m~/.pyenv/versions/3.10.11/lib/python3.10/urllib/request.py:496\u001b[0m, in \u001b[0;36mOpenerDirector._call_chain\u001b[0;34m(self, chain, kind, meth_name, *args)\u001b[0m\n\u001b[1;32m    494\u001b[0m \u001b[38;5;28;01mfor\u001b[39;00m handler \u001b[38;5;129;01min\u001b[39;00m handlers:\n\u001b[1;32m    495\u001b[0m     func \u001b[38;5;241m=\u001b[39m \u001b[38;5;28mgetattr\u001b[39m(handler, meth_name)\n\u001b[0;32m--> 496\u001b[0m     result \u001b[38;5;241m=\u001b[39m \u001b[43mfunc\u001b[49m\u001b[43m(\u001b[49m\u001b[38;5;241;43m*\u001b[39;49m\u001b[43margs\u001b[49m\u001b[43m)\u001b[49m\n\u001b[1;32m    497\u001b[0m     \u001b[38;5;28;01mif\u001b[39;00m result \u001b[38;5;129;01mis\u001b[39;00m \u001b[38;5;129;01mnot\u001b[39;00m \u001b[38;5;28;01mNone\u001b[39;00m:\n\u001b[1;32m    498\u001b[0m         \u001b[38;5;28;01mreturn\u001b[39;00m result\n",
      "File \u001b[0;32m~/.pyenv/versions/3.10.11/lib/python3.10/urllib/request.py:643\u001b[0m, in \u001b[0;36mHTTPDefaultErrorHandler.http_error_default\u001b[0;34m(self, req, fp, code, msg, hdrs)\u001b[0m\n\u001b[1;32m    642\u001b[0m \u001b[38;5;28;01mdef\u001b[39;00m \u001b[38;5;21mhttp_error_default\u001b[39m(\u001b[38;5;28mself\u001b[39m, req, fp, code, msg, hdrs):\n\u001b[0;32m--> 643\u001b[0m     \u001b[38;5;28;01mraise\u001b[39;00m HTTPError(req\u001b[38;5;241m.\u001b[39mfull_url, code, msg, hdrs, fp)\n",
      "\u001b[0;31mHTTPError\u001b[0m: HTTP Error 403: Forbidden"
     ]
    }
   ],
   "source": [
    "atp_dfs = tabula.read_pdf(atp_path, stream=False)\n",
    "# read_pdf returns list of DataFrames"
   ]
  },
  {
   "cell_type": "code",
   "execution_count": 11,
   "id": "a6c92c51-6fd6-4c26-a40b-84d2ba9567fc",
   "metadata": {},
   "outputs": [
    {
     "name": "stdout",
     "output_type": "stream",
     "text": [
      "Help on function read_pdf in module tabula.io:\n",
      "\n",
      "read_pdf(input_path: Union[IO, str, os.PathLike], output_format: Optional[str] = None, encoding: str = 'utf-8', java_options: Optional[List[str]] = None, pandas_options: Optional[Dict[str, Any]] = None, multiple_tables: bool = True, user_agent: Optional[str] = None, use_raw_url: bool = False, pages: Union[str, int, Iterable[int], NoneType] = None, guess: bool = True, area: Union[Iterable[float], Iterable[Iterable[float]], NoneType] = None, relative_area: bool = False, lattice: bool = False, stream: bool = False, password: Optional[str] = None, silent: Optional[bool] = None, columns: Optional[Iterable[float]] = None, relative_columns: bool = False, format: Optional[str] = None, batch: Optional[str] = None, output_path: Optional[str] = None, force_subprocess: bool = False, options: str = '') -> Union[List[pandas.core.frame.DataFrame], Dict[str, Any]]\n",
      "    Read tables in PDF.\n",
      "    \n",
      "    Args:\n",
      "        input_path (str, path object or file-like object):\n",
      "            File like object of target PDF file.\n",
      "            It can be URL, which is downloaded by tabula-py automatically.\n",
      "        output_format (str, optional):\n",
      "            Output format for returned object (``dataframe`` or ``json``)\n",
      "            Giving this option enforces to ignore `multiple_tables` option.\n",
      "        encoding (str, optional):\n",
      "            Encoding type for pandas. Default: ``utf-8``\n",
      "        java_options (list, optional):\n",
      "            Set java options. This option will be ignored once JVM is launched.\n",
      "    \n",
      "            Example:\n",
      "                ``[\"-Xmx256m\"]``\n",
      "        pandas_options (dict, optional):\n",
      "            Set pandas options.\n",
      "    \n",
      "            Example:\n",
      "                ``{'header': None}``\n",
      "    \n",
      "            Note:\n",
      "                With ``multiple_tables=True`` (default), pandas_options is passed\n",
      "                to pandas.DataFrame, otherwise it is passed to pandas.read_csv.\n",
      "                Those two functions are different for accept options like ``dtype``.\n",
      "        multiple_tables (bool):\n",
      "            It enables to handle multiple tables within a page. Default: ``True``\n",
      "    \n",
      "            Note:\n",
      "                If `multiple_tables` option is enabled, tabula-py uses not\n",
      "                :func:`pd.read_csv()`, but :func:`pd.DataFrame()`. Make\n",
      "                sure to pass appropriate `pandas_options`.\n",
      "        user_agent (str, optional):\n",
      "            Set a custom user-agent when download a pdf from a url. Otherwise\n",
      "            it uses the default ``urllib.request`` user-agent.\n",
      "        use_raw_url (bool):\n",
      "            It enforces to use `input_path` string for url without quoting/dequoting.\n",
      "            Default: False\n",
      "        pages (str, int, `iterable` of `int`, optional):\n",
      "            An optional values specifying pages to extract from. It allows\n",
      "            `str`,`int`, `iterable` of :`int`. Default: `1`\n",
      "    \n",
      "            Examples:\n",
      "                ``'1-2,3'``, ``'all'``, ``[1,2]``\n",
      "        guess (bool, optional):\n",
      "            Guess the portion of the page to analyze per page. Default `True`\n",
      "            If you use \"area\" option, this option becomes `False`.\n",
      "    \n",
      "            Note:\n",
      "                As of tabula-java 1.0.3, guess option becomes independent from\n",
      "                lattice and stream option, you can use guess and lattice/stream option\n",
      "                at the same time.\n",
      "    \n",
      "        area (iterable of float, iterable of iterable of float, optional):\n",
      "            Portion of the page to analyze(top,left,bottom,right).\n",
      "            Default is entire page.\n",
      "    \n",
      "            Note:\n",
      "                If you want to use multiple area options and extract in one table, it\n",
      "                should be better to set ``multiple_tables=False`` for :func:`read_pdf()`\n",
      "    \n",
      "            Examples:\n",
      "                ``[269.875,12.75,790.5,561]``,\n",
      "                ``[[12.1,20.5,30.1,50.2], [1.0,3.2,10.5,40.2]]``\n",
      "    \n",
      "        relative_area (bool, optional):\n",
      "            If all area values are between 0-100 (inclusive) and preceded by ``'%'``,\n",
      "            input will be taken as % of actual height or width of the page.\n",
      "            Default ``False``.\n",
      "        lattice (bool, optional):\n",
      "            Force PDF to be extracted using lattice-mode extraction\n",
      "            (if there are ruling lines separating each cell, as in a PDF of an\n",
      "            Excel spreadsheet)\n",
      "        stream (bool, optional):\n",
      "            Force PDF to be extracted using stream-mode extraction\n",
      "            (if there are no ruling lines separating each cell, as in a PDF of an\n",
      "            Excel spreadsheet)\n",
      "        password (str, optional):\n",
      "            Password to decrypt document. Default: empty\n",
      "        silent (bool, optional):\n",
      "            Suppress all stderr output.\n",
      "        columns (iterable, optional):\n",
      "            X coordinates of column boundaries.\n",
      "    \n",
      "            Example:\n",
      "                ``[10.1, 20.2, 30.3]``\n",
      "        relative_columns (bool, optional):\n",
      "            If all values are between 0-100 (inclusive) and preceded by '%',\n",
      "            input will be taken as % of actual width of the page.\n",
      "            Default ``False``.\n",
      "        format (str, optional):\n",
      "            Format for output file or extracted object.\n",
      "            (``\"CSV\"``, ``\"TSV\"``, ``\"JSON\"``)\n",
      "        batch (str, optional):\n",
      "            Convert all PDF files in the provided directory. This argument should be\n",
      "            directory path.\n",
      "        output_path (str, optional):\n",
      "            Output file path. File format of it is depends on ``format``.\n",
      "            Same as ``--outfile`` option of tabula-java.\n",
      "        force_subprocess (bool):\n",
      "            Force to use tabula-java subprocess mode. If you have some issue with\n",
      "            jpype, try this option with same environment.\n",
      "            Default ``False``.\n",
      "        options (str, optional):\n",
      "            Raw option string for tabula-java.\n",
      "    \n",
      "    Returns:\n",
      "        list of DataFrames or dict.\n",
      "    \n",
      "    Raises:\n",
      "        FileNotFoundError:\n",
      "            If downloaded remote file doesn't exist.\n",
      "    \n",
      "        ValueError:\n",
      "            If output_format is unknown format, or if downloaded remote file size is 0.\n",
      "    \n",
      "        tabula.errors.CSVParseError:\n",
      "            If pandas CSV parsing failed.\n",
      "    \n",
      "        tabula.errors.JavaNotFoundError:\n",
      "            If java is not installed or found.\n",
      "    \n",
      "        subprocess.CalledProcessError:\n",
      "            If tabula-java execution failed.\n",
      "    \n",
      "    Examples:\n",
      "    \n",
      "        Here is a simple example.\n",
      "        Note that :func:`read_pdf()` only extract page 1 by default.\n",
      "    \n",
      "        Notes:\n",
      "            As of tabula-py 2.0.0, :func:`read_pdf()` sets `multiple_tables=True` by\n",
      "            default. If you want to get consistent output with previous version, set\n",
      "            `multiple_tables=False`.\n",
      "    \n",
      "        >>> import tabula\n",
      "        >>> pdf_path = \"https://github.com/chezou/tabula-py/raw/master/tests/resources/data.pdf\"\n",
      "        >>> tabula.read_pdf(pdf_path, stream=True)\n",
      "        [             Unnamed: 0   mpg  cyl   disp   hp  drat     wt   qsec  vs  am  gear  carb\n",
      "        0             Mazda RX4  21.0    6  160.0  110  3.90  2.620  16.46   0   1     4     4\n",
      "        1         Mazda RX4 Wag  21.0    6  160.0  110  3.90  2.875  17.02   0   1     4     4\n",
      "        2            Datsun 710  22.8    4  108.0   93  3.85  2.320  18.61   1   1     4     1\n",
      "        3        Hornet 4 Drive  21.4    6  258.0  110  3.08  3.215  19.44   1   0     3     1\n",
      "        4     Hornet Sportabout  18.7    8  360.0  175  3.15  3.440  17.02   0   0     3     2\n",
      "        5               Valiant  18.1    6  225.0  105  2.76  3.460  20.22   1   0     3     1\n",
      "        6            Duster 360  14.3    8  360.0  245  3.21  3.570  15.84   0   0     3     4\n",
      "        7             Merc 240D  24.4    4  146.7   62  3.69  3.190  20.00   1   0     4     2\n",
      "        8              Merc 230  22.8    4  140.8   95  3.92  3.150  22.90   1   0     4     2\n",
      "        9              Merc 280  19.2    6  167.6  123  3.92  3.440  18.30   1   0     4     4\n",
      "        10            Merc 280C  17.8    6  167.6  123  3.92  3.440  18.90   1   0     4     4\n",
      "        11           Merc 450SE  16.4    8  275.8  180  3.07  4.070  17.40   0   0     3     3\n",
      "        12           Merc 450SL  17.3    8  275.8  180  3.07  3.730  17.60   0   0     3     3\n",
      "        13          Merc 450SLC  15.2    8  275.8  180  3.07  3.780  18.00   0   0     3     3\n",
      "        14   Cadillac Fleetwood  10.4    8  472.0  205  2.93  5.250  17.98   0   0     3     4\n",
      "        15  Lincoln Continental  10.4    8  460.0  215  3.00  5.424  17.82   0   0     3     4\n",
      "        16    Chrysler Imperial  14.7    8  440.0  230  3.23  5.345  17.42   0   0     3     4\n",
      "        17             Fiat 128  32.4    4   78.7   66  4.08  2.200  19.47   1   1     4     1\n",
      "        18          Honda Civic  30.4    4   75.7   52  4.93  1.615  18.52   1   1     4     2\n",
      "        19       Toyota Corolla  33.9    4   71.1   65  4.22  1.835  19.90   1   1     4     1\n",
      "        20        Toyota Corona  21.5    4  120.1   97  3.70  2.465  20.01   1   0     3     1\n",
      "        21     Dodge Challenger  15.5    8  318.0  150  2.76  3.520  16.87   0   0     3     2\n",
      "        22          AMC Javelin  15.2    8  304.0  150  3.15  3.435  17.30   0   0     3     2\n",
      "        23           Camaro Z28  13.3    8  350.0  245  3.73  3.840  15.41   0   0     3     4\n",
      "        24     Pontiac Firebird  19.2    8  400.0  175  3.08  3.845  17.05   0   0     3     2\n",
      "        25            Fiat X1-9  27.3    4   79.0   66  4.08  1.935  18.90   1   1     4     1\n",
      "        26        Porsche 914-2  26.0    4  120.3   91  4.43  2.140  16.70   0   1     5     2\n",
      "        27         Lotus Europa  30.4    4   95.1  113  3.77  1.513  16.90   1   1     5     2\n",
      "        28       Ford Pantera L  15.8    8  351.0  264  4.22  3.170  14.50   0   1     5     4\n",
      "        29         Ferrari Dino  19.7    6  145.0  175  3.62  2.770  15.50   0   1     5     6\n",
      "        30        Maserati Bora  15.0    8  301.0  335  3.54  3.570  14.60   0   1     5     8\n",
      "        31           Volvo 142E  21.4    4  121.0  109  4.11  2.780  18.60   1   1     4     2]\n",
      "    \n",
      "        If you want to extract all pages, set ``pages=\"all\"``.\n",
      "    \n",
      "        >>> dfs = tabula.read_pdf(pdf_path, pages=\"all\")\n",
      "        >>> len(dfs)\n",
      "        4\n",
      "        >>> dfs\n",
      "        [       0    1      2    3     4      5      6   7   8     9\n",
      "        0    mpg  cyl   disp   hp  drat     wt   qsec  vs  am  gear\n",
      "        1   21.0    6  160.0  110  3.90  2.620  16.46   0   1     4\n",
      "        2   21.0    6  160.0  110  3.90  2.875  17.02   0   1     4\n",
      "        3   22.8    4  108.0   93  3.85  2.320  18.61   1   1     4\n",
      "        4   21.4    6  258.0  110  3.08  3.215  19.44   1   0     3\n",
      "        5   18.7    8  360.0  175  3.15  3.440  17.02   0   0     3\n",
      "        6   18.1    6  225.0  105  2.76  3.460  20.22   1   0     3\n",
      "        7   14.3    8  360.0  245  3.21  3.570  15.84   0   0     3\n",
      "        8   24.4    4  146.7   62  3.69  3.190  20.00   1   0     4\n",
      "        9   22.8    4  140.8   95  3.92  3.150  22.90   1   0     4\n",
      "        10  19.2    6  167.6  123  3.92  3.440  18.30   1   0     4\n",
      "        11  17.8    6  167.6  123  3.92  3.440  18.90   1   0     4\n",
      "        12  16.4    8  275.8  180  3.07  4.070  17.40   0   0     3\n",
      "        13  17.3    8  275.8  180  3.07  3.730  17.60   0   0     3\n",
      "        14  15.2    8  275.8  180  3.07  3.780  18.00   0   0     3\n",
      "        15  10.4    8  472.0  205  2.93  5.250  17.98   0   0     3\n",
      "        16  10.4    8  460.0  215  3.00  5.424  17.82   0   0     3\n",
      "        17  14.7    8  440.0  230  3.23  5.345  17.42   0   0     3\n",
      "        18  32.4    4   78.7   66  4.08  2.200  19.47   1   1     4\n",
      "        19  30.4    4   75.7   52  4.93  1.615  18.52   1   1     4\n",
      "        20  33.9    4   71.1   65  4.22  1.835  19.90   1   1     4\n",
      "        21  21.5    4  120.1   97  3.70  2.465  20.01   1   0     3\n",
      "        22  15.5    8  318.0  150  2.76  3.520  16.87   0   0     3\n",
      "        23  15.2    8  304.0  150  3.15  3.435  17.30   0   0     3\n",
      "        24  13.3    8  350.0  245  3.73  3.840  15.41   0   0     3\n",
      "        25  19.2    8  400.0  175  3.08  3.845  17.05   0   0     3\n",
      "        26  27.3    4   79.0   66  4.08  1.935  18.90   1   1     4\n",
      "        27  26.0    4  120.3   91  4.43  2.140  16.70   0   1     5\n",
      "        28  30.4    4   95.1  113  3.77  1.513  16.90   1   1     5\n",
      "        29  15.8    8  351.0  264  4.22  3.170  14.50   0   1     5\n",
      "        30  19.7    6  145.0  175  3.62  2.770  15.50   0   1     5\n",
      "        31  15.0    8  301.0  335  3.54  3.570  14.60   0   1     5,               0            1             2            3        4\n",
      "        0  Sepal.Length  Sepal.Width  Petal.Length  Petal.Width  Species\n",
      "        1           5.1          3.5           1.4          0.2   setosa\n",
      "        2           4.9          3.0           1.4          0.2   setosa\n",
      "        3           4.7          3.2           1.3          0.2   setosa\n",
      "        4           4.6          3.1           1.5          0.2   setosa\n",
      "        5           5.0          3.6           1.4          0.2   setosa\n",
      "        6           5.4          3.9           1.7          0.4   setosa,      0             1            2             3            4          5\n",
      "        0  NaN  Sepal.Length  Sepal.Width  Petal.Length  Petal.Width    Species\n",
      "        1  145           6.7          3.3           5.7          2.5  virginica\n",
      "        2  146           6.7          3.0           5.2          2.3  virginica\n",
      "        3  147           6.3          2.5           5.0          1.9  virginica\n",
      "        4  148           6.5          3.0           5.2          2.0  virginica\n",
      "        5  149           6.2          3.4           5.4          2.3  virginica\n",
      "        6  150           5.9          3.0           5.1          1.8  virginica,        0\n",
      "        0   supp\n",
      "        1     VC\n",
      "        2     VC\n",
      "        3     VC\n",
      "        4     VC\n",
      "        5     VC\n",
      "        6     VC\n",
      "        7     VC\n",
      "        8     VC\n",
      "        9     VC\n",
      "        10    VC\n",
      "        11    VC\n",
      "        12    VC\n",
      "        13    VC\n",
      "        14    VC]\n",
      "\n"
     ]
    }
   ],
   "source": [
    "help(tabula.read_pdf)"
   ]
  },
  {
   "cell_type": "code",
   "execution_count": 73,
   "id": "bb75e591-e8ba-454f-84e5-161c4bb4bf74",
   "metadata": {},
   "outputs": [],
   "source": [
    "atp_dfs = tabula.read_pdf(atp_path, stream=True, user_agent=\"Mozilla/5.0\", pages='1-12')"
   ]
  },
  {
   "cell_type": "code",
   "execution_count": 74,
   "id": "d97e728f-a374-485b-b3c1-920444366808",
   "metadata": {},
   "outputs": [
    {
     "data": {
      "text/plain": [
       "12"
      ]
     },
     "execution_count": 74,
     "metadata": {},
     "output_type": "execute_result"
    }
   ],
   "source": [
    "len(atp_dfs)"
   ]
  },
  {
   "cell_type": "code",
   "execution_count": 22,
   "id": "56b8274d-ac61-44d7-9790-c7a3c78e56cb",
   "metadata": {
    "scrolled": true
   },
   "outputs": [
    {
     "name": "stdout",
     "output_type": "stream",
     "text": [
      "    485           Ejupovic, Elmar  $36,603  $34,356   $2,247    $139,689\n",
      "0   486              Kadhe, Arjun  $36,554   $4,967  $31,587    $173,211\n",
      "1   487            Klaasen, Raven  $36,423       $0  $36,423  $4,014,060\n",
      "2   488       Harrison, Christian  $36,187  $14,983  $21,204    $660,795\n",
      "3   489   Prashanth, Vijay Sundar  $35,980       $0  $35,980    $168,292\n",
      "4   490         Oberleitner, Neil  $35,746  $19,072  $16,674     $78,063\n",
      "5   491                 Borg, Leo  $35,723  $32,659   $3,064     $80,445\n",
      "6   492     Moro Canas, Alejandro  $35,585  $34,291   $1,294     $87,730\n",
      "7   493           Sinclair, Colin  $35,261  $22,468  $12,793     $98,137\n",
      "8   494          Wendelken, Harry  $34,885  $31,688   $3,197     $60,341\n",
      "9   495            Sugita, Yuichi  $34,810  $34,810       $0  $3,013,099\n",
      "10  496              Chung, Hyeon  $34,186  $34,186       $0  $3,734,399\n",
      "11  497                 Zhu, Evan  $34,104  $29,460   $4,644    $122,276\n",
      "12  498     Boscardin Dias, Pedro  $34,003  $20,893  $13,110     $71,742\n",
      "13  499               Cox, Daniel  $33,988  $33,988       $0    $327,313\n",
      "14  500        Manafov, Vladyslav  $33,370     $407  $32,963    $211,348\n",
      "15  501              Rosol, Lukas  $33,344  $32,422     $922  $4,716,272\n",
      "16  502             Blanchet, Ugo  $33,265  $29,885   $3,380     $99,062\n",
      "17  503      Jorda Sanchis, David  $33,165  $28,740   $4,425     $81,848\n",
      "18  504  Lopez San Martin, Alvaro  $33,072  $27,825   $5,247    $135,926\n",
      "19  505             Reese, Hunter  $33,026       $0  $33,026    $269,461\n",
      "20  506            Echargui, Moez  $33,014  $31,319   $1,695    $134,192\n",
      "21  507     Martos Gornes, Sergio  $32,698       $0  $32,698    $159,934\n",
      "22  508             Lama, Gonzalo  $32,479  $31,076   $1,403    $291,370\n",
      "23  509              Luz, Orlando  $32,453  $14,590  $17,863    $248,864\n",
      "24  510             Gengel, Marek  $32,451  $24,895   $7,556    $165,208\n",
      "25  511           Weis, Alexander  $32,319  $28,027   $4,292    $114,536\n",
      "26  512           Poullain, Lucas  $32,316  $31,161   $1,155     $72,853\n",
      "27  513             Stodder, Timo  $32,065  $28,906   $3,159     $88,639\n",
      "28  514       Dalla Valle, Enrico  $32,013  $29,881   $2,132    $103,667\n",
      "29  515         Romboli, Fernando  $31,993     $382  $31,611    $363,704\n",
      "30  516           Moeller, Marvin  $31,926  $27,350   $4,576     $99,661\n",
      "31  517      Vandecasteele, Quinn  $31,837  $31,225     $612     $33,893\n",
      "32  518              Kirkin, Ergi  $31,788  $25,085   $6,703    $132,446\n",
      "33  519               Houkes, Max  $31,775  $28,748   $3,027     $72,501\n",
      "34  520     Jianu, Filip Cristian  $31,764  $29,338   $2,426    $126,291\n",
      "35  521         Rehberg, Max Hans  $31,516  $26,776   $4,740     $75,516\n",
      "36  522          Marcora, Roberto  $31,465  $30,585     $880    $573,053\n",
      "37  523            Poljicak, Mili  $31,165  $28,229   $2,936     $62,326\n",
      "38  524               Kodat, Toby  $31,145  $28,984   $2,161     $77,718\n",
      "39  525            Winter, Edward  $30,651  $26,786   $3,865     $69,087\n",
      "40  526          Santillan, Akira  $30,650  $21,703   $8,947    $484,055\n",
      "41  527        Lazarov, Alexandar  $30,605  $30,605       $0    $182,272\n",
      "42  528         Vrbensky, Michael  $30,562  $23,967   $6,595    $149,156\n"
     ]
    }
   ],
   "source": [
    "print(atp_dfs[11])"
   ]
  },
  {
   "cell_type": "code",
   "execution_count": 17,
   "id": "db2b28a5-49de-4a06-ad50-00bbb02476c6",
   "metadata": {},
   "outputs": [
    {
     "ename": "IndexError",
     "evalue": "list index out of range",
     "output_type": "error",
     "traceback": [
      "\u001b[0;31m---------------------------------------------------------------------------\u001b[0m",
      "\u001b[0;31mIndexError\u001b[0m                                Traceback (most recent call last)",
      "Cell \u001b[0;32mIn[17], line 1\u001b[0m\n\u001b[0;32m----> 1\u001b[0m \u001b[38;5;28mprint\u001b[39m(\u001b[43matp_dfs\u001b[49m\u001b[43m[\u001b[49m\u001b[38;5;241;43m1\u001b[39;49m\u001b[43m]\u001b[49m)\n",
      "\u001b[0;31mIndexError\u001b[0m: list index out of range"
     ]
    }
   ],
   "source": [
    "print(atp_dfs[1])"
   ]
  },
  {
   "cell_type": "code",
   "execution_count": 75,
   "id": "8b4739bf-366e-46ce-b38c-da99e6d55005",
   "metadata": {},
   "outputs": [],
   "source": [
    "wta_dfs = tabula.read_pdf(wta_path, stream=True, user_agent=\"Mozilla/5.0\", pages='1-11')\n",
    "# read_pdf returns list of DataFrames\n"
   ]
  },
  {
   "cell_type": "code",
   "execution_count": 76,
   "id": "78c83a49-3591-4d10-a927-17ceffeadd8f",
   "metadata": {},
   "outputs": [
    {
     "name": "stdout",
     "output_type": "stream",
     "text": [
      "11\n"
     ]
    }
   ],
   "source": [
    "print(len(wta_dfs))"
   ]
  },
  {
   "cell_type": "code",
   "execution_count": 25,
   "id": "b24ba774-af98-403d-984a-e22290800883",
   "metadata": {},
   "outputs": [
    {
     "name": "stdout",
     "output_type": "stream",
     "text": [
      "    Standing                            Name  Nat Singles Doubles  Mixed  \\\n",
      "0        461                 LODIKOVA, DARIA  NaN  18,746   3,048    NaN   \n",
      "1        462               BUYUKAKCAY, CAGLA  TUR  19,640   1,907    NaN   \n",
      "2        463                   DUERST, JENNY  SUI  14,306   7,192    NaN   \n",
      "3        464                COSTOULAS, SOFIA  BEL  16,634   4,587    NaN   \n",
      "4        465                      WEI, SIJIA  CHN  18,114   3,093    NaN   \n",
      "5        466          GARCIA PEREZ, GEORGINA  ESP  14,275   6,499    NaN   \n",
      "6        467                IATCENKO, POLINA  NaN  17,887   2,654    NaN   \n",
      "7        468                        ITO, AOI  JPN  16,173   4,317    NaN   \n",
      "8        469                 BHOSALE, RUTUJA  IND  14,470   5,639    NaN   \n",
      "9        470             MARCINKEVICA, DIANA  LAT  13,434   6,510    NaN   \n",
      "10       471                   HAAS, BARBARA  AUT  19,825     101    NaN   \n",
      "11       472                 HEWITT, DALAYNA  USA  11,919   7,428    NaN   \n",
      "12       473               KUZMOVA, KATARINA  SVK  15,755   3,407    NaN   \n",
      "13       474                   BOSKOVIC, LEA  CRO  18,114   1,038    NaN   \n",
      "14       475            SOBOLEVA, ANASTASIYA  UKR  17,858   1,240    NaN   \n",
      "15       476           CIRIC BAGARIC, LUCIJA  CRO  18,077   1,020    NaN   \n",
      "16       477                  JORGE, MATILDE  POR   7,962  11,125    NaN   \n",
      "17       478                  OKAMURA, KYOKA  JPN  15,512   3,489    NaN   \n",
      "18       479           DI LORENZO, FRANCESCA  USA  12,671   6,268    NaN   \n",
      "19       480                    ROGERS, ANNA  USA   5,951  12,868    NaN   \n",
      "20       481               GABUEVA, ANGELINA  NaN   2,804  15,932    NaN   \n",
      "21       482                    SMITH, ALANA  USA  15,269   3,455    NaN   \n",
      "22       483                RYSER, VALENTINA  SUI  17,468   1,251    NaN   \n",
      "23       484                STOSUR, SAMANTHA  AUS     NaN  14,082  4,554   \n",
      "24       485                   RADISIC, NIKA  SLO  10,026   8,567    NaN   \n",
      "25       486                 MALYGINA, ELENA  EST  15,181   3,331    NaN   \n",
      "26       487                KUMKHUM, LUKSIKA  THA   8,991   9,476    NaN   \n",
      "27       488                BOJICA, STEFANIA  ROU  16,262   2,042    NaN   \n",
      "28       489                AMBROSIO, SILVIA  ITA  17,371     916    NaN   \n",
      "29       490               KOZAROV, KATARINA  SRB  16,285   1,987    NaN   \n",
      "30       491                 KURAMOCHI, MIHO  JPN  16,600   1,552    NaN   \n",
      "31       492              CHERUBINI, DILETTA  ITA  15,646   2,445    NaN   \n",
      "32       493                  OSTLUND, FANNY  SWE  11,329   6,653    NaN   \n",
      "33       494   NAVARRO OLIVA, MARIA FERNANDA  MEX  12,554   5,383    NaN   \n",
      "34       495                 MBOKO, VICTORIA  CAN  16,459   1,471    NaN   \n",
      "35       496                      GUTH, MARA  GER  16,320   1,595    NaN   \n",
      "36       497             FOMINA-KLOTZ, ALENA  NaN   1,394  16,435    NaN   \n",
      "37       498             BAYERLOVA, MICHAELA  CZE  11,330   6,450    NaN   \n",
      "38       499          SAWANGKAEW, MANANCHAYA  THA  16,980     795    NaN   \n",
      "39       500                   GAVRILA, OANA  ROU   7,935   9,765    NaN   \n",
      "40       501                   GLUSHKO, LINA  ISR  13,259   4,439    NaN   \n",
      "41       502                    CE, GABRIELA  BRA  17,694     NaN    NaN   \n",
      "42       503                 MATOULA, MARTHA  GRE  15,220   2,459    NaN   \n",
      "43       504          FALCONI HARTMAN, IRINA  USA  17,183     408    NaN   \n",
      "44       505  FERNANDEZ OLIVARES, LYA ISABEL  MEX  17,584     NaN    NaN   \n",
      "45       506                      XU, MINGGE  GBR  17,088     254    NaN   \n",
      "\n",
      "     Total  \n",
      "0   21,794  \n",
      "1   21,548  \n",
      "2   21,498  \n",
      "3   21,222  \n",
      "4   21,208  \n",
      "5   20,775  \n",
      "6   20,542  \n",
      "7   20,490  \n",
      "8   20,109  \n",
      "9   19,944  \n",
      "10  19,926  \n",
      "11  19,347  \n",
      "12  19,163  \n",
      "13  19,152  \n",
      "14  19,098  \n",
      "15  19,097  \n",
      "16  19,087  \n",
      "17  19,002  \n",
      "18  18,939  \n",
      "19  18,819  \n",
      "20  18,736  \n",
      "21  18,724  \n",
      "22  18,719  \n",
      "23  18,636  \n",
      "24  18,594  \n",
      "25  18,512  \n",
      "26  18,467  \n",
      "27  18,304  \n",
      "28  18,287  \n",
      "29  18,272  \n",
      "30  18,152  \n",
      "31  18,091  \n",
      "32  17,982  \n",
      "33  17,938  \n",
      "34  17,930  \n",
      "35  17,915  \n",
      "36  17,830  \n",
      "37  17,780  \n",
      "38  17,776  \n",
      "39  17,701  \n",
      "40  17,698  \n",
      "41  17,694  \n",
      "42  17,679  \n",
      "43  17,591  \n",
      "44  17,584  \n",
      "45  17,342  \n"
     ]
    }
   ],
   "source": [
    "print(wta_dfs[10])"
   ]
  },
  {
   "cell_type": "code",
   "execution_count": 77,
   "id": "3bdb2155-9ff1-430e-8120-f46c30ce9f54",
   "metadata": {},
   "outputs": [
    {
     "name": "stdout",
     "output_type": "stream",
     "text": [
      "Index(['Standing', 'Name', 'Nat', 'Singles', 'Doubles', 'Mixed', 'Total'], dtype='object')\n"
     ]
    }
   ],
   "source": [
    "print(wta_dfs[10].columns)"
   ]
  },
  {
   "cell_type": "code",
   "execution_count": 29,
   "id": "ab17b590-c734-406e-a7df-5d53f49774a4",
   "metadata": {},
   "outputs": [],
   "source": [
    "#only keep the columns that are common to the two dfs\n",
    "#wta_dfs = wta_dfs[['Name', , ]\n",
    "women_df= pd.DataFrame([])\n",
    "\n",
    "for wta_df in wta_dfs:\n",
    "    wta_df = wta_df[['Name', 'Total', 'Singles','Doubles' ]]\n",
    "    women_df = pd.concat([women_df, wta_df])\n"
   ]
  },
  {
   "cell_type": "code",
   "execution_count": 31,
   "id": "e0fd2bf7-5b12-417c-98ae-6b6079cdd3cd",
   "metadata": {},
   "outputs": [
    {
     "name": "stdout",
     "output_type": "stream",
     "text": [
      "                              Name      Total    Singles  Doubles\n",
      "0                 SABALENKA, ARYNA  7,369,635  7,362,685    6,950\n",
      "1                      GAUFF, COCO  5,557,372  4,903,882  653,490\n",
      "2                     SWIATEK, IGA  5,455,686  5,455,686      NaN\n",
      "3                  RYBAKINA, ELENA  4,695,437  4,631,334   64,103\n",
      "4             VONDROUSOVA, MARKETA  4,242,953  4,104,203  138,750\n",
      "..                             ...        ...        ...      ...\n",
      "41                    CE, GABRIELA     17,694     17,694      NaN\n",
      "42                 MATOULA, MARTHA     17,679     15,220    2,459\n",
      "43          FALCONI HARTMAN, IRINA     17,591     17,183      408\n",
      "44  FERNANDEZ OLIVARES, LYA ISABEL     17,584     17,584      NaN\n",
      "45                      XU, MINGGE     17,342     17,088      254\n",
      "\n",
      "[506 rows x 4 columns]\n"
     ]
    }
   ],
   "source": [
    "print(women_df)"
   ]
  },
  {
   "cell_type": "code",
   "execution_count": 32,
   "id": "38d9b327-df7b-4fe3-bcee-6ee51ef73f98",
   "metadata": {
    "scrolled": true
   },
   "outputs": [
    {
     "name": "stdout",
     "output_type": "stream",
     "text": [
      "Index(['Name', 'Total', 'Singles', 'Doubles'], dtype='object')\n"
     ]
    }
   ],
   "source": [
    "print(women_df.columns)"
   ]
  },
  {
   "cell_type": "code",
   "execution_count": 33,
   "id": "01a5e9b0-f7fd-4c7e-9506-7b811b0b0d1b",
   "metadata": {},
   "outputs": [
    {
     "data": {
      "text/html": [
       "<div>\n",
       "<style scoped>\n",
       "    .dataframe tbody tr th:only-of-type {\n",
       "        vertical-align: middle;\n",
       "    }\n",
       "\n",
       "    .dataframe tbody tr th {\n",
       "        vertical-align: top;\n",
       "    }\n",
       "\n",
       "    .dataframe thead th {\n",
       "        text-align: right;\n",
       "    }\n",
       "</style>\n",
       "<table border=\"1\" class=\"dataframe\">\n",
       "  <thead>\n",
       "    <tr style=\"text-align: right;\">\n",
       "      <th></th>\n",
       "      <th>index</th>\n",
       "      <th>Name</th>\n",
       "      <th>Total</th>\n",
       "      <th>Singles</th>\n",
       "      <th>Doubles</th>\n",
       "    </tr>\n",
       "  </thead>\n",
       "  <tbody>\n",
       "    <tr>\n",
       "      <th>0</th>\n",
       "      <td>0</td>\n",
       "      <td>SABALENKA, ARYNA</td>\n",
       "      <td>7,369,635</td>\n",
       "      <td>7,362,685</td>\n",
       "      <td>6,950</td>\n",
       "    </tr>\n",
       "    <tr>\n",
       "      <th>1</th>\n",
       "      <td>1</td>\n",
       "      <td>GAUFF, COCO</td>\n",
       "      <td>5,557,372</td>\n",
       "      <td>4,903,882</td>\n",
       "      <td>653,490</td>\n",
       "    </tr>\n",
       "    <tr>\n",
       "      <th>2</th>\n",
       "      <td>2</td>\n",
       "      <td>SWIATEK, IGA</td>\n",
       "      <td>5,455,686</td>\n",
       "      <td>5,455,686</td>\n",
       "      <td>NaN</td>\n",
       "    </tr>\n",
       "    <tr>\n",
       "      <th>3</th>\n",
       "      <td>3</td>\n",
       "      <td>RYBAKINA, ELENA</td>\n",
       "      <td>4,695,437</td>\n",
       "      <td>4,631,334</td>\n",
       "      <td>64,103</td>\n",
       "    </tr>\n",
       "    <tr>\n",
       "      <th>4</th>\n",
       "      <td>4</td>\n",
       "      <td>VONDROUSOVA, MARKETA</td>\n",
       "      <td>4,242,953</td>\n",
       "      <td>4,104,203</td>\n",
       "      <td>138,750</td>\n",
       "    </tr>\n",
       "    <tr>\n",
       "      <th>...</th>\n",
       "      <td>...</td>\n",
       "      <td>...</td>\n",
       "      <td>...</td>\n",
       "      <td>...</td>\n",
       "      <td>...</td>\n",
       "    </tr>\n",
       "    <tr>\n",
       "      <th>501</th>\n",
       "      <td>41</td>\n",
       "      <td>CE, GABRIELA</td>\n",
       "      <td>17,694</td>\n",
       "      <td>17,694</td>\n",
       "      <td>NaN</td>\n",
       "    </tr>\n",
       "    <tr>\n",
       "      <th>502</th>\n",
       "      <td>42</td>\n",
       "      <td>MATOULA, MARTHA</td>\n",
       "      <td>17,679</td>\n",
       "      <td>15,220</td>\n",
       "      <td>2,459</td>\n",
       "    </tr>\n",
       "    <tr>\n",
       "      <th>503</th>\n",
       "      <td>43</td>\n",
       "      <td>FALCONI HARTMAN, IRINA</td>\n",
       "      <td>17,591</td>\n",
       "      <td>17,183</td>\n",
       "      <td>408</td>\n",
       "    </tr>\n",
       "    <tr>\n",
       "      <th>504</th>\n",
       "      <td>44</td>\n",
       "      <td>FERNANDEZ OLIVARES, LYA ISABEL</td>\n",
       "      <td>17,584</td>\n",
       "      <td>17,584</td>\n",
       "      <td>NaN</td>\n",
       "    </tr>\n",
       "    <tr>\n",
       "      <th>505</th>\n",
       "      <td>45</td>\n",
       "      <td>XU, MINGGE</td>\n",
       "      <td>17,342</td>\n",
       "      <td>17,088</td>\n",
       "      <td>254</td>\n",
       "    </tr>\n",
       "  </tbody>\n",
       "</table>\n",
       "<p>506 rows × 5 columns</p>\n",
       "</div>"
      ],
      "text/plain": [
       "     index                            Name      Total    Singles  Doubles\n",
       "0        0                SABALENKA, ARYNA  7,369,635  7,362,685    6,950\n",
       "1        1                     GAUFF, COCO  5,557,372  4,903,882  653,490\n",
       "2        2                    SWIATEK, IGA  5,455,686  5,455,686      NaN\n",
       "3        3                 RYBAKINA, ELENA  4,695,437  4,631,334   64,103\n",
       "4        4            VONDROUSOVA, MARKETA  4,242,953  4,104,203  138,750\n",
       "..     ...                             ...        ...        ...      ...\n",
       "501     41                    CE, GABRIELA     17,694     17,694      NaN\n",
       "502     42                 MATOULA, MARTHA     17,679     15,220    2,459\n",
       "503     43          FALCONI HARTMAN, IRINA     17,591     17,183      408\n",
       "504     44  FERNANDEZ OLIVARES, LYA ISABEL     17,584     17,584      NaN\n",
       "505     45                      XU, MINGGE     17,342     17,088      254\n",
       "\n",
       "[506 rows x 5 columns]"
      ]
     },
     "execution_count": 33,
     "metadata": {},
     "output_type": "execute_result"
    }
   ],
   "source": [
    "women_df.reset_index()"
   ]
  },
  {
   "cell_type": "code",
   "execution_count": 38,
   "id": "0799cf65-f618-4555-9702-3e3b04251192",
   "metadata": {},
   "outputs": [],
   "source": [
    "atp_dfs = tabula.read_pdf(atp_path, stream=True, user_agent=\"Mozilla/5.0\", pages='1-12', pandas_options={'header': None})\n"
   ]
  },
  {
   "cell_type": "code",
   "execution_count": 39,
   "id": "cbf90916-0576-4814-bf25-5df041b99f84",
   "metadata": {},
   "outputs": [
    {
     "name": "stdout",
     "output_type": "stream",
     "text": [
      "RangeIndex(start=0, stop=6, step=1)\n"
     ]
    }
   ],
   "source": [
    "print(atp_dfs[0].columns)"
   ]
  },
  {
   "cell_type": "code",
   "execution_count": 40,
   "id": "57ba1806-5937-473b-80c6-52a7c4cf0048",
   "metadata": {},
   "outputs": [
    {
     "name": "stdout",
     "output_type": "stream",
     "text": [
      "     0                             1            2            3           4  \\\n",
      "0    1               Djokovic, Novak  $10,590,175  $10,581,665      $8,510   \n",
      "1    2               Alcaraz, Carlos   $9,506,924   $9,506,924          $0   \n",
      "2    3              Medvedev, Daniil   $7,777,474   $7,777,474          $0   \n",
      "3    4                Sinner, Jannik   $5,092,373   $5,041,360     $51,013   \n",
      "4    5                Rublev, Andrey   $4,052,486   $3,714,248    $338,238   \n",
      "5    6           Tsitsipas, Stefanos   $4,051,088   $3,948,858    $102,230   \n",
      "6    7             Zverev, Alexander   $3,614,697   $3,517,696     $97,001   \n",
      "7    8                 Fritz, Taylor   $3,306,078   $3,219,440     $86,638   \n",
      "8    9                  Rune, Holger   $3,126,784   $3,104,273     $22,511   \n",
      "9   10                  Ruud, Casper   $2,945,335   $2,919,253     $26,082   \n",
      "10  11               de Minaur, Alex   $2,645,421   $2,580,717     $64,704   \n",
      "11  12               Tiafoe, Frances   $2,515,811   $2,448,285     $67,526   \n",
      "12  13              Khachanov, Karen   $2,420,612   $2,133,602    $287,010   \n",
      "13  14                   Paul, Tommy   $2,363,425   $2,303,982     $59,443   \n",
      "14  15               Hurkacz, Hubert   $2,077,551   $1,988,312     $89,239   \n",
      "15  16               Norrie, Cameron   $2,031,569   $2,006,517     $25,052   \n",
      "16  17                  Shelton, Ben   $1,928,095   $1,747,224    $180,871   \n",
      "17  18              Musetti, Lorenzo   $1,877,889   $1,832,510     $45,379   \n",
      "18  19              Dimitrov, Grigor   $1,836,801   $1,798,253     $38,548   \n",
      "19  20  Davidovich Fokina, Alejandro   $1,774,947   $1,735,894     $39,053   \n",
      "20  21          Cerundolo, Francisco   $1,746,986   $1,687,443     $59,543   \n",
      "21  22                 Lehecka, Jiri   $1,581,297   $1,502,900     $78,397   \n",
      "22  23             Mannarino, Adrian   $1,529,642   $1,462,770     $66,872   \n",
      "23  24                 Evans, Daniel   $1,526,188   $1,436,171     $90,017   \n",
      "24  25                Jarry, Nicolas   $1,489,250   $1,454,924     $34,326   \n",
      "25  26            Griekspoor, Tallon   $1,427,188   $1,302,494    $124,694   \n",
      "26  27             Bublik, Alexander   $1,425,108   $1,351,990     $73,118   \n",
      "27  28                  Coric, Borna   $1,423,273   $1,418,121      $5,152   \n",
      "28  29      Etcheverry, Tomas Martin   $1,380,354   $1,285,814     $94,540   \n",
      "29  30          Eubanks, Christopher   $1,349,298   $1,278,850     $70,448   \n",
      "30  31           McDonald, Mackenzie   $1,318,078   $1,142,959    $175,119   \n",
      "31  32           Struff, Jan-Lennard   $1,247,642   $1,209,892     $37,750   \n",
      "32  33                  Djere, Laslo   $1,213,643   $1,186,516     $27,127   \n",
      "33  34               Baez, Sebastian   $1,204,693   $1,120,085     $84,608   \n",
      "34  35               Sonego, Lorenzo   $1,189,502   $1,149,768     $39,734   \n",
      "35  36           Nishioka, Yoshihito   $1,172,857   $1,134,776     $38,081   \n",
      "36  37              Korda, Sebastian   $1,163,885   $1,150,645     $13,240   \n",
      "37  38        Auger-Aliassime, Felix   $1,146,234   $1,077,063     $69,171   \n",
      "38  39                Wawrinka, Stan   $1,143,656   $1,101,407     $42,249   \n",
      "39  40      van de Zandschulp, Botic   $1,126,802     $927,197    $199,605   \n",
      "40  41                 Kubler, Jason   $1,095,448     $745,575    $349,873   \n",
      "41  42              Krajicek, Austin   $1,088,688           $0  $1,088,688   \n",
      "42  43               Karatsev, Aslan   $1,060,302   $1,027,666     $32,636   \n",
      "43  44              Safiullin, Roman   $1,036,486   $1,012,746     $23,740   \n",
      "\n",
      "               5  \n",
      "0   $175,281,484  \n",
      "1    $21,336,567  \n",
      "2    $34,377,856  \n",
      "3    $11,679,543  \n",
      "4    $19,035,945  \n",
      "5    $27,182,718  \n",
      "6    $36,519,753  \n",
      "7    $13,368,219  \n",
      "8     $6,133,262  \n",
      "9    $15,998,572  \n",
      "10   $10,486,894  \n",
      "11    $9,767,987  \n",
      "12   $14,646,637  \n",
      "13    $6,073,396  \n",
      "14   $10,908,029  \n",
      "15    $9,982,041  \n",
      "16    $2,211,487  \n",
      "17    $4,588,054  \n",
      "18   $23,795,545  \n",
      "19    $5,297,162  \n",
      "20    $3,306,896  \n",
      "21    $2,533,631  \n",
      "22   $11,150,276  \n",
      "23    $7,810,445  \n",
      "24    $3,911,223  \n",
      "25    $2,989,791  \n",
      "26    $5,666,761  \n",
      "27   $11,536,029  \n",
      "28    $2,071,690  \n",
      "29    $2,514,987  \n",
      "30    $5,009,646  \n",
      "31    $8,953,672  \n",
      "32    $5,134,580  \n",
      "33    $2,452,179  \n",
      "34    $5,507,800  \n",
      "35    $5,571,294  \n",
      "36    $3,840,453  \n",
      "37   $11,349,831  \n",
      "38   $36,474,319  \n",
      "39    $3,616,655  \n",
      "40    $2,348,792  \n",
      "41    $3,253,886  \n",
      "42    $4,428,451  \n",
      "43    $1,888,312  \n"
     ]
    }
   ],
   "source": [
    "print(atp_dfs[0])"
   ]
  },
  {
   "cell_type": "code",
   "execution_count": null,
   "id": "af71592e-7ded-46f1-a41f-04556ba2c731",
   "metadata": {},
   "outputs": [],
   "source": [
    "#atp_df.columns = ['Rank', 'Name', 'Total', 'Singles','Doubles']"
   ]
  },
  {
   "cell_type": "code",
   "execution_count": null,
   "id": "40ec4065-46f8-4221-b722-ae0e18b74310",
   "metadata": {},
   "outputs": [],
   "source": []
  },
  {
   "cell_type": "code",
   "execution_count": 43,
   "id": "12decf49-47a0-49fd-824a-9bc7c0a97605",
   "metadata": {},
   "outputs": [],
   "source": [
    "men_df= pd.DataFrame([])\n",
    "\n",
    "for atp_df in atp_dfs:\n",
    "    atp_df.columns = ['Rank', 'Name', 'Total', 'Singles','Doubles', 'Career']\n",
    "    atp_df = atp_df[['Rank','Name', 'Total', 'Singles','Doubles' ]]\n",
    "    men_df = pd.concat([men_df, atp_df])"
   ]
  },
  {
   "cell_type": "code",
   "execution_count": 44,
   "id": "217a466d-e4ed-4493-be5e-ba82dd4637a1",
   "metadata": {},
   "outputs": [
    {
     "name": "stdout",
     "output_type": "stream",
     "text": [
      "Index(['Rank', 'Name', 'Total', 'Singles', 'Doubles'], dtype='object')\n"
     ]
    }
   ],
   "source": [
    "print(men_df.columns)"
   ]
  },
  {
   "cell_type": "code",
   "execution_count": 46,
   "id": "88fa470f-d1f5-4a21-9063-0177a47c5fc1",
   "metadata": {},
   "outputs": [
    {
     "data": {
      "text/html": [
       "<div>\n",
       "<style scoped>\n",
       "    .dataframe tbody tr th:only-of-type {\n",
       "        vertical-align: middle;\n",
       "    }\n",
       "\n",
       "    .dataframe tbody tr th {\n",
       "        vertical-align: top;\n",
       "    }\n",
       "\n",
       "    .dataframe thead th {\n",
       "        text-align: right;\n",
       "    }\n",
       "</style>\n",
       "<table border=\"1\" class=\"dataframe\">\n",
       "  <thead>\n",
       "    <tr style=\"text-align: right;\">\n",
       "      <th></th>\n",
       "      <th>Rank</th>\n",
       "      <th>Name</th>\n",
       "      <th>Total</th>\n",
       "      <th>Singles</th>\n",
       "      <th>Doubles</th>\n",
       "    </tr>\n",
       "  </thead>\n",
       "  <tbody>\n",
       "    <tr>\n",
       "      <th>0</th>\n",
       "      <td>1</td>\n",
       "      <td>Djokovic, Novak</td>\n",
       "      <td>$10,590,175</td>\n",
       "      <td>$10,581,665</td>\n",
       "      <td>$8,510</td>\n",
       "    </tr>\n",
       "    <tr>\n",
       "      <th>1</th>\n",
       "      <td>2</td>\n",
       "      <td>Alcaraz, Carlos</td>\n",
       "      <td>$9,506,924</td>\n",
       "      <td>$9,506,924</td>\n",
       "      <td>$0</td>\n",
       "    </tr>\n",
       "    <tr>\n",
       "      <th>2</th>\n",
       "      <td>3</td>\n",
       "      <td>Medvedev, Daniil</td>\n",
       "      <td>$7,777,474</td>\n",
       "      <td>$7,777,474</td>\n",
       "      <td>$0</td>\n",
       "    </tr>\n",
       "    <tr>\n",
       "      <th>3</th>\n",
       "      <td>4</td>\n",
       "      <td>Sinner, Jannik</td>\n",
       "      <td>$5,092,373</td>\n",
       "      <td>$5,041,360</td>\n",
       "      <td>$51,013</td>\n",
       "    </tr>\n",
       "    <tr>\n",
       "      <th>4</th>\n",
       "      <td>5</td>\n",
       "      <td>Rublev, Andrey</td>\n",
       "      <td>$4,052,486</td>\n",
       "      <td>$3,714,248</td>\n",
       "      <td>$338,238</td>\n",
       "    </tr>\n",
       "    <tr>\n",
       "      <th>...</th>\n",
       "      <td>...</td>\n",
       "      <td>...</td>\n",
       "      <td>...</td>\n",
       "      <td>...</td>\n",
       "      <td>...</td>\n",
       "    </tr>\n",
       "    <tr>\n",
       "      <th>523</th>\n",
       "      <td>524</td>\n",
       "      <td>Kodat, Toby</td>\n",
       "      <td>$31,145</td>\n",
       "      <td>$28,984</td>\n",
       "      <td>$2,161</td>\n",
       "    </tr>\n",
       "    <tr>\n",
       "      <th>524</th>\n",
       "      <td>525</td>\n",
       "      <td>Winter, Edward</td>\n",
       "      <td>$30,651</td>\n",
       "      <td>$26,786</td>\n",
       "      <td>$3,865</td>\n",
       "    </tr>\n",
       "    <tr>\n",
       "      <th>525</th>\n",
       "      <td>526</td>\n",
       "      <td>Santillan, Akira</td>\n",
       "      <td>$30,650</td>\n",
       "      <td>$21,703</td>\n",
       "      <td>$8,947</td>\n",
       "    </tr>\n",
       "    <tr>\n",
       "      <th>526</th>\n",
       "      <td>527</td>\n",
       "      <td>Lazarov, Alexandar</td>\n",
       "      <td>$30,605</td>\n",
       "      <td>$30,605</td>\n",
       "      <td>$0</td>\n",
       "    </tr>\n",
       "    <tr>\n",
       "      <th>527</th>\n",
       "      <td>528</td>\n",
       "      <td>Vrbensky, Michael</td>\n",
       "      <td>$30,562</td>\n",
       "      <td>$23,967</td>\n",
       "      <td>$6,595</td>\n",
       "    </tr>\n",
       "  </tbody>\n",
       "</table>\n",
       "<p>528 rows × 5 columns</p>\n",
       "</div>"
      ],
      "text/plain": [
       "    Rank                Name        Total      Singles   Doubles\n",
       "0      1     Djokovic, Novak  $10,590,175  $10,581,665    $8,510\n",
       "1      2     Alcaraz, Carlos   $9,506,924   $9,506,924        $0\n",
       "2      3    Medvedev, Daniil   $7,777,474   $7,777,474        $0\n",
       "3      4      Sinner, Jannik   $5,092,373   $5,041,360   $51,013\n",
       "4      5      Rublev, Andrey   $4,052,486   $3,714,248  $338,238\n",
       "..   ...                 ...          ...          ...       ...\n",
       "523  524         Kodat, Toby      $31,145      $28,984    $2,161\n",
       "524  525      Winter, Edward      $30,651      $26,786    $3,865\n",
       "525  526    Santillan, Akira      $30,650      $21,703    $8,947\n",
       "526  527  Lazarov, Alexandar      $30,605      $30,605        $0\n",
       "527  528   Vrbensky, Michael      $30,562      $23,967    $6,595\n",
       "\n",
       "[528 rows x 5 columns]"
      ]
     },
     "execution_count": 46,
     "metadata": {},
     "output_type": "execute_result"
    }
   ],
   "source": [
    "men_df.reset_index(drop = True)"
   ]
  },
  {
   "cell_type": "code",
   "execution_count": null,
   "id": "ad96d111-3d40-428a-b0bd-ce0c4cfbdc5c",
   "metadata": {},
   "outputs": [],
   "source": [
    "#mkdir files\n",
    "#cd files\n",
    "#name each file with the date \n",
    "#also store all weekly rank data in a single file, for atp and wta (\"all_weeks\")"
   ]
  },
  {
   "cell_type": "code",
   "execution_count": 47,
   "id": "18fa67c0-addb-4302-aef3-c8b7c577309f",
   "metadata": {},
   "outputs": [],
   "source": [
    "os.mkdir(\"files\")"
   ]
  },
  {
   "cell_type": "code",
   "execution_count": 48,
   "id": "796c7799-d546-43f3-8b82-15f2d8fb739b",
   "metadata": {},
   "outputs": [
    {
     "name": "stdout",
     "output_type": "stream",
     "text": [
      "OCT9.ipynb                tennisOCT3.ipynb          weekly_race_to_top.csv\n",
      "atp_live_ranking.csv      tennisgpt.ipynb           weekly_ranks.csv\n",
      "\u001b[1m\u001b[36mfiles\u001b[m\u001b[m/                    tennispay.ipynb\n",
      "old_atp_live_ranking.csv  tennisweekly.ipynb\n"
     ]
    }
   ],
   "source": [
    "ls"
   ]
  },
  {
   "cell_type": "code",
   "execution_count": 49,
   "id": "39c66980-15ba-4899-9e45-0a47420ff84b",
   "metadata": {},
   "outputs": [],
   "source": [
    "women_df.to_csv(\"files/09022023_wta.csv\")"
   ]
  },
  {
   "cell_type": "code",
   "execution_count": 50,
   "id": "88cee7bf-6fe8-4263-8958-84f01d473d01",
   "metadata": {},
   "outputs": [],
   "source": [
    "men_df.to_csv(\"files/09022023_atp.csv\")"
   ]
  },
  {
   "cell_type": "code",
   "execution_count": 51,
   "id": "538b0aa9-cc2b-44a4-82b2-e772c466f4db",
   "metadata": {},
   "outputs": [
    {
     "name": "stdout",
     "output_type": "stream",
     "text": [
      "OCT9.ipynb                tennisOCT3.ipynb          weekly_race_to_top.csv\n",
      "atp_live_ranking.csv      tennisgpt.ipynb           weekly_ranks.csv\n",
      "\u001b[1m\u001b[36mfiles\u001b[m\u001b[m/                    tennispay.ipynb\n",
      "old_atp_live_ranking.csv  tennisweekly.ipynb\n"
     ]
    }
   ],
   "source": [
    "ls"
   ]
  },
  {
   "cell_type": "code",
   "execution_count": 52,
   "id": "919de231-36c0-4cd8-ab8b-c5a83a218a87",
   "metadata": {},
   "outputs": [],
   "source": [
    "date = date.today()"
   ]
  },
  {
   "cell_type": "code",
   "execution_count": 53,
   "id": "42f16ee8-36dd-4b52-a9e2-a9c4ace3116b",
   "metadata": {},
   "outputs": [
    {
     "name": "stdout",
     "output_type": "stream",
     "text": [
      "2023-10-09\n"
     ]
    }
   ],
   "source": [
    "print(date)"
   ]
  },
  {
   "cell_type": "code",
   "execution_count": null,
   "id": "452e0a6c-c4c2-4c28-a1b3-2d49ebeae675",
   "metadata": {},
   "outputs": [],
   "source": [
    "#each time we download the new pdf, name the \n",
    "#prefix = date\n",
    "#name = f\"{prefix}, \"wta.csv\"\""
   ]
  },
  {
   "cell_type": "code",
   "execution_count": 54,
   "id": "8608b456-39ab-4bdd-b22c-52588faf73b8",
   "metadata": {},
   "outputs": [],
   "source": [
    "date = date.today()\n",
    "men_df.to_csv(f\"files/{date}_atp.csv\")"
   ]
  },
  {
   "cell_type": "code",
   "execution_count": 55,
   "id": "e55dcfe5-4d91-478c-a5bb-81a770becd01",
   "metadata": {},
   "outputs": [],
   "source": [
    "women_df.to_csv(f\"files/{date}_wta.csv\")"
   ]
  },
  {
   "cell_type": "code",
   "execution_count": null,
   "id": "4daa9af1-88d1-4043-af04-324080673eef",
   "metadata": {},
   "outputs": [],
   "source": [
    "# all pseudocode \n",
    "# mixed_df.columns = men_name, men_total, women_name, women_total \n",
    "# mixed_df.columns = men_df['total'], women_df['total'] "
   ]
  },
  {
   "cell_type": "code",
   "execution_count": 56,
   "id": "034dedc6-6047-499e-bce2-523f864ce923",
   "metadata": {},
   "outputs": [],
   "source": [
    "men_df['gender'] = 'male'\n",
    "women_df['gender'] = 'female'"
   ]
  },
  {
   "cell_type": "code",
   "execution_count": 57,
   "id": "8324305a-2b3e-419b-abd9-086f3ec4e4c8",
   "metadata": {},
   "outputs": [],
   "source": [
    "mixed_df = pd.concat([women_df, men_df])"
   ]
  },
  {
   "cell_type": "code",
   "execution_count": 59,
   "id": "0e33c1a1-680d-4ba6-a46f-ba233e3fcde4",
   "metadata": {},
   "outputs": [
    {
     "name": "stdout",
     "output_type": "stream",
     "text": [
      "                    Name      Total    Singles  Doubles  gender Rank\n",
      "0       SABALENKA, ARYNA  7,369,635  7,362,685    6,950  female  NaN\n",
      "1            GAUFF, COCO  5,557,372  4,903,882  653,490  female  NaN\n",
      "2           SWIATEK, IGA  5,455,686  5,455,686      NaN  female  NaN\n",
      "3        RYBAKINA, ELENA  4,695,437  4,631,334   64,103  female  NaN\n",
      "4   VONDROUSOVA, MARKETA  4,242,953  4,104,203  138,750  female  NaN\n",
      "..                   ...        ...        ...      ...     ...  ...\n",
      "39           Kodat, Toby    $31,145    $28,984   $2,161    male  524\n",
      "40        Winter, Edward    $30,651    $26,786   $3,865    male  525\n",
      "41      Santillan, Akira    $30,650    $21,703   $8,947    male  526\n",
      "42    Lazarov, Alexandar    $30,605    $30,605       $0    male  527\n",
      "43     Vrbensky, Michael    $30,562    $23,967   $6,595    male  528\n",
      "\n",
      "[1034 rows x 6 columns]\n"
     ]
    }
   ],
   "source": [
    "print(mixed_df)"
   ]
  },
  {
   "cell_type": "code",
   "execution_count": 61,
   "id": "7a855fc8-39ea-4f6c-acba-531d6d036f80",
   "metadata": {},
   "outputs": [],
   "source": [
    "mixed_df.to_csv(f\"files/{date}_mixed.csv\")"
   ]
  },
  {
   "cell_type": "code",
   "execution_count": null,
   "id": "54986ea6-6a16-4a93-8d84-39ef5830651a",
   "metadata": {},
   "outputs": [],
   "source": [
    "#two problems: dropped names; dollar sign"
   ]
  },
  {
   "cell_type": "code",
   "execution_count": 63,
   "id": "5d553ea3-403e-46ee-a457-88c1329d9bc1",
   "metadata": {},
   "outputs": [],
   "source": [
    "men_df['Total'] = men_df['Total'].str.strip('$')"
   ]
  },
  {
   "cell_type": "code",
   "execution_count": 64,
   "id": "6b95a335-0182-4eb1-9cb7-4e1fab11fd0a",
   "metadata": {},
   "outputs": [],
   "source": [
    "men_df['Singles'] = men_df['Singles'].str.strip('$')"
   ]
  },
  {
   "cell_type": "code",
   "execution_count": 65,
   "id": "78270ddc-4ad9-4c9b-816b-1beed24f1c0f",
   "metadata": {},
   "outputs": [],
   "source": [
    "men_df['Doubles'] = men_df['Doubles'].str.strip('$')"
   ]
  },
  {
   "cell_type": "code",
   "execution_count": 66,
   "id": "b9c1827f-d596-44a3-8c63-6ff44f64afb0",
   "metadata": {},
   "outputs": [
    {
     "data": {
      "text/html": [
       "<div>\n",
       "<style scoped>\n",
       "    .dataframe tbody tr th:only-of-type {\n",
       "        vertical-align: middle;\n",
       "    }\n",
       "\n",
       "    .dataframe tbody tr th {\n",
       "        vertical-align: top;\n",
       "    }\n",
       "\n",
       "    .dataframe thead th {\n",
       "        text-align: right;\n",
       "    }\n",
       "</style>\n",
       "<table border=\"1\" class=\"dataframe\">\n",
       "  <thead>\n",
       "    <tr style=\"text-align: right;\">\n",
       "      <th></th>\n",
       "      <th>Rank</th>\n",
       "      <th>Name</th>\n",
       "      <th>Total</th>\n",
       "      <th>Singles</th>\n",
       "      <th>Doubles</th>\n",
       "      <th>gender</th>\n",
       "    </tr>\n",
       "  </thead>\n",
       "  <tbody>\n",
       "    <tr>\n",
       "      <th>0</th>\n",
       "      <td>1</td>\n",
       "      <td>Djokovic, Novak</td>\n",
       "      <td>10,590,175</td>\n",
       "      <td>10,581,665</td>\n",
       "      <td>8,510</td>\n",
       "      <td>male</td>\n",
       "    </tr>\n",
       "    <tr>\n",
       "      <th>1</th>\n",
       "      <td>2</td>\n",
       "      <td>Alcaraz, Carlos</td>\n",
       "      <td>9,506,924</td>\n",
       "      <td>9,506,924</td>\n",
       "      <td>0</td>\n",
       "      <td>male</td>\n",
       "    </tr>\n",
       "    <tr>\n",
       "      <th>2</th>\n",
       "      <td>3</td>\n",
       "      <td>Medvedev, Daniil</td>\n",
       "      <td>7,777,474</td>\n",
       "      <td>7,777,474</td>\n",
       "      <td>0</td>\n",
       "      <td>male</td>\n",
       "    </tr>\n",
       "    <tr>\n",
       "      <th>3</th>\n",
       "      <td>4</td>\n",
       "      <td>Sinner, Jannik</td>\n",
       "      <td>5,092,373</td>\n",
       "      <td>5,041,360</td>\n",
       "      <td>51,013</td>\n",
       "      <td>male</td>\n",
       "    </tr>\n",
       "    <tr>\n",
       "      <th>4</th>\n",
       "      <td>5</td>\n",
       "      <td>Rublev, Andrey</td>\n",
       "      <td>4,052,486</td>\n",
       "      <td>3,714,248</td>\n",
       "      <td>338,238</td>\n",
       "      <td>male</td>\n",
       "    </tr>\n",
       "    <tr>\n",
       "      <th>...</th>\n",
       "      <td>...</td>\n",
       "      <td>...</td>\n",
       "      <td>...</td>\n",
       "      <td>...</td>\n",
       "      <td>...</td>\n",
       "      <td>...</td>\n",
       "    </tr>\n",
       "    <tr>\n",
       "      <th>39</th>\n",
       "      <td>524</td>\n",
       "      <td>Kodat, Toby</td>\n",
       "      <td>31,145</td>\n",
       "      <td>28,984</td>\n",
       "      <td>2,161</td>\n",
       "      <td>male</td>\n",
       "    </tr>\n",
       "    <tr>\n",
       "      <th>40</th>\n",
       "      <td>525</td>\n",
       "      <td>Winter, Edward</td>\n",
       "      <td>30,651</td>\n",
       "      <td>26,786</td>\n",
       "      <td>3,865</td>\n",
       "      <td>male</td>\n",
       "    </tr>\n",
       "    <tr>\n",
       "      <th>41</th>\n",
       "      <td>526</td>\n",
       "      <td>Santillan, Akira</td>\n",
       "      <td>30,650</td>\n",
       "      <td>21,703</td>\n",
       "      <td>8,947</td>\n",
       "      <td>male</td>\n",
       "    </tr>\n",
       "    <tr>\n",
       "      <th>42</th>\n",
       "      <td>527</td>\n",
       "      <td>Lazarov, Alexandar</td>\n",
       "      <td>30,605</td>\n",
       "      <td>30,605</td>\n",
       "      <td>0</td>\n",
       "      <td>male</td>\n",
       "    </tr>\n",
       "    <tr>\n",
       "      <th>43</th>\n",
       "      <td>528</td>\n",
       "      <td>Vrbensky, Michael</td>\n",
       "      <td>30,562</td>\n",
       "      <td>23,967</td>\n",
       "      <td>6,595</td>\n",
       "      <td>male</td>\n",
       "    </tr>\n",
       "  </tbody>\n",
       "</table>\n",
       "<p>528 rows × 6 columns</p>\n",
       "</div>"
      ],
      "text/plain": [
       "   Rank                Name       Total     Singles  Doubles gender\n",
       "0     1     Djokovic, Novak  10,590,175  10,581,665    8,510   male\n",
       "1     2     Alcaraz, Carlos   9,506,924   9,506,924        0   male\n",
       "2     3    Medvedev, Daniil   7,777,474   7,777,474        0   male\n",
       "3     4      Sinner, Jannik   5,092,373   5,041,360   51,013   male\n",
       "4     5      Rublev, Andrey   4,052,486   3,714,248  338,238   male\n",
       "..  ...                 ...         ...         ...      ...    ...\n",
       "39  524         Kodat, Toby      31,145      28,984    2,161   male\n",
       "40  525      Winter, Edward      30,651      26,786    3,865   male\n",
       "41  526    Santillan, Akira      30,650      21,703    8,947   male\n",
       "42  527  Lazarov, Alexandar      30,605      30,605        0   male\n",
       "43  528   Vrbensky, Michael      30,562      23,967    6,595   male\n",
       "\n",
       "[528 rows x 6 columns]"
      ]
     },
     "execution_count": 66,
     "metadata": {},
     "output_type": "execute_result"
    }
   ],
   "source": [
    "men_df"
   ]
  },
  {
   "cell_type": "code",
   "execution_count": 67,
   "id": "677b593a-527e-4bf1-971d-5d7c67d9b053",
   "metadata": {},
   "outputs": [],
   "source": [
    "mixed_df = pd.concat([women_df, men_df])"
   ]
  },
  {
   "cell_type": "code",
   "execution_count": 69,
   "id": "10bd69e4-3275-464b-ad15-58da966296ff",
   "metadata": {},
   "outputs": [
    {
     "name": "stdout",
     "output_type": "stream",
     "text": [
      "Name       SCHMIEDLOVA, ANNA KAROLINA\n",
      "Total                         716,919\n",
      "Singles                       708,213\n",
      "Doubles                         8,706\n",
      "gender                         female\n",
      "Rank                              NaN\n",
      "Name: 9, dtype: object\n"
     ]
    }
   ],
   "source": [
    "print(mixed_df.iloc[55])"
   ]
  },
  {
   "cell_type": "code",
   "execution_count": null,
   "id": "5309df60-4777-4977-95ac-838d9a5c5ce0",
   "metadata": {},
   "outputs": [],
   "source": [
    "#problems with women_df: \n",
    "# - ranks not in sequence: \n",
    "# - no names for some pages: \n",
    "# - doubles earnings missing last 3 digits:"
   ]
  },
  {
   "cell_type": "code",
   "execution_count": 70,
   "id": "d7d5295b-d58e-45e3-a90d-469f62ebdbf5",
   "metadata": {},
   "outputs": [
    {
     "data": {
      "text/html": [
       "<div>\n",
       "<style scoped>\n",
       "    .dataframe tbody tr th:only-of-type {\n",
       "        vertical-align: middle;\n",
       "    }\n",
       "\n",
       "    .dataframe tbody tr th {\n",
       "        vertical-align: top;\n",
       "    }\n",
       "\n",
       "    .dataframe thead th {\n",
       "        text-align: right;\n",
       "    }\n",
       "</style>\n",
       "<table border=\"1\" class=\"dataframe\">\n",
       "  <thead>\n",
       "    <tr style=\"text-align: right;\">\n",
       "      <th></th>\n",
       "      <th>Name</th>\n",
       "      <th>Total</th>\n",
       "      <th>Singles</th>\n",
       "      <th>Doubles</th>\n",
       "      <th>gender</th>\n",
       "    </tr>\n",
       "  </thead>\n",
       "  <tbody>\n",
       "    <tr>\n",
       "      <th>0</th>\n",
       "      <td>SABALENKA, ARYNA</td>\n",
       "      <td>7,369,635</td>\n",
       "      <td>7,362,685</td>\n",
       "      <td>6,950</td>\n",
       "      <td>female</td>\n",
       "    </tr>\n",
       "    <tr>\n",
       "      <th>1</th>\n",
       "      <td>GAUFF, COCO</td>\n",
       "      <td>5,557,372</td>\n",
       "      <td>4,903,882</td>\n",
       "      <td>653,490</td>\n",
       "      <td>female</td>\n",
       "    </tr>\n",
       "    <tr>\n",
       "      <th>2</th>\n",
       "      <td>SWIATEK, IGA</td>\n",
       "      <td>5,455,686</td>\n",
       "      <td>5,455,686</td>\n",
       "      <td>NaN</td>\n",
       "      <td>female</td>\n",
       "    </tr>\n",
       "    <tr>\n",
       "      <th>3</th>\n",
       "      <td>RYBAKINA, ELENA</td>\n",
       "      <td>4,695,437</td>\n",
       "      <td>4,631,334</td>\n",
       "      <td>64,103</td>\n",
       "      <td>female</td>\n",
       "    </tr>\n",
       "    <tr>\n",
       "      <th>4</th>\n",
       "      <td>VONDROUSOVA, MARKETA</td>\n",
       "      <td>4,242,953</td>\n",
       "      <td>4,104,203</td>\n",
       "      <td>138,750</td>\n",
       "      <td>female</td>\n",
       "    </tr>\n",
       "    <tr>\n",
       "      <th>...</th>\n",
       "      <td>...</td>\n",
       "      <td>...</td>\n",
       "      <td>...</td>\n",
       "      <td>...</td>\n",
       "      <td>...</td>\n",
       "    </tr>\n",
       "    <tr>\n",
       "      <th>501</th>\n",
       "      <td>CE, GABRIELA</td>\n",
       "      <td>17,694</td>\n",
       "      <td>17,694</td>\n",
       "      <td>NaN</td>\n",
       "      <td>female</td>\n",
       "    </tr>\n",
       "    <tr>\n",
       "      <th>502</th>\n",
       "      <td>MATOULA, MARTHA</td>\n",
       "      <td>17,679</td>\n",
       "      <td>15,220</td>\n",
       "      <td>2,459</td>\n",
       "      <td>female</td>\n",
       "    </tr>\n",
       "    <tr>\n",
       "      <th>503</th>\n",
       "      <td>FALCONI HARTMAN, IRINA</td>\n",
       "      <td>17,591</td>\n",
       "      <td>17,183</td>\n",
       "      <td>408</td>\n",
       "      <td>female</td>\n",
       "    </tr>\n",
       "    <tr>\n",
       "      <th>504</th>\n",
       "      <td>FERNANDEZ OLIVARES, LYA ISABEL</td>\n",
       "      <td>17,584</td>\n",
       "      <td>17,584</td>\n",
       "      <td>NaN</td>\n",
       "      <td>female</td>\n",
       "    </tr>\n",
       "    <tr>\n",
       "      <th>505</th>\n",
       "      <td>XU, MINGGE</td>\n",
       "      <td>17,342</td>\n",
       "      <td>17,088</td>\n",
       "      <td>254</td>\n",
       "      <td>female</td>\n",
       "    </tr>\n",
       "  </tbody>\n",
       "</table>\n",
       "<p>506 rows × 5 columns</p>\n",
       "</div>"
      ],
      "text/plain": [
       "                               Name      Total    Singles  Doubles  gender\n",
       "0                  SABALENKA, ARYNA  7,369,635  7,362,685    6,950  female\n",
       "1                       GAUFF, COCO  5,557,372  4,903,882  653,490  female\n",
       "2                      SWIATEK, IGA  5,455,686  5,455,686      NaN  female\n",
       "3                   RYBAKINA, ELENA  4,695,437  4,631,334   64,103  female\n",
       "4              VONDROUSOVA, MARKETA  4,242,953  4,104,203  138,750  female\n",
       "..                              ...        ...        ...      ...     ...\n",
       "501                    CE, GABRIELA     17,694     17,694      NaN  female\n",
       "502                 MATOULA, MARTHA     17,679     15,220    2,459  female\n",
       "503          FALCONI HARTMAN, IRINA     17,591     17,183      408  female\n",
       "504  FERNANDEZ OLIVARES, LYA ISABEL     17,584     17,584      NaN  female\n",
       "505                      XU, MINGGE     17,342     17,088      254  female\n",
       "\n",
       "[506 rows x 5 columns]"
      ]
     },
     "execution_count": 70,
     "metadata": {},
     "output_type": "execute_result"
    }
   ],
   "source": [
    "women_df.reset_index(drop = True)"
   ]
  },
  {
   "cell_type": "code",
   "execution_count": 71,
   "id": "f0c1a1cd-8646-4b70-8acf-b75bf0591966",
   "metadata": {},
   "outputs": [],
   "source": [
    "mixed_df = pd.concat([women_df, men_df])"
   ]
  },
  {
   "cell_type": "code",
   "execution_count": 72,
   "id": "cc7a5195-6519-4289-a175-8b5990296d9d",
   "metadata": {},
   "outputs": [],
   "source": [
    "mixed_df.to_csv(f\"files/{date}_mixed.csv\")"
   ]
  },
  {
   "cell_type": "code",
   "execution_count": null,
   "id": "04849060-7ff0-406c-a72c-60098113153c",
   "metadata": {},
   "outputs": [],
   "source": []
  },
  {
   "cell_type": "code",
   "execution_count": null,
   "id": "4131cabf-0f95-4c1d-ba14-4e6235c0b264",
   "metadata": {},
   "outputs": [],
   "source": []
  },
  {
   "cell_type": "code",
   "execution_count": null,
   "id": "ef29df27-4950-43b9-8f36-3283d53f30e3",
   "metadata": {},
   "outputs": [],
   "source": []
  },
  {
   "cell_type": "code",
   "execution_count": null,
   "id": "e2f4aae2-a8a9-4ff3-b774-cf1446352258",
   "metadata": {},
   "outputs": [],
   "source": []
  },
  {
   "cell_type": "code",
   "execution_count": null,
   "id": "bf783757-4960-4f2c-8fcd-6c47945c13b4",
   "metadata": {},
   "outputs": [],
   "source": []
  },
  {
   "cell_type": "code",
   "execution_count": null,
   "id": "96b9bb3a-4e4d-4f5c-ae73-cd4d8675d4fa",
   "metadata": {},
   "outputs": [],
   "source": []
  },
  {
   "cell_type": "code",
   "execution_count": null,
   "id": "ae668a89-8118-4b14-baca-c3f5b505c5df",
   "metadata": {},
   "outputs": [],
   "source": []
  }
 ],
 "metadata": {
  "kernelspec": {
   "display_name": "Python 3 (ipykernel)",
   "language": "python",
   "name": "python3"
  },
  "language_info": {
   "codemirror_mode": {
    "name": "ipython",
    "version": 3
   },
   "file_extension": ".py",
   "mimetype": "text/x-python",
   "name": "python",
   "nbconvert_exporter": "python",
   "pygments_lexer": "ipython3",
   "version": "3.10.11"
  }
 },
 "nbformat": 4,
 "nbformat_minor": 5
}
