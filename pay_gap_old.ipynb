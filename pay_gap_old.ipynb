{
 "cells": [
  {
   "cell_type": "code",
   "execution_count": 3,
   "id": "10916da9-2e0f-48e5-bdc0-c083db8bdef8",
   "metadata": {},
   "outputs": [],
   "source": [
    "import pandas as pd\n",
    "from bs4 import BeautifulSoup \n",
    "import requests\n",
    "import datetime\n",
    "from datetime import date \n",
    "import time\n",
    "import json\n",
    "import csv\n",
    "import numpy as np\n",
    "import re\n",
    "import lxml.html\n",
    "import os\n",
    "import tabula"
   ]
  },
  {
   "cell_type": "code",
   "execution_count": 4,
   "id": "970c0e2f-ace9-43b7-9243-97adb618699c",
   "metadata": {},
   "outputs": [],
   "source": [
    "wta_path = \"https://wtafiles.wtatennis.com/pdf/rankings/All_YTD_Prize_Money.pdf\""
   ]
  },
  {
   "cell_type": "code",
   "execution_count": 5,
   "id": "e0f13c1d-5e02-49e5-80cb-23317ce81e31",
   "metadata": {},
   "outputs": [],
   "source": [
    "atp_path = \"https://www.protennislive.com/posting/ramr/current_prize.pdf\""
   ]
  },
  {
   "cell_type": "code",
   "execution_count": 6,
   "id": "e944f622-5d74-451d-bce4-4951dbfb902f",
   "metadata": {},
   "outputs": [
    {
     "name": "stdout",
     "output_type": "stream",
     "text": [
      "11\n"
     ]
    }
   ],
   "source": [
    "wta_dfs = tabula.read_pdf(wta_path, stream=False, user_agent=\"Mozilla/5.0\", pages='1-11')\n",
    "# read_pdf returns list of DataFrames\n",
    "print(len(wta_dfs))"
   ]
  },
  {
   "cell_type": "code",
   "execution_count": 7,
   "id": "701171b8-cfc3-47bd-aa6c-c25865875219",
   "metadata": {},
   "outputs": [
    {
     "name": "stdout",
     "output_type": "stream",
     "text": [
      "    Standing                 Unnamed: 0  Name  Nat  Singles  Doubles    Mixed  \\\n",
      "0         93               BUREL, CLARA   NaN  FRA  479,101   20,370    5,000   \n",
      "1         94              MINNEN, GREET   NaN  BEL  390,947  107,891      NaN   \n",
      "2         95              NAVARRO, EMMA   NaN  USA  463,806   34,283      NaN   \n",
      "3         96       PARRIZAS DIAZ, NURIA   NaN  ESP  486,764    9,125      NaN   \n",
      "4         97            VOLYNETS, KATIE   NaN  USA  492,258      697      NaN   \n",
      "5         98               GALFI, DALMA   NaN  HUN  459,858   26,841      NaN   \n",
      "6         99           KALINSKAYA, ANNA   NaN  NaN  386,918   96,583      NaN   \n",
      "7        100            MARINO, REBECCA   NaN  CAN  455,476   25,081      NaN   \n",
      "8        101                JUVAN, KAJA   NaN  SLO  479,100      435      NaN   \n",
      "9        102           BAINDL, KATERYNA   NaN  UKR  464,741   13,929      NaN   \n",
      "10       103               KANEPI, KAIA   NaN  EST  462,316   13,374      NaN   \n",
      "11       104           BRENGLE, MADISON   NaN  USA  459,030   13,520      NaN   \n",
      "12       105             ROGERS, SHELBY   NaN  USA  435,590   26,507      NaN   \n",
      "13       106             NIEMEIER, JULE   NaN  GER  446,471   13,300      NaN   \n",
      "14       107             SHIBAHARA, ENA   NaN  JPN   26,155  385,903   38,554   \n",
      "15       108               RUS, ARANTXA   NaN  NED  391,495   46,435      NaN   \n",
      "16       109       RUSE, ELENA-GABRIELA   NaN  ROU  218,963  211,053      NaN   \n",
      "17       110          PETERSON, REBECCA   NaN  SWE  418,896    8,706      NaN   \n",
      "18       111          KORPATSCH, TAMARA   NaN  GER  411,177   13,688      NaN   \n",
      "19       112               PEREZ, ELLEN   NaN  AUS   52,585  337,020   33,100   \n",
      "20       113           ZANEVSKA, MARYNA   NaN  BEL  395,309   22,206      NaN   \n",
      "21       114             GRABHER, JULIA   NaN  AUT  407,156    9,331      NaN   \n",
      "22       115          BIRRELL, KIMBERLY   NaN  AUS  393,022    7,927    8,729   \n",
      "23       116              AOYAMA, SHUKO   NaN  JPN      NaN  407,342      NaN   \n",
      "24       117            CHAN, HAO-CHING   NaN  TPE    2,075  374,372   26,054   \n",
      "25       118         YASTREMSKA, DAYANA   NaN  UKR  393,457    5,624      NaN   \n",
      "26       119                 KATO, MIYU   NaN  JPN    7,420  264,347  126,000   \n",
      "27       120              DART, HARRIET   NaN  GBR  360,935   27,812      NaN   \n",
      "28       121            BRADY, JENNIFER   NaN  USA  286,937   99,525      NaN   \n",
      "29       122             BURRAGE, JODIE   NaN  GBR  366,412   15,897    4,000   \n",
      "30       123            GADECKI, OLIVIA   NaN  AUS  319,203   30,820   32,779   \n",
      "31       124        FRIEDSAM, ANNA-LENA   NaN  GER  348,481   33,698      NaN   \n",
      "32       125  MELICHAR-MARTINEZ, NICOLE   NaN  USA    6,860  357,144   13,554   \n",
      "33       126         GOLUBIC, VIKTORIJA   NaN  SUI  343,550   31,870      NaN   \n",
      "34       127            KRUEGER, ASHLYN   NaN  USA  338,585   29,218    7,100   \n",
      "35       128         MARTINCOVA, TEREZA   NaN  CZE  351,572   23,066      NaN   \n",
      "36       129         KICHENOK, LYUDMYLA   NaN  UKR      NaN  227,855  142,554   \n",
      "37       130              MCNALLY, CATY   NaN  USA  291,329   77,625      NaN   \n",
      "38       131             UDVARDY, PANNA   NaN  HUN  333,708   35,128      NaN   \n",
      "39       132             KOVINIC, DANKA   NaN  MNE  351,047   16,249      NaN   \n",
      "40       133          KRAWCZYK, DESIRAE   NaN  USA      NaN  320,635   41,779   \n",
      "41       134          WICKMAYER, YANINA   NaN  BEL  304,279   55,227      NaN   \n",
      "42       135        CRISTIAN, JAQUELINE   NaN  ROU  324,114   30,153      NaN   \n",
      "43       136              TAUSON, CLARA   NaN  DEN  353,423      NaN      NaN   \n",
      "44       137                 DAY, KAYLA   NaN  USA  349,704    1,580      NaN   \n",
      "45       138            OLMOS, GIULIANA   NaN  MEX    2,860  315,460   29,829   \n",
      "\n",
      "      Total  \n",
      "0   504,471  \n",
      "1   498,838  \n",
      "2   498,089  \n",
      "3   495,889  \n",
      "4   492,955  \n",
      "5   486,699  \n",
      "6   483,501  \n",
      "7   480,557  \n",
      "8   479,535  \n",
      "9   478,670  \n",
      "10  475,690  \n",
      "11  472,550  \n",
      "12  462,097  \n",
      "13  459,771  \n",
      "14  450,612  \n",
      "15  437,930  \n",
      "16  430,016  \n",
      "17  427,602  \n",
      "18  424,865  \n",
      "19  422,705  \n",
      "20  417,515  \n",
      "21  416,487  \n",
      "22  409,678  \n",
      "23  407,342  \n",
      "24  402,501  \n",
      "25  399,081  \n",
      "26  397,767  \n",
      "27  388,747  \n",
      "28  386,462  \n",
      "29  386,309  \n",
      "30  382,802  \n",
      "31  382,179  \n",
      "32  377,558  \n",
      "33  375,420  \n",
      "34  374,903  \n",
      "35  374,638  \n",
      "36  370,409  \n",
      "37  368,954  \n",
      "38  368,836  \n",
      "39  367,296  \n",
      "40  362,414  \n",
      "41  359,507  \n",
      "42  354,267  \n",
      "43  353,423  \n",
      "44  351,284  \n",
      "45  348,149  \n"
     ]
    }
   ],
   "source": [
    "print(wta_dfs[2])"
   ]
  },
  {
   "cell_type": "code",
   "execution_count": 8,
   "id": "a17ca638-7f39-4ab2-b6a2-a5edcc026b9d",
   "metadata": {},
   "outputs": [],
   "source": [
    "#print(wta_dfs[2].columns)"
   ]
  },
  {
   "cell_type": "code",
   "execution_count": 9,
   "id": "48a4fe9a-faf0-479c-999a-72725af37650",
   "metadata": {},
   "outputs": [],
   "source": [
    "#print(wta_dfs[10])"
   ]
  },
  {
   "cell_type": "code",
   "execution_count": 10,
   "id": "b081b867-980b-48d3-8854-477bcbdb1fef",
   "metadata": {},
   "outputs": [],
   "source": [
    "#DO NOT USE, WILL ERROR: \n",
    "#wta_df.drop(columns=['Name'], inplace=True)"
   ]
  },
  {
   "cell_type": "code",
   "execution_count": 11,
   "id": "f10e8b9b-1053-4ae3-b6ae-0476bbaaedde",
   "metadata": {},
   "outputs": [],
   "source": [
    "#Faulty original failed to specify that \"name\" was a column \n",
    "# if (len(wta_df.columns) == 7):\n",
    "#     wta_df.drop('Name', inplace=True)\n",
    "#     wta_df.rename(columns={'Unnamed: 0': 'Name'}, inplace=True)"
   ]
  },
  {
   "cell_type": "code",
   "execution_count": null,
   "id": "6f9ba3cf-6f26-4254-a3cf-ff73f04a3e17",
   "metadata": {},
   "outputs": [],
   "source": [
    "## TO DO: concat AFTER changing capitalization under \"name\" "
   ]
  },
  {
   "cell_type": "code",
   "execution_count": 12,
   "id": "ccfebcf8-d567-492f-8bfd-eb91ccc84e2c",
   "metadata": {},
   "outputs": [],
   "source": [
    "#only keep the columns that are common to the two dfs\n",
    "#wta_dfs = wta_dfs[['Name', , ]\n",
    "women_df= pd.DataFrame([])\n",
    "\n",
    "for wta_df in wta_dfs:\n",
    "    if (len(wta_df.columns) == 8):\n",
    "        wta_df.drop(columns=['Name'], inplace=True)\n",
    "        wta_df.rename(columns={'Unnamed: 0': 'Name'}, inplace=True)\n",
    "    wta_df.rename(columns={'Standing': 'Rank'}, inplace=True)   \n",
    "    wta_df = wta_df[['Rank','Name', 'Total', 'Singles','Doubles' ]]\n",
    "    women_df = pd.concat([women_df, wta_df])\n",
    "    \n"
   ]
  },
  {
   "cell_type": "code",
   "execution_count": 13,
   "id": "8a4ffa8f-ef6c-401d-a64c-11169a8cba14",
   "metadata": {},
   "outputs": [
    {
     "name": "stdout",
     "output_type": "stream",
     "text": [
      "Index(['Rank', 'Name', 'Total', 'Singles', 'Doubles'], dtype='object')\n"
     ]
    }
   ],
   "source": [
    "print(women_df.columns)"
   ]
  },
  {
   "cell_type": "code",
   "execution_count": 14,
   "id": "f50067b1-320d-4630-ae81-cba3b6a53fcf",
   "metadata": {},
   "outputs": [],
   "source": [
    "#previously: didn't have the INPLACE parameter "
   ]
  },
  {
   "cell_type": "code",
   "execution_count": 15,
   "id": "c9677c8d-80ca-4f19-aefd-cffda0c678b7",
   "metadata": {},
   "outputs": [],
   "source": [
    "women_df.reset_index(drop = True, inplace=True)"
   ]
  },
  {
   "cell_type": "code",
   "execution_count": 16,
   "id": "7828a93c-bb55-4983-9d98-b8bd083094b6",
   "metadata": {},
   "outputs": [],
   "source": [
    "#Cutting off at index 499\n",
    "women_df = women_df[women_df['Rank'] <= 500]"
   ]
  },
  {
   "cell_type": "code",
   "execution_count": 17,
   "id": "c78a9a9e-e905-4363-a7cf-d3fa8f8ce33e",
   "metadata": {},
   "outputs": [],
   "source": [
    "#len(women_df)"
   ]
  },
  {
   "cell_type": "code",
   "execution_count": 18,
   "id": "2584eb78-df8d-442a-86a4-2122eb9c1ec1",
   "metadata": {},
   "outputs": [],
   "source": [
    "#women_df.to_csv(\"files/2023-10-09_wta.csv\")"
   ]
  },
  {
   "cell_type": "code",
   "execution_count": 19,
   "id": "db2f46e3-84b5-4231-bc61-83f8b1d7793d",
   "metadata": {},
   "outputs": [],
   "source": [
    "#some columns have missing player names - pages == resolved thanks to RENAME "
   ]
  },
  {
   "cell_type": "code",
   "execution_count": 20,
   "id": "57d6ccdc-6a0d-4887-9ea9-7c0ceb6c49ec",
   "metadata": {},
   "outputs": [],
   "source": [
    "atp_dfs = tabula.read_pdf(atp_path, stream=True, user_agent=\"Mozilla/5.0\", pages='1-12', pandas_options={'header': None})"
   ]
  },
  {
   "cell_type": "code",
   "execution_count": 21,
   "id": "bee2552f-1ea9-489b-86b6-7771e9c6cb23",
   "metadata": {},
   "outputs": [],
   "source": [
    "#print(atp_dfs[0].columns)"
   ]
  },
  {
   "cell_type": "code",
   "execution_count": 22,
   "id": "7e03ed5e-c1b1-43d4-b6fc-3383bb41e047",
   "metadata": {},
   "outputs": [],
   "source": [
    "#print(atp_dfs[0])"
   ]
  },
  {
   "cell_type": "code",
   "execution_count": null,
   "id": "6100a6d8-1a00-44e6-806a-cae4ee5b1aef",
   "metadata": {},
   "outputs": [],
   "source": []
  },
  {
   "cell_type": "code",
   "execution_count": 23,
   "id": "8f8a194b-940b-4f7c-9723-06820b7f58d0",
   "metadata": {},
   "outputs": [],
   "source": [
    "men_df= pd.DataFrame([])\n",
    "\n",
    "for atp_df in atp_dfs:\n",
    "    atp_df.columns = ['Rank', 'Name', 'Total', 'Singles','Doubles', 'Career']\n",
    "    atp_df = atp_df[['Rank','Name', 'Total', 'Singles','Doubles' ]]\n",
    "    men_df = pd.concat([men_df, atp_df])"
   ]
  },
  {
   "cell_type": "code",
   "execution_count": 24,
   "id": "7484e116-3b8e-4e0a-a5d1-5ad562188c7b",
   "metadata": {},
   "outputs": [],
   "source": [
    "men_df['Total'] = men_df['Total'].str.strip('$')"
   ]
  },
  {
   "cell_type": "code",
   "execution_count": 25,
   "id": "e5288fd9-7e7d-4a1e-93db-0e8647e4e2df",
   "metadata": {},
   "outputs": [],
   "source": [
    "men_df['Singles'] = men_df['Singles'].str.strip('$')"
   ]
  },
  {
   "cell_type": "code",
   "execution_count": 26,
   "id": "01c48c23-c0fe-4df3-9e04-33c41108ba9c",
   "metadata": {},
   "outputs": [],
   "source": [
    "men_df['Doubles'] = men_df['Doubles'].str.strip('$')"
   ]
  },
  {
   "cell_type": "code",
   "execution_count": 27,
   "id": "ed2a8448-faa3-41d4-98b0-84954cfb0431",
   "metadata": {},
   "outputs": [],
   "source": [
    "#NOT WORKING: men_df[\"Rank\"] = men_df[\"Rank\"].astype(int)"
   ]
  },
  {
   "cell_type": "code",
   "execution_count": 28,
   "id": "0442d1a7-9499-4c80-a420-20d0becb6ed8",
   "metadata": {},
   "outputs": [],
   "source": [
    "#print(men_df.columns)"
   ]
  },
  {
   "cell_type": "code",
   "execution_count": 29,
   "id": "d00dc3bc-bd94-431a-97a8-49f0cb5987d2",
   "metadata": {
    "scrolled": true
   },
   "outputs": [],
   "source": [
    "men_df.reset_index(drop = True, inplace=True)"
   ]
  },
  {
   "cell_type": "code",
   "execution_count": 30,
   "id": "ff4c8545-faf7-45c2-b7cb-d259b6b7948b",
   "metadata": {},
   "outputs": [],
   "source": [
    "#WE JUST LOST DJOKOVIC!!!!  --> resolved with correct tabula formula "
   ]
  },
  {
   "cell_type": "code",
   "execution_count": 31,
   "id": "f1cf3142-0219-48e7-85d8-aec073af929a",
   "metadata": {},
   "outputs": [],
   "source": [
    "#NOT WORKING, either as int or as string \n",
    "#men_df = men_df[men_df['Rank'] <= 500]"
   ]
  },
  {
   "cell_type": "code",
   "execution_count": 32,
   "id": "ba5fb339-c6c6-4918-9cec-61acee30359e",
   "metadata": {},
   "outputs": [],
   "source": [
    "#we used the index \n",
    "men_df = men_df[men_df.index <= 499]"
   ]
  },
  {
   "cell_type": "code",
   "execution_count": 33,
   "id": "38d1d00d-2e39-4ce9-a664-820fec627dc6",
   "metadata": {},
   "outputs": [],
   "source": [
    "#len(men_df)"
   ]
  },
  {
   "cell_type": "code",
   "execution_count": 34,
   "id": "5d7b867a-8661-4858-8834-54c4e325ba23",
   "metadata": {},
   "outputs": [],
   "source": [
    "#mkdir files \n",
    "#cd files \n",
    "#name each file with the date  \n",
    "#also store all weekly rank data in a single file, for atp and wta (\"all_weeks\")"
   ]
  },
  {
   "cell_type": "code",
   "execution_count": 35,
   "id": "c346a79b-4de0-437a-b267-6ceadaa40684",
   "metadata": {},
   "outputs": [],
   "source": [
    "#already done:\n",
    "#os.mkdir(\"files\")"
   ]
  },
  {
   "cell_type": "code",
   "execution_count": 36,
   "id": "7b9a7d90-bc4f-42d4-b350-dfe2d83884bd",
   "metadata": {},
   "outputs": [],
   "source": [
    "date = date.today()"
   ]
  },
  {
   "cell_type": "code",
   "execution_count": 37,
   "id": "5fc9462c-4ae4-4de9-8284-015c0e0d0b76",
   "metadata": {},
   "outputs": [
    {
     "name": "stdout",
     "output_type": "stream",
     "text": [
      "2023-11-03\n"
     ]
    }
   ],
   "source": [
    "print(date)"
   ]
  },
  {
   "cell_type": "code",
   "execution_count": 38,
   "id": "217fbc2b-b87d-4f27-9211-ffdbbddecf16",
   "metadata": {},
   "outputs": [],
   "source": [
    "women_df.to_csv(f\"files/{date}_wta.csv\")"
   ]
  },
  {
   "cell_type": "code",
   "execution_count": 39,
   "id": "f38b6fc1-b0c3-49c3-af13-9a47ea572aea",
   "metadata": {},
   "outputs": [],
   "source": [
    "#PROBLEM: the index vaues repeat themselves instead of being sequential == resolved via \"inplace=true\n",
    "#LETS SEE AFTER WE COMBINE "
   ]
  },
  {
   "cell_type": "code",
   "execution_count": 40,
   "id": "6a4314b5-54b1-4b26-bfab-f4b47fb21246",
   "metadata": {},
   "outputs": [],
   "source": [
    "men_df.to_csv(f\"files/{date}_atp.csv\")"
   ]
  },
  {
   "cell_type": "code",
   "execution_count": 41,
   "id": "81b6ef9d-3f78-4191-83fe-5fc4eb45e3d6",
   "metadata": {},
   "outputs": [],
   "source": [
    "men_df['gender'] = 'male'\n",
    "women_df['gender'] = 'female'"
   ]
  },
  {
   "cell_type": "code",
   "execution_count": 42,
   "id": "dfa8cf47-5b04-4155-bcb2-534c6d7a1477",
   "metadata": {},
   "outputs": [],
   "source": [
    "mixed_df = pd.concat([women_df, men_df])"
   ]
  },
  {
   "cell_type": "code",
   "execution_count": 43,
   "id": "ebf36c51-bdfa-4072-a34e-7dfe94ebb52c",
   "metadata": {},
   "outputs": [],
   "source": [
    "#print(mixed_df)"
   ]
  },
  {
   "cell_type": "code",
   "execution_count": 44,
   "id": "d6c3910f-4743-4cd5-b818-7e8fb2383e38",
   "metadata": {
    "scrolled": true
   },
   "outputs": [],
   "source": [
    "#print(mixed_df.iloc[55])"
   ]
  },
  {
   "cell_type": "code",
   "execution_count": 45,
   "id": "1b51f6e1-9908-448c-8f91-952b7c88f48e",
   "metadata": {},
   "outputs": [],
   "source": [
    "#print(mixed_df.iloc[552])"
   ]
  },
  {
   "cell_type": "code",
   "execution_count": 46,
   "id": "b83b7258-c6e2-4527-8504-4c92c8888774",
   "metadata": {},
   "outputs": [],
   "source": [
    "#problems with women_df from last session: \n",
    "# - ranks not in sequence: \n",
    "# - no names for some pages: \n",
    "# - doubles earnings missing last 3 digits:"
   ]
  },
  {
   "cell_type": "code",
   "execution_count": 47,
   "id": "2d7e13ca-5b9e-4ff2-b06d-9e839dbb1c9b",
   "metadata": {},
   "outputs": [],
   "source": [
    "#mixed_df.reset_index(inplace=True)\n",
    "mixed_df.reset_index(drop = True, inplace=True)"
   ]
  },
  {
   "cell_type": "code",
   "execution_count": 48,
   "id": "94fffc31-b6e7-47c2-83ac-4b61fe5fcf72",
   "metadata": {},
   "outputs": [],
   "source": [
    "#******** RETURN TO THIS AFTER "
   ]
  },
  {
   "cell_type": "code",
   "execution_count": 49,
   "id": "75dc7603-b257-46b7-bfac-eb039f2c01af",
   "metadata": {},
   "outputs": [],
   "source": [
    "#mixed_df.to_csv(f\"files/{date}_mixed.csv\")"
   ]
  },
  {
   "cell_type": "code",
   "execution_count": 50,
   "id": "79b46cec-9ee9-4306-938d-09ccdb4eb2d6",
   "metadata": {},
   "outputs": [],
   "source": [
    "#HOW/WHAT do we compare??\n",
    "#compare [gender]=women at RANK i vs gender - men at rank i\n",
    "#Do we keep the names or just the ranks? \n",
    "# what does DW show? \n",
    "#OPTION 1\n",
    "#weekly updated table of the difference between W1 M1\n",
    "#BUT if you hover over any of the rows, you get the info on absolute earnings and player name ()both are bound to change due to ranking change) \n",
    "#OPTION 2\n",
    "#Show difference at each rank, plus respective names??? CTA -- hover to see actual earnings$$ \n",
    "\n",
    "#create a new df called \"difference\" loop thru mixed df by looping with gender-female from rank 1 to 500, \n",
    "# then gender-male at rank value 1 to 500, \n"
   ]
  },
  {
   "cell_type": "code",
   "execution_count": 51,
   "id": "7cea463a-3079-4393-85dc-64ddc9d96036",
   "metadata": {},
   "outputs": [],
   "source": [
    "# for player in mixed_df:\n",
    "#     if mixed_df[[gender = female && index ]]"
   ]
  },
  {
   "cell_type": "code",
   "execution_count": 52,
   "id": "1cce4fcf-0b3f-47b3-a7f3-8a66e246b6b3",
   "metadata": {},
   "outputs": [],
   "source": [
    "# diff = 0\n",
    "# for woman in women_df: \n",
    "#     difference_df = pd.DataFrame()\n",
    "\n",
    "\n",
    "    \n",
    "    "
   ]
  },
  {
   "cell_type": "code",
   "execution_count": 53,
   "id": "ed73111f-4568-4a4b-8f1a-bdc02dc76112",
   "metadata": {},
   "outputs": [],
   "source": [
    "# ranks = []\n",
    "# diff = []\n",
    "\n",
    "# for index in women_df.index:\n",
    "#     men_total = men_df.iloc[index]['Total']\n",
    "#     women_total = women_df.iloc[index]['Total']\n",
    "#     ranks.append(index + 1)\n",
    "#     diff.append(men_total - women_total)\n",
    "    "
   ]
  },
  {
   "cell_type": "code",
   "execution_count": 54,
   "id": "e659e647-3cc7-497e-ad5d-9670a2387eb2",
   "metadata": {},
   "outputs": [],
   "source": [
    "#remove commas "
   ]
  },
  {
   "cell_type": "code",
   "execution_count": 55,
   "id": "64d71217-4a40-4c03-8966-f4a70ff30cc3",
   "metadata": {},
   "outputs": [],
   "source": [
    "# men_total = int(men_df.iloc[index]['Total'].replace(',', ''))\n",
    "# women_total = int(women_df.iloc[index]['Total'].replace(',', ''))"
   ]
  },
  {
   "cell_type": "code",
   "execution_count": 56,
   "id": "79455197-e537-4843-ae8b-eb4366dd0228",
   "metadata": {},
   "outputs": [],
   "source": [
    "# ranks = []\n",
    "# diff = []\n",
    "\n",
    "# for index in women_df.index:\n",
    "#     men_total = int(men_df.iloc[index]['Total'].replace(',', ''))\n",
    "#     women_total = int(women_df.iloc[index]['Total'].replace(',', ''))\n",
    "#     ranks.append(index + 1)\n",
    "#     diff.append(men_total - women_total)"
   ]
  },
  {
   "cell_type": "code",
   "execution_count": 57,
   "id": "cf4f3349-2b3d-4e89-a2e1-a4453e419684",
   "metadata": {},
   "outputs": [],
   "source": [
    "# len(diff)"
   ]
  },
  {
   "cell_type": "code",
   "execution_count": 58,
   "id": "4659f8e2-71ee-438a-bfc4-c81ba0d5b748",
   "metadata": {},
   "outputs": [],
   "source": [
    "# diff_df = pd.DataFrame([])\n",
    "# diff_df['Rank'] = ranks\n",
    "# diff_df['diff'] = diff"
   ]
  },
  {
   "cell_type": "code",
   "execution_count": 59,
   "id": "0228a369-8e49-4fda-9244-5725c89a8e93",
   "metadata": {},
   "outputs": [],
   "source": [
    "# diff_df.head()"
   ]
  },
  {
   "cell_type": "code",
   "execution_count": 60,
   "id": "adcb1098-5feb-4b33-90ed-8180fdcfb078",
   "metadata": {},
   "outputs": [],
   "source": [
    "#next: add names?? "
   ]
  },
  {
   "cell_type": "code",
   "execution_count": 61,
   "id": "d4a0b9ea-d9d7-4d2e-9944-7fb5316d2997",
   "metadata": {},
   "outputs": [],
   "source": [
    "# diff_df = pd.DataFrame([])\n",
    "# diff_df['Rank'] = ranks\n",
    "# diff_df['diff'] = diff\n",
    "# diff_df['women'] = women_df['Name']\n",
    "# diff_df['men'] = men_df['Name']"
   ]
  },
  {
   "cell_type": "code",
   "execution_count": 62,
   "id": "4541ddca-fa18-4ef5-983d-095f80630912",
   "metadata": {
    "scrolled": true
   },
   "outputs": [],
   "source": [
    "# diff_df.head(50)"
   ]
  },
  {
   "cell_type": "code",
   "execution_count": 63,
   "id": "c3874d9a-8149-4677-8c9d-31b52613306a",
   "metadata": {},
   "outputs": [],
   "source": [
    "#NEXT: percentage difference "
   ]
  },
  {
   "cell_type": "code",
   "execution_count": 64,
   "id": "33dc3446-2f66-4843-8af8-23da62602c14",
   "metadata": {},
   "outputs": [],
   "source": [
    "#USE THE BELOW: \n",
    "ranks = []\n",
    "diff = []\n",
    "pct = []\n",
    "\n",
    "for index in women_df.index:\n",
    "    men_total = int(men_df.iloc[index]['Total'].replace(',', ''))\n",
    "    women_total = int(women_df.iloc[index]['Total'].replace(',', ''))\n",
    "    ranks.append(index + 1)\n",
    "    diff.append(men_total - women_total)\n",
    "    pct.append((women_total/men_total)*100)"
   ]
  },
  {
   "cell_type": "code",
   "execution_count": 65,
   "id": "7d7959bb-d71f-4d89-96e0-7cafecf0fed1",
   "metadata": {},
   "outputs": [],
   "source": [
    "diff_df = pd.DataFrame([])\n",
    "diff_df['Rank'] = ranks\n",
    "diff_df['diff'] = diff\n",
    "diff_df['pct'] = pct\n",
    "diff_df['women'] = women_df['Name']\n",
    "diff_df['men'] = men_df['Name']"
   ]
  },
  {
   "cell_type": "code",
   "execution_count": 66,
   "id": "49c1a862-9a43-434d-ae7e-c93b15e8191a",
   "metadata": {},
   "outputs": [],
   "source": [
    "#diff_df.head(20)"
   ]
  },
  {
   "cell_type": "code",
   "execution_count": 67,
   "id": "cb858b18-5cf9-4a51-990f-8c81202b4f53",
   "metadata": {},
   "outputs": [],
   "source": [
    "#diff_df.tail(30)"
   ]
  },
  {
   "cell_type": "code",
   "execution_count": 68,
   "id": "873ebf51-2f7b-4ea8-a9b0-c146b8205f83",
   "metadata": {},
   "outputs": [],
   "source": [
    "#SAVE THIS DIFF dataframe! --> feed to DW "
   ]
  },
  {
   "cell_type": "code",
   "execution_count": 69,
   "id": "def10487-2323-4959-b743-d41fa6d1ed84",
   "metadata": {},
   "outputs": [],
   "source": [
    "diff_df.to_csv(f\"files/{date}_diff.csv\")"
   ]
  },
  {
   "cell_type": "code",
   "execution_count": 70,
   "id": "43d732b8-8f1f-4298-bff1-a237ced519ca",
   "metadata": {},
   "outputs": [],
   "source": [
    "#ALSO SAVE TO UNDATED csv!!! "
   ]
  },
  {
   "cell_type": "code",
   "execution_count": 71,
   "id": "4346dd7c-d6dc-4244-8a32-66c7d123e837",
   "metadata": {},
   "outputs": [],
   "source": [
    "diff_df.to_csv(\"latest_diff.csv\")"
   ]
  },
  {
   "cell_type": "code",
   "execution_count": 72,
   "id": "7820b13f-47b7-4551-9e7d-08a7b6fea010",
   "metadata": {},
   "outputs": [
    {
     "name": "stdout",
     "output_type": "stream",
     "text": [
      "OCT9.ipynb                latest_diff.csv           pay_gap.ipynb\n",
      "README.md                 old_atp_live_ranking.csv  tennisOCT3.ipynb\n",
      "atp_live_ranking.csv      old_tennispay.ipynb       tennisgpt.ipynb\n",
      "\u001b[1m\u001b[36mfiles\u001b[m\u001b[m/                    old_tennisweekly.ipynb    weekly_race_to_top.csv\n"
     ]
    }
   ],
   "source": [
    "ls "
   ]
  },
  {
   "cell_type": "code",
   "execution_count": 74,
   "id": "50f9cf51-c1af-48f7-9547-861d25ee18fb",
   "metadata": {},
   "outputs": [
    {
     "name": "stdout",
     "output_type": "stream",
     "text": [
      "total 6448\n",
      "drwxr-xr-x  18 mfhan  staff      576 Oct 30 16:14 \u001b[1m\u001b[36m.\u001b[m\u001b[m/\n",
      "drwxr-xr-x  10 mfhan  staff      320 Oct 24 19:29 \u001b[1m\u001b[36m..\u001b[m\u001b[m/\n",
      "-rw-r--r--@  1 mfhan  staff    10244 Oct 30 15:23 .DS_Store\n",
      "drwxr-xr-x  15 mfhan  staff      480 Oct 30 16:14 \u001b[1m\u001b[36m.git\u001b[m\u001b[m/\n",
      "drwxr-xr-x   4 mfhan  staff      128 Oct 22 22:20 \u001b[1m\u001b[36m.github\u001b[m\u001b[m/\n",
      "drwxr-xr-x  12 mfhan  staff      384 Oct 22 22:21 \u001b[1m\u001b[36m.ipynb_checkpoints\u001b[m\u001b[m/\n",
      "-rw-r--r--   1 mfhan  staff    87443 Oct  9 19:05 OCT9.ipynb\n",
      "-rw-r--r--   1 mfhan  staff       20 Oct 22 20:26 README.md\n",
      "-rw-r--r--@  1 mfhan  staff       47 Sep 21 17:11 atp_live_ranking.csv\n",
      "drwxr-xr-x  25 mfhan  staff      800 Nov  3 14:01 \u001b[1m\u001b[36mfiles\u001b[m\u001b[m/\n",
      "-rw-r--r--@  1 mfhan  staff    34473 Nov  3 14:01 latest_diff.csv\n",
      "-rw-r--r--@  1 mfhan  staff       20 Sep 21 17:03 old_atp_live_ranking.csv\n",
      "-rw-r--r--   1 mfhan  staff    11970 Oct  9 14:40 old_tennispay.ipynb\n",
      "-rw-r--r--   1 mfhan  staff  1565449 Oct  3 16:06 old_tennisweekly.ipynb\n",
      "-rw-r--r--   1 mfhan  staff    66770 Oct 23 15:26 pay_gap.ipynb\n",
      "-rw-r--r--   1 mfhan  staff   813332 Oct  3 16:47 tennisOCT3.ipynb\n",
      "-rw-r--r--   1 mfhan  staff   679723 Oct  1 18:17 tennisgpt.ipynb\n",
      "-rw-r--r--   1 mfhan  staff     1244 Oct  3 16:35 weekly_race_to_top.csv\n"
     ]
    }
   ],
   "source": [
    "ls-la"
   ]
  },
  {
   "cell_type": "code",
   "execution_count": null,
   "id": "c952e7f1-8bd3-49f3-b90d-93596db71e8e",
   "metadata": {},
   "outputs": [],
   "source": []
  },
  {
   "cell_type": "code",
   "execution_count": null,
   "id": "06890c48-7f2c-40b7-a12e-fd527492fdbf",
   "metadata": {},
   "outputs": [],
   "source": []
  },
  {
   "cell_type": "code",
   "execution_count": null,
   "id": "030defa0-f858-4be1-98b3-2ed12dcc5c0d",
   "metadata": {},
   "outputs": [],
   "source": []
  },
  {
   "cell_type": "code",
   "execution_count": null,
   "id": "1c970a05-b941-4fce-b3f8-2ae3d9b5c35a",
   "metadata": {},
   "outputs": [],
   "source": []
  },
  {
   "cell_type": "code",
   "execution_count": null,
   "id": "fea42751-8553-485d-b15d-8ae0cfed0513",
   "metadata": {},
   "outputs": [],
   "source": []
  }
 ],
 "metadata": {
  "kernelspec": {
   "display_name": "Python 3 (ipykernel)",
   "language": "python",
   "name": "python3"
  },
  "language_info": {
   "codemirror_mode": {
    "name": "ipython",
    "version": 3
   },
   "file_extension": ".py",
   "mimetype": "text/x-python",
   "name": "python",
   "nbconvert_exporter": "python",
   "pygments_lexer": "ipython3",
   "version": "3.10.11"
  }
 },
 "nbformat": 4,
 "nbformat_minor": 5
}
